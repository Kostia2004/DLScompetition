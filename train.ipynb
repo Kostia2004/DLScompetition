{
  "nbformat": 4,
  "nbformat_minor": 0,
  "metadata": {
    "colab": {
      "name": "train.ipynb",
      "provenance": [],
      "collapsed_sections": [],
      "authorship_tag": "ABX9TyOHzv1Z9Art1UEOUy/DRKhi",
      "include_colab_link": true
    },
    "kernelspec": {
      "name": "python3",
      "display_name": "Python 3"
    },
    "language_info": {
      "name": "python"
    }
  },
  "cells": [
    {
      "cell_type": "markdown",
      "metadata": {
        "id": "view-in-github",
        "colab_type": "text"
      },
      "source": [
        "<a href=\"https://colab.research.google.com/github/Kostia2004/DLScompetition/blob/main/train.ipynb\" target=\"_parent\"><img src=\"https://colab.research.google.com/assets/colab-badge.svg\" alt=\"Open In Colab\"/></a>"
      ]
    },
    {
      "cell_type": "code",
      "execution_count": 35,
      "metadata": {
        "id": "iB6C6YAiunvw"
      },
      "outputs": [],
      "source": [
        "import pandas as pd\n",
        "import numpy as np\n",
        "from sklearn.model_selection import train_test_split\n",
        "import matplotlib.pyplot as plt"
      ]
    },
    {
      "cell_type": "code",
      "source": [
        "from google.colab import drive\n",
        "drive.mount('/content/drive')"
      ],
      "metadata": {
        "id": "KJg4GyylyAIM",
        "colab": {
          "base_uri": "https://localhost:8080/"
        },
        "outputId": "77767ca3-9fb3-479b-911a-d8b5c15da19f"
      },
      "execution_count": 2,
      "outputs": [
        {
          "output_type": "stream",
          "name": "stdout",
          "text": [
            "Mounted at /content/drive\n"
          ]
        }
      ]
    },
    {
      "cell_type": "code",
      "source": [
        "!unzip /content/drive/MyDrive/ЭэЭэЭэЭксперименты/Нейронки/ML\\ Kaggle/advanced-dls-spring-2021.zip"
      ],
      "metadata": {
        "id": "reFf-K6_zjto",
        "colab": {
          "base_uri": "https://localhost:8080/"
        },
        "outputId": "8dafe918-dd47-4ff6-d5f6-a0a15f34bc7d"
      },
      "execution_count": 3,
      "outputs": [
        {
          "output_type": "stream",
          "name": "stdout",
          "text": [
            "Archive:  /content/drive/MyDrive/ЭэЭэЭэЭксперименты/Нейронки/ML Kaggle/advanced-dls-spring-2021.zip\n",
            "  inflating: submission.csv          \n",
            "  inflating: test.csv                \n",
            "  inflating: train.csv               \n"
          ]
        }
      ]
    },
    {
      "cell_type": "code",
      "source": [
        "dataset = pd.read_csv('train.csv')\n",
        "dataset"
      ],
      "metadata": {
        "id": "mHwtFJXU08Ns",
        "colab": {
          "base_uri": "https://localhost:8080/",
          "height": 575
        },
        "outputId": "3005c4d6-ac88-4c68-8b66-3d105ab140da"
      },
      "execution_count": 4,
      "outputs": [
        {
          "output_type": "execute_result",
          "data": {
            "text/html": [
              "\n",
              "  <div id=\"df-5cd9a72e-f08d-4e92-ad00-52a69a8ffe2f\">\n",
              "    <div class=\"colab-df-container\">\n",
              "      <div>\n",
              "<style scoped>\n",
              "    .dataframe tbody tr th:only-of-type {\n",
              "        vertical-align: middle;\n",
              "    }\n",
              "\n",
              "    .dataframe tbody tr th {\n",
              "        vertical-align: top;\n",
              "    }\n",
              "\n",
              "    .dataframe thead th {\n",
              "        text-align: right;\n",
              "    }\n",
              "</style>\n",
              "<table border=\"1\" class=\"dataframe\">\n",
              "  <thead>\n",
              "    <tr style=\"text-align: right;\">\n",
              "      <th></th>\n",
              "      <th>ClientPeriod</th>\n",
              "      <th>MonthlySpending</th>\n",
              "      <th>TotalSpent</th>\n",
              "      <th>Sex</th>\n",
              "      <th>IsSeniorCitizen</th>\n",
              "      <th>HasPartner</th>\n",
              "      <th>HasChild</th>\n",
              "      <th>HasPhoneService</th>\n",
              "      <th>HasMultiplePhoneNumbers</th>\n",
              "      <th>HasInternetService</th>\n",
              "      <th>HasOnlineSecurityService</th>\n",
              "      <th>HasOnlineBackup</th>\n",
              "      <th>HasDeviceProtection</th>\n",
              "      <th>HasTechSupportAccess</th>\n",
              "      <th>HasOnlineTV</th>\n",
              "      <th>HasMovieSubscription</th>\n",
              "      <th>HasContractPhone</th>\n",
              "      <th>IsBillingPaperless</th>\n",
              "      <th>PaymentMethod</th>\n",
              "      <th>Churn</th>\n",
              "    </tr>\n",
              "  </thead>\n",
              "  <tbody>\n",
              "    <tr>\n",
              "      <th>0</th>\n",
              "      <td>55</td>\n",
              "      <td>19.50</td>\n",
              "      <td>1026.35</td>\n",
              "      <td>Male</td>\n",
              "      <td>0</td>\n",
              "      <td>Yes</td>\n",
              "      <td>Yes</td>\n",
              "      <td>Yes</td>\n",
              "      <td>No</td>\n",
              "      <td>No</td>\n",
              "      <td>No internet service</td>\n",
              "      <td>No internet service</td>\n",
              "      <td>No internet service</td>\n",
              "      <td>No internet service</td>\n",
              "      <td>No internet service</td>\n",
              "      <td>No internet service</td>\n",
              "      <td>One year</td>\n",
              "      <td>No</td>\n",
              "      <td>Mailed check</td>\n",
              "      <td>0</td>\n",
              "    </tr>\n",
              "    <tr>\n",
              "      <th>1</th>\n",
              "      <td>72</td>\n",
              "      <td>25.85</td>\n",
              "      <td>1872.2</td>\n",
              "      <td>Male</td>\n",
              "      <td>0</td>\n",
              "      <td>Yes</td>\n",
              "      <td>No</td>\n",
              "      <td>Yes</td>\n",
              "      <td>Yes</td>\n",
              "      <td>No</td>\n",
              "      <td>No internet service</td>\n",
              "      <td>No internet service</td>\n",
              "      <td>No internet service</td>\n",
              "      <td>No internet service</td>\n",
              "      <td>No internet service</td>\n",
              "      <td>No internet service</td>\n",
              "      <td>Two year</td>\n",
              "      <td>No</td>\n",
              "      <td>Credit card (automatic)</td>\n",
              "      <td>0</td>\n",
              "    </tr>\n",
              "    <tr>\n",
              "      <th>2</th>\n",
              "      <td>1</td>\n",
              "      <td>75.90</td>\n",
              "      <td>75.9</td>\n",
              "      <td>Male</td>\n",
              "      <td>0</td>\n",
              "      <td>No</td>\n",
              "      <td>No</td>\n",
              "      <td>Yes</td>\n",
              "      <td>No</td>\n",
              "      <td>Fiber optic</td>\n",
              "      <td>No</td>\n",
              "      <td>No</td>\n",
              "      <td>No</td>\n",
              "      <td>Yes</td>\n",
              "      <td>No</td>\n",
              "      <td>No</td>\n",
              "      <td>Month-to-month</td>\n",
              "      <td>Yes</td>\n",
              "      <td>Electronic check</td>\n",
              "      <td>1</td>\n",
              "    </tr>\n",
              "    <tr>\n",
              "      <th>3</th>\n",
              "      <td>32</td>\n",
              "      <td>79.30</td>\n",
              "      <td>2570</td>\n",
              "      <td>Female</td>\n",
              "      <td>1</td>\n",
              "      <td>Yes</td>\n",
              "      <td>No</td>\n",
              "      <td>Yes</td>\n",
              "      <td>Yes</td>\n",
              "      <td>Fiber optic</td>\n",
              "      <td>No</td>\n",
              "      <td>No</td>\n",
              "      <td>Yes</td>\n",
              "      <td>No</td>\n",
              "      <td>No</td>\n",
              "      <td>No</td>\n",
              "      <td>Month-to-month</td>\n",
              "      <td>No</td>\n",
              "      <td>Mailed check</td>\n",
              "      <td>0</td>\n",
              "    </tr>\n",
              "    <tr>\n",
              "      <th>4</th>\n",
              "      <td>60</td>\n",
              "      <td>115.25</td>\n",
              "      <td>6758.45</td>\n",
              "      <td>Female</td>\n",
              "      <td>0</td>\n",
              "      <td>Yes</td>\n",
              "      <td>Yes</td>\n",
              "      <td>Yes</td>\n",
              "      <td>Yes</td>\n",
              "      <td>Fiber optic</td>\n",
              "      <td>Yes</td>\n",
              "      <td>Yes</td>\n",
              "      <td>Yes</td>\n",
              "      <td>Yes</td>\n",
              "      <td>Yes</td>\n",
              "      <td>Yes</td>\n",
              "      <td>Two year</td>\n",
              "      <td>No</td>\n",
              "      <td>Credit card (automatic)</td>\n",
              "      <td>0</td>\n",
              "    </tr>\n",
              "    <tr>\n",
              "      <th>...</th>\n",
              "      <td>...</td>\n",
              "      <td>...</td>\n",
              "      <td>...</td>\n",
              "      <td>...</td>\n",
              "      <td>...</td>\n",
              "      <td>...</td>\n",
              "      <td>...</td>\n",
              "      <td>...</td>\n",
              "      <td>...</td>\n",
              "      <td>...</td>\n",
              "      <td>...</td>\n",
              "      <td>...</td>\n",
              "      <td>...</td>\n",
              "      <td>...</td>\n",
              "      <td>...</td>\n",
              "      <td>...</td>\n",
              "      <td>...</td>\n",
              "      <td>...</td>\n",
              "      <td>...</td>\n",
              "      <td>...</td>\n",
              "    </tr>\n",
              "    <tr>\n",
              "      <th>5277</th>\n",
              "      <td>3</td>\n",
              "      <td>30.40</td>\n",
              "      <td>82.15</td>\n",
              "      <td>Male</td>\n",
              "      <td>0</td>\n",
              "      <td>No</td>\n",
              "      <td>No</td>\n",
              "      <td>No</td>\n",
              "      <td>No phone service</td>\n",
              "      <td>DSL</td>\n",
              "      <td>No</td>\n",
              "      <td>No</td>\n",
              "      <td>No</td>\n",
              "      <td>Yes</td>\n",
              "      <td>No</td>\n",
              "      <td>No</td>\n",
              "      <td>Month-to-month</td>\n",
              "      <td>No</td>\n",
              "      <td>Electronic check</td>\n",
              "      <td>0</td>\n",
              "    </tr>\n",
              "    <tr>\n",
              "      <th>5278</th>\n",
              "      <td>50</td>\n",
              "      <td>44.45</td>\n",
              "      <td>2188.45</td>\n",
              "      <td>Male</td>\n",
              "      <td>0</td>\n",
              "      <td>Yes</td>\n",
              "      <td>No</td>\n",
              "      <td>No</td>\n",
              "      <td>No phone service</td>\n",
              "      <td>DSL</td>\n",
              "      <td>Yes</td>\n",
              "      <td>No</td>\n",
              "      <td>No</td>\n",
              "      <td>Yes</td>\n",
              "      <td>Yes</td>\n",
              "      <td>No</td>\n",
              "      <td>One year</td>\n",
              "      <td>Yes</td>\n",
              "      <td>Bank transfer (automatic)</td>\n",
              "      <td>0</td>\n",
              "    </tr>\n",
              "    <tr>\n",
              "      <th>5279</th>\n",
              "      <td>1</td>\n",
              "      <td>55.05</td>\n",
              "      <td>55.05</td>\n",
              "      <td>Male</td>\n",
              "      <td>0</td>\n",
              "      <td>No</td>\n",
              "      <td>No</td>\n",
              "      <td>Yes</td>\n",
              "      <td>No</td>\n",
              "      <td>DSL</td>\n",
              "      <td>No</td>\n",
              "      <td>No</td>\n",
              "      <td>Yes</td>\n",
              "      <td>Yes</td>\n",
              "      <td>No</td>\n",
              "      <td>No</td>\n",
              "      <td>Month-to-month</td>\n",
              "      <td>No</td>\n",
              "      <td>Mailed check</td>\n",
              "      <td>0</td>\n",
              "    </tr>\n",
              "    <tr>\n",
              "      <th>5280</th>\n",
              "      <td>29</td>\n",
              "      <td>76.00</td>\n",
              "      <td>2215.25</td>\n",
              "      <td>Female</td>\n",
              "      <td>0</td>\n",
              "      <td>No</td>\n",
              "      <td>No</td>\n",
              "      <td>Yes</td>\n",
              "      <td>Yes</td>\n",
              "      <td>Fiber optic</td>\n",
              "      <td>No</td>\n",
              "      <td>No</td>\n",
              "      <td>No</td>\n",
              "      <td>No</td>\n",
              "      <td>No</td>\n",
              "      <td>No</td>\n",
              "      <td>Month-to-month</td>\n",
              "      <td>Yes</td>\n",
              "      <td>Credit card (automatic)</td>\n",
              "      <td>0</td>\n",
              "    </tr>\n",
              "    <tr>\n",
              "      <th>5281</th>\n",
              "      <td>19</td>\n",
              "      <td>75.90</td>\n",
              "      <td>1375.6</td>\n",
              "      <td>Female</td>\n",
              "      <td>0</td>\n",
              "      <td>No</td>\n",
              "      <td>Yes</td>\n",
              "      <td>Yes</td>\n",
              "      <td>Yes</td>\n",
              "      <td>DSL</td>\n",
              "      <td>Yes</td>\n",
              "      <td>Yes</td>\n",
              "      <td>No</td>\n",
              "      <td>Yes</td>\n",
              "      <td>Yes</td>\n",
              "      <td>No</td>\n",
              "      <td>Month-to-month</td>\n",
              "      <td>Yes</td>\n",
              "      <td>Mailed check</td>\n",
              "      <td>0</td>\n",
              "    </tr>\n",
              "  </tbody>\n",
              "</table>\n",
              "<p>5282 rows × 20 columns</p>\n",
              "</div>\n",
              "      <button class=\"colab-df-convert\" onclick=\"convertToInteractive('df-5cd9a72e-f08d-4e92-ad00-52a69a8ffe2f')\"\n",
              "              title=\"Convert this dataframe to an interactive table.\"\n",
              "              style=\"display:none;\">\n",
              "        \n",
              "  <svg xmlns=\"http://www.w3.org/2000/svg\" height=\"24px\"viewBox=\"0 0 24 24\"\n",
              "       width=\"24px\">\n",
              "    <path d=\"M0 0h24v24H0V0z\" fill=\"none\"/>\n",
              "    <path d=\"M18.56 5.44l.94 2.06.94-2.06 2.06-.94-2.06-.94-.94-2.06-.94 2.06-2.06.94zm-11 1L8.5 8.5l.94-2.06 2.06-.94-2.06-.94L8.5 2.5l-.94 2.06-2.06.94zm10 10l.94 2.06.94-2.06 2.06-.94-2.06-.94-.94-2.06-.94 2.06-2.06.94z\"/><path d=\"M17.41 7.96l-1.37-1.37c-.4-.4-.92-.59-1.43-.59-.52 0-1.04.2-1.43.59L10.3 9.45l-7.72 7.72c-.78.78-.78 2.05 0 2.83L4 21.41c.39.39.9.59 1.41.59.51 0 1.02-.2 1.41-.59l7.78-7.78 2.81-2.81c.8-.78.8-2.07 0-2.86zM5.41 20L4 18.59l7.72-7.72 1.47 1.35L5.41 20z\"/>\n",
              "  </svg>\n",
              "      </button>\n",
              "      \n",
              "  <style>\n",
              "    .colab-df-container {\n",
              "      display:flex;\n",
              "      flex-wrap:wrap;\n",
              "      gap: 12px;\n",
              "    }\n",
              "\n",
              "    .colab-df-convert {\n",
              "      background-color: #E8F0FE;\n",
              "      border: none;\n",
              "      border-radius: 50%;\n",
              "      cursor: pointer;\n",
              "      display: none;\n",
              "      fill: #1967D2;\n",
              "      height: 32px;\n",
              "      padding: 0 0 0 0;\n",
              "      width: 32px;\n",
              "    }\n",
              "\n",
              "    .colab-df-convert:hover {\n",
              "      background-color: #E2EBFA;\n",
              "      box-shadow: 0px 1px 2px rgba(60, 64, 67, 0.3), 0px 1px 3px 1px rgba(60, 64, 67, 0.15);\n",
              "      fill: #174EA6;\n",
              "    }\n",
              "\n",
              "    [theme=dark] .colab-df-convert {\n",
              "      background-color: #3B4455;\n",
              "      fill: #D2E3FC;\n",
              "    }\n",
              "\n",
              "    [theme=dark] .colab-df-convert:hover {\n",
              "      background-color: #434B5C;\n",
              "      box-shadow: 0px 1px 3px 1px rgba(0, 0, 0, 0.15);\n",
              "      filter: drop-shadow(0px 1px 2px rgba(0, 0, 0, 0.3));\n",
              "      fill: #FFFFFF;\n",
              "    }\n",
              "  </style>\n",
              "\n",
              "      <script>\n",
              "        const buttonEl =\n",
              "          document.querySelector('#df-5cd9a72e-f08d-4e92-ad00-52a69a8ffe2f button.colab-df-convert');\n",
              "        buttonEl.style.display =\n",
              "          google.colab.kernel.accessAllowed ? 'block' : 'none';\n",
              "\n",
              "        async function convertToInteractive(key) {\n",
              "          const element = document.querySelector('#df-5cd9a72e-f08d-4e92-ad00-52a69a8ffe2f');\n",
              "          const dataTable =\n",
              "            await google.colab.kernel.invokeFunction('convertToInteractive',\n",
              "                                                     [key], {});\n",
              "          if (!dataTable) return;\n",
              "\n",
              "          const docLinkHtml = 'Like what you see? Visit the ' +\n",
              "            '<a target=\"_blank\" href=https://colab.research.google.com/notebooks/data_table.ipynb>data table notebook</a>'\n",
              "            + ' to learn more about interactive tables.';\n",
              "          element.innerHTML = '';\n",
              "          dataTable['output_type'] = 'display_data';\n",
              "          await google.colab.output.renderOutput(dataTable, element);\n",
              "          const docLink = document.createElement('div');\n",
              "          docLink.innerHTML = docLinkHtml;\n",
              "          element.appendChild(docLink);\n",
              "        }\n",
              "      </script>\n",
              "    </div>\n",
              "  </div>\n",
              "  "
            ],
            "text/plain": [
              "      ClientPeriod  MonthlySpending  ...              PaymentMethod Churn\n",
              "0               55            19.50  ...               Mailed check     0\n",
              "1               72            25.85  ...    Credit card (automatic)     0\n",
              "2                1            75.90  ...           Electronic check     1\n",
              "3               32            79.30  ...               Mailed check     0\n",
              "4               60           115.25  ...    Credit card (automatic)     0\n",
              "...            ...              ...  ...                        ...   ...\n",
              "5277             3            30.40  ...           Electronic check     0\n",
              "5278            50            44.45  ...  Bank transfer (automatic)     0\n",
              "5279             1            55.05  ...               Mailed check     0\n",
              "5280            29            76.00  ...    Credit card (automatic)     0\n",
              "5281            19            75.90  ...               Mailed check     0\n",
              "\n",
              "[5282 rows x 20 columns]"
            ]
          },
          "metadata": {},
          "execution_count": 4
        }
      ]
    },
    {
      "cell_type": "code",
      "source": [
        "for column in dataset.columns:\n",
        "  print(column, np.unique(np.asarray(dataset.loc[:,column])))"
      ],
      "metadata": {
        "colab": {
          "base_uri": "https://localhost:8080/"
        },
        "id": "S0nTg_rOyQxk",
        "outputId": "1ea27c86-4d4a-40ed-8a6e-1798d8cf94d3"
      },
      "execution_count": 5,
      "outputs": [
        {
          "output_type": "stream",
          "name": "stdout",
          "text": [
            "ClientPeriod [ 0  1  2  3  4  5  6  7  8  9 10 11 12 13 14 15 16 17 18 19 20 21 22 23\n",
            " 24 25 26 27 28 29 30 31 32 33 34 35 36 37 38 39 40 41 42 43 44 45 46 47\n",
            " 48 49 50 51 52 53 54 55 56 57 58 59 60 61 62 63 64 65 66 67 68 69 70 71\n",
            " 72]\n",
            "MonthlySpending [ 18.25  18.4   18.7  ... 118.6  118.65 118.75]\n",
            "TotalSpent [' ' '100.2' '100.25' ... '997.65' '998.1' '999.9']\n",
            "Sex ['Female' 'Male']\n",
            "IsSeniorCitizen [0 1]\n",
            "HasPartner ['No' 'Yes']\n",
            "HasChild ['No' 'Yes']\n",
            "HasPhoneService ['No' 'Yes']\n",
            "HasMultiplePhoneNumbers ['No' 'No phone service' 'Yes']\n",
            "HasInternetService ['DSL' 'Fiber optic' 'No']\n",
            "HasOnlineSecurityService ['No' 'No internet service' 'Yes']\n",
            "HasOnlineBackup ['No' 'No internet service' 'Yes']\n",
            "HasDeviceProtection ['No' 'No internet service' 'Yes']\n",
            "HasTechSupportAccess ['No' 'No internet service' 'Yes']\n",
            "HasOnlineTV ['No' 'No internet service' 'Yes']\n",
            "HasMovieSubscription ['No' 'No internet service' 'Yes']\n",
            "HasContractPhone ['Month-to-month' 'One year' 'Two year']\n",
            "IsBillingPaperless ['No' 'Yes']\n",
            "PaymentMethod ['Bank transfer (automatic)' 'Credit card (automatic)' 'Electronic check'\n",
            " 'Mailed check']\n",
            "Churn [0 1]\n"
          ]
        }
      ]
    },
    {
      "cell_type": "code",
      "source": [
        "def normalyze(dataset):\n",
        "  dataset = dataset.drop(dataset[dataset['TotalSpent'].isin([' '])].index, axis=0)\n",
        "  dataset = dataset.replace('No internet service', 'No')\n",
        "  dataset = dataset.replace('No phone service', 'No')\n",
        "  dataset['Sex'] = pd.factorize(dataset['Sex'])[0]\n",
        "  dataset['HasPartner'] = pd.factorize(dataset['HasPartner'])[0]\n",
        "  dataset['HasChild'] = pd.factorize(dataset['HasChild'])[0]\n",
        "  dataset['HasPhoneService'] = pd.factorize(dataset['HasPhoneService'])[0]\n",
        "  dataset['HasMultiplePhoneNumbers'] = pd.factorize(dataset['HasMultiplePhoneNumbers'])[0]\n",
        "  dataset['HasInternetService'] = pd.factorize(dataset['HasInternetService'])[0]\n",
        "  dataset['HasOnlineSecurityService'] = pd.factorize(dataset['HasOnlineSecurityService'])[0]\n",
        "  dataset['HasOnlineBackup'] = pd.factorize(dataset['HasOnlineBackup'])[0]\n",
        "  dataset['HasDeviceProtection'] = pd.factorize(dataset['HasDeviceProtection'])[0]\n",
        "  dataset['HasTechSupportAccess'] = pd.factorize(dataset['HasTechSupportAccess'])[0]\n",
        "  dataset['HasOnlineTV'] = pd.factorize(dataset['HasOnlineTV'])[0]\n",
        "  dataset['HasMovieSubscription'] = pd.factorize(dataset['HasMovieSubscription'])[0]\n",
        "  dataset['HasContractPhone'] = pd.factorize(dataset['HasContractPhone'])[0]\n",
        "  dataset['IsBillingPaperless'] = pd.factorize(dataset['IsBillingPaperless'])[0]\n",
        "  dataset['PaymentMethod'] = pd.factorize(dataset['PaymentMethod'])[0]\n",
        "  return dataset"
      ],
      "metadata": {
        "id": "33UUFfIf6wHA"
      },
      "execution_count": 6,
      "outputs": []
    },
    {
      "cell_type": "code",
      "source": [
        "dataset = normalyze(dataset)\n",
        "dataset"
      ],
      "metadata": {
        "colab": {
          "base_uri": "https://localhost:8080/",
          "height": 488
        },
        "id": "QaJimucmFuy8",
        "outputId": "23cbacfd-8fea-4e16-cf2b-c9ffc648ad7c"
      },
      "execution_count": 7,
      "outputs": [
        {
          "output_type": "execute_result",
          "data": {
            "text/html": [
              "\n",
              "  <div id=\"df-db9dd864-66d4-40c0-9d1b-178c19531a51\">\n",
              "    <div class=\"colab-df-container\">\n",
              "      <div>\n",
              "<style scoped>\n",
              "    .dataframe tbody tr th:only-of-type {\n",
              "        vertical-align: middle;\n",
              "    }\n",
              "\n",
              "    .dataframe tbody tr th {\n",
              "        vertical-align: top;\n",
              "    }\n",
              "\n",
              "    .dataframe thead th {\n",
              "        text-align: right;\n",
              "    }\n",
              "</style>\n",
              "<table border=\"1\" class=\"dataframe\">\n",
              "  <thead>\n",
              "    <tr style=\"text-align: right;\">\n",
              "      <th></th>\n",
              "      <th>ClientPeriod</th>\n",
              "      <th>MonthlySpending</th>\n",
              "      <th>TotalSpent</th>\n",
              "      <th>Sex</th>\n",
              "      <th>IsSeniorCitizen</th>\n",
              "      <th>HasPartner</th>\n",
              "      <th>HasChild</th>\n",
              "      <th>HasPhoneService</th>\n",
              "      <th>HasMultiplePhoneNumbers</th>\n",
              "      <th>HasInternetService</th>\n",
              "      <th>HasOnlineSecurityService</th>\n",
              "      <th>HasOnlineBackup</th>\n",
              "      <th>HasDeviceProtection</th>\n",
              "      <th>HasTechSupportAccess</th>\n",
              "      <th>HasOnlineTV</th>\n",
              "      <th>HasMovieSubscription</th>\n",
              "      <th>HasContractPhone</th>\n",
              "      <th>IsBillingPaperless</th>\n",
              "      <th>PaymentMethod</th>\n",
              "      <th>Churn</th>\n",
              "    </tr>\n",
              "  </thead>\n",
              "  <tbody>\n",
              "    <tr>\n",
              "      <th>0</th>\n",
              "      <td>55</td>\n",
              "      <td>19.50</td>\n",
              "      <td>1026.35</td>\n",
              "      <td>0</td>\n",
              "      <td>0</td>\n",
              "      <td>0</td>\n",
              "      <td>0</td>\n",
              "      <td>0</td>\n",
              "      <td>0</td>\n",
              "      <td>0</td>\n",
              "      <td>0</td>\n",
              "      <td>0</td>\n",
              "      <td>0</td>\n",
              "      <td>0</td>\n",
              "      <td>0</td>\n",
              "      <td>0</td>\n",
              "      <td>0</td>\n",
              "      <td>0</td>\n",
              "      <td>0</td>\n",
              "      <td>0</td>\n",
              "    </tr>\n",
              "    <tr>\n",
              "      <th>1</th>\n",
              "      <td>72</td>\n",
              "      <td>25.85</td>\n",
              "      <td>1872.2</td>\n",
              "      <td>0</td>\n",
              "      <td>0</td>\n",
              "      <td>0</td>\n",
              "      <td>1</td>\n",
              "      <td>0</td>\n",
              "      <td>1</td>\n",
              "      <td>0</td>\n",
              "      <td>0</td>\n",
              "      <td>0</td>\n",
              "      <td>0</td>\n",
              "      <td>0</td>\n",
              "      <td>0</td>\n",
              "      <td>0</td>\n",
              "      <td>1</td>\n",
              "      <td>0</td>\n",
              "      <td>1</td>\n",
              "      <td>0</td>\n",
              "    </tr>\n",
              "    <tr>\n",
              "      <th>2</th>\n",
              "      <td>1</td>\n",
              "      <td>75.90</td>\n",
              "      <td>75.9</td>\n",
              "      <td>0</td>\n",
              "      <td>0</td>\n",
              "      <td>1</td>\n",
              "      <td>1</td>\n",
              "      <td>0</td>\n",
              "      <td>0</td>\n",
              "      <td>1</td>\n",
              "      <td>0</td>\n",
              "      <td>0</td>\n",
              "      <td>0</td>\n",
              "      <td>1</td>\n",
              "      <td>0</td>\n",
              "      <td>0</td>\n",
              "      <td>2</td>\n",
              "      <td>1</td>\n",
              "      <td>2</td>\n",
              "      <td>1</td>\n",
              "    </tr>\n",
              "    <tr>\n",
              "      <th>3</th>\n",
              "      <td>32</td>\n",
              "      <td>79.30</td>\n",
              "      <td>2570</td>\n",
              "      <td>1</td>\n",
              "      <td>1</td>\n",
              "      <td>0</td>\n",
              "      <td>1</td>\n",
              "      <td>0</td>\n",
              "      <td>1</td>\n",
              "      <td>1</td>\n",
              "      <td>0</td>\n",
              "      <td>0</td>\n",
              "      <td>1</td>\n",
              "      <td>0</td>\n",
              "      <td>0</td>\n",
              "      <td>0</td>\n",
              "      <td>2</td>\n",
              "      <td>0</td>\n",
              "      <td>0</td>\n",
              "      <td>0</td>\n",
              "    </tr>\n",
              "    <tr>\n",
              "      <th>4</th>\n",
              "      <td>60</td>\n",
              "      <td>115.25</td>\n",
              "      <td>6758.45</td>\n",
              "      <td>1</td>\n",
              "      <td>0</td>\n",
              "      <td>0</td>\n",
              "      <td>0</td>\n",
              "      <td>0</td>\n",
              "      <td>1</td>\n",
              "      <td>1</td>\n",
              "      <td>1</td>\n",
              "      <td>1</td>\n",
              "      <td>1</td>\n",
              "      <td>1</td>\n",
              "      <td>1</td>\n",
              "      <td>1</td>\n",
              "      <td>1</td>\n",
              "      <td>0</td>\n",
              "      <td>1</td>\n",
              "      <td>0</td>\n",
              "    </tr>\n",
              "    <tr>\n",
              "      <th>...</th>\n",
              "      <td>...</td>\n",
              "      <td>...</td>\n",
              "      <td>...</td>\n",
              "      <td>...</td>\n",
              "      <td>...</td>\n",
              "      <td>...</td>\n",
              "      <td>...</td>\n",
              "      <td>...</td>\n",
              "      <td>...</td>\n",
              "      <td>...</td>\n",
              "      <td>...</td>\n",
              "      <td>...</td>\n",
              "      <td>...</td>\n",
              "      <td>...</td>\n",
              "      <td>...</td>\n",
              "      <td>...</td>\n",
              "      <td>...</td>\n",
              "      <td>...</td>\n",
              "      <td>...</td>\n",
              "      <td>...</td>\n",
              "    </tr>\n",
              "    <tr>\n",
              "      <th>5277</th>\n",
              "      <td>3</td>\n",
              "      <td>30.40</td>\n",
              "      <td>82.15</td>\n",
              "      <td>0</td>\n",
              "      <td>0</td>\n",
              "      <td>1</td>\n",
              "      <td>1</td>\n",
              "      <td>1</td>\n",
              "      <td>0</td>\n",
              "      <td>2</td>\n",
              "      <td>0</td>\n",
              "      <td>0</td>\n",
              "      <td>0</td>\n",
              "      <td>1</td>\n",
              "      <td>0</td>\n",
              "      <td>0</td>\n",
              "      <td>2</td>\n",
              "      <td>0</td>\n",
              "      <td>2</td>\n",
              "      <td>0</td>\n",
              "    </tr>\n",
              "    <tr>\n",
              "      <th>5278</th>\n",
              "      <td>50</td>\n",
              "      <td>44.45</td>\n",
              "      <td>2188.45</td>\n",
              "      <td>0</td>\n",
              "      <td>0</td>\n",
              "      <td>0</td>\n",
              "      <td>1</td>\n",
              "      <td>1</td>\n",
              "      <td>0</td>\n",
              "      <td>2</td>\n",
              "      <td>1</td>\n",
              "      <td>0</td>\n",
              "      <td>0</td>\n",
              "      <td>1</td>\n",
              "      <td>1</td>\n",
              "      <td>0</td>\n",
              "      <td>0</td>\n",
              "      <td>1</td>\n",
              "      <td>3</td>\n",
              "      <td>0</td>\n",
              "    </tr>\n",
              "    <tr>\n",
              "      <th>5279</th>\n",
              "      <td>1</td>\n",
              "      <td>55.05</td>\n",
              "      <td>55.05</td>\n",
              "      <td>0</td>\n",
              "      <td>0</td>\n",
              "      <td>1</td>\n",
              "      <td>1</td>\n",
              "      <td>0</td>\n",
              "      <td>0</td>\n",
              "      <td>2</td>\n",
              "      <td>0</td>\n",
              "      <td>0</td>\n",
              "      <td>1</td>\n",
              "      <td>1</td>\n",
              "      <td>0</td>\n",
              "      <td>0</td>\n",
              "      <td>2</td>\n",
              "      <td>0</td>\n",
              "      <td>0</td>\n",
              "      <td>0</td>\n",
              "    </tr>\n",
              "    <tr>\n",
              "      <th>5280</th>\n",
              "      <td>29</td>\n",
              "      <td>76.00</td>\n",
              "      <td>2215.25</td>\n",
              "      <td>1</td>\n",
              "      <td>0</td>\n",
              "      <td>1</td>\n",
              "      <td>1</td>\n",
              "      <td>0</td>\n",
              "      <td>1</td>\n",
              "      <td>1</td>\n",
              "      <td>0</td>\n",
              "      <td>0</td>\n",
              "      <td>0</td>\n",
              "      <td>0</td>\n",
              "      <td>0</td>\n",
              "      <td>0</td>\n",
              "      <td>2</td>\n",
              "      <td>1</td>\n",
              "      <td>1</td>\n",
              "      <td>0</td>\n",
              "    </tr>\n",
              "    <tr>\n",
              "      <th>5281</th>\n",
              "      <td>19</td>\n",
              "      <td>75.90</td>\n",
              "      <td>1375.6</td>\n",
              "      <td>1</td>\n",
              "      <td>0</td>\n",
              "      <td>1</td>\n",
              "      <td>0</td>\n",
              "      <td>0</td>\n",
              "      <td>1</td>\n",
              "      <td>2</td>\n",
              "      <td>1</td>\n",
              "      <td>1</td>\n",
              "      <td>0</td>\n",
              "      <td>1</td>\n",
              "      <td>1</td>\n",
              "      <td>0</td>\n",
              "      <td>2</td>\n",
              "      <td>1</td>\n",
              "      <td>0</td>\n",
              "      <td>0</td>\n",
              "    </tr>\n",
              "  </tbody>\n",
              "</table>\n",
              "<p>5273 rows × 20 columns</p>\n",
              "</div>\n",
              "      <button class=\"colab-df-convert\" onclick=\"convertToInteractive('df-db9dd864-66d4-40c0-9d1b-178c19531a51')\"\n",
              "              title=\"Convert this dataframe to an interactive table.\"\n",
              "              style=\"display:none;\">\n",
              "        \n",
              "  <svg xmlns=\"http://www.w3.org/2000/svg\" height=\"24px\"viewBox=\"0 0 24 24\"\n",
              "       width=\"24px\">\n",
              "    <path d=\"M0 0h24v24H0V0z\" fill=\"none\"/>\n",
              "    <path d=\"M18.56 5.44l.94 2.06.94-2.06 2.06-.94-2.06-.94-.94-2.06-.94 2.06-2.06.94zm-11 1L8.5 8.5l.94-2.06 2.06-.94-2.06-.94L8.5 2.5l-.94 2.06-2.06.94zm10 10l.94 2.06.94-2.06 2.06-.94-2.06-.94-.94-2.06-.94 2.06-2.06.94z\"/><path d=\"M17.41 7.96l-1.37-1.37c-.4-.4-.92-.59-1.43-.59-.52 0-1.04.2-1.43.59L10.3 9.45l-7.72 7.72c-.78.78-.78 2.05 0 2.83L4 21.41c.39.39.9.59 1.41.59.51 0 1.02-.2 1.41-.59l7.78-7.78 2.81-2.81c.8-.78.8-2.07 0-2.86zM5.41 20L4 18.59l7.72-7.72 1.47 1.35L5.41 20z\"/>\n",
              "  </svg>\n",
              "      </button>\n",
              "      \n",
              "  <style>\n",
              "    .colab-df-container {\n",
              "      display:flex;\n",
              "      flex-wrap:wrap;\n",
              "      gap: 12px;\n",
              "    }\n",
              "\n",
              "    .colab-df-convert {\n",
              "      background-color: #E8F0FE;\n",
              "      border: none;\n",
              "      border-radius: 50%;\n",
              "      cursor: pointer;\n",
              "      display: none;\n",
              "      fill: #1967D2;\n",
              "      height: 32px;\n",
              "      padding: 0 0 0 0;\n",
              "      width: 32px;\n",
              "    }\n",
              "\n",
              "    .colab-df-convert:hover {\n",
              "      background-color: #E2EBFA;\n",
              "      box-shadow: 0px 1px 2px rgba(60, 64, 67, 0.3), 0px 1px 3px 1px rgba(60, 64, 67, 0.15);\n",
              "      fill: #174EA6;\n",
              "    }\n",
              "\n",
              "    [theme=dark] .colab-df-convert {\n",
              "      background-color: #3B4455;\n",
              "      fill: #D2E3FC;\n",
              "    }\n",
              "\n",
              "    [theme=dark] .colab-df-convert:hover {\n",
              "      background-color: #434B5C;\n",
              "      box-shadow: 0px 1px 3px 1px rgba(0, 0, 0, 0.15);\n",
              "      filter: drop-shadow(0px 1px 2px rgba(0, 0, 0, 0.3));\n",
              "      fill: #FFFFFF;\n",
              "    }\n",
              "  </style>\n",
              "\n",
              "      <script>\n",
              "        const buttonEl =\n",
              "          document.querySelector('#df-db9dd864-66d4-40c0-9d1b-178c19531a51 button.colab-df-convert');\n",
              "        buttonEl.style.display =\n",
              "          google.colab.kernel.accessAllowed ? 'block' : 'none';\n",
              "\n",
              "        async function convertToInteractive(key) {\n",
              "          const element = document.querySelector('#df-db9dd864-66d4-40c0-9d1b-178c19531a51');\n",
              "          const dataTable =\n",
              "            await google.colab.kernel.invokeFunction('convertToInteractive',\n",
              "                                                     [key], {});\n",
              "          if (!dataTable) return;\n",
              "\n",
              "          const docLinkHtml = 'Like what you see? Visit the ' +\n",
              "            '<a target=\"_blank\" href=https://colab.research.google.com/notebooks/data_table.ipynb>data table notebook</a>'\n",
              "            + ' to learn more about interactive tables.';\n",
              "          element.innerHTML = '';\n",
              "          dataTable['output_type'] = 'display_data';\n",
              "          await google.colab.output.renderOutput(dataTable, element);\n",
              "          const docLink = document.createElement('div');\n",
              "          docLink.innerHTML = docLinkHtml;\n",
              "          element.appendChild(docLink);\n",
              "        }\n",
              "      </script>\n",
              "    </div>\n",
              "  </div>\n",
              "  "
            ],
            "text/plain": [
              "      ClientPeriod  MonthlySpending  ... PaymentMethod  Churn\n",
              "0               55            19.50  ...             0      0\n",
              "1               72            25.85  ...             1      0\n",
              "2                1            75.90  ...             2      1\n",
              "3               32            79.30  ...             0      0\n",
              "4               60           115.25  ...             1      0\n",
              "...            ...              ...  ...           ...    ...\n",
              "5277             3            30.40  ...             2      0\n",
              "5278            50            44.45  ...             3      0\n",
              "5279             1            55.05  ...             0      0\n",
              "5280            29            76.00  ...             1      0\n",
              "5281            19            75.90  ...             0      0\n",
              "\n",
              "[5273 rows x 20 columns]"
            ]
          },
          "metadata": {},
          "execution_count": 7
        }
      ]
    },
    {
      "cell_type": "code",
      "source": [
        "X_columns = dataset.columns[:-1]\n",
        "Y_columns = ['Churn']"
      ],
      "metadata": {
        "id": "n7d5qrEdL540"
      },
      "execution_count": 15,
      "outputs": []
    },
    {
      "cell_type": "code",
      "source": [
        "x = dataset[X_columns]\n",
        "y = dataset[Y_columns]"
      ],
      "metadata": {
        "id": "IhAoOItwWOII"
      },
      "execution_count": 16,
      "outputs": []
    },
    {
      "cell_type": "code",
      "source": [
        "x_train, x_test, y_train, y_test = train_test_split(x.values, y.values, test_size=0.3, random_state=17)"
      ],
      "metadata": {
        "id": "kcR25TyCWifQ"
      },
      "execution_count": 17,
      "outputs": []
    },
    {
      "cell_type": "markdown",
      "source": [
        "#Tree"
      ],
      "metadata": {
        "id": "J_cpAYrfZkBg"
      }
    },
    {
      "cell_type": "markdown",
      "source": [
        "##Train tree classifer"
      ],
      "metadata": {
        "id": "sDL2FUiRXttU"
      }
    },
    {
      "cell_type": "code",
      "source": [
        "from sklearn.tree import DecisionTreeClassifier\n",
        "tree = DecisionTreeClassifier()\n",
        "tree.fit(x_train, y_train)"
      ],
      "metadata": {
        "id": "h96zHnKRREVQ",
        "colab": {
          "base_uri": "https://localhost:8080/"
        },
        "outputId": "434fe077-7a5f-4c24-a538-4047acdb7d31"
      },
      "execution_count": 20,
      "outputs": [
        {
          "output_type": "execute_result",
          "data": {
            "text/plain": [
              "DecisionTreeClassifier()"
            ]
          },
          "metadata": {},
          "execution_count": 20
        }
      ]
    },
    {
      "cell_type": "code",
      "source": [
        "tree.get_depth()"
      ],
      "metadata": {
        "colab": {
          "base_uri": "https://localhost:8080/"
        },
        "id": "G7so7TQJYHEw",
        "outputId": "9713cdc4-404d-4d4a-e404-2e1be76b1739"
      },
      "execution_count": 21,
      "outputs": [
        {
          "output_type": "execute_result",
          "data": {
            "text/plain": [
              "23"
            ]
          },
          "metadata": {},
          "execution_count": 21
        }
      ]
    },
    {
      "cell_type": "markdown",
      "source": [
        "###Tree parameters setup"
      ],
      "metadata": {
        "id": "RIZLb47IaIeU"
      }
    },
    {
      "cell_type": "code",
      "source": [
        "from sklearn.model_selection import GridSearchCV, cross_val_score"
      ],
      "metadata": {
        "id": "w_pxq7vGaLn4"
      },
      "execution_count": 22,
      "outputs": []
    },
    {
      "cell_type": "code",
      "source": [
        "tree_params = {'max_depth': range(1,20),\n",
        "'max_features': range(2,19)}"
      ],
      "metadata": {
        "id": "4vqan9ZoaUm4"
      },
      "execution_count": 23,
      "outputs": []
    },
    {
      "cell_type": "code",
      "source": [
        "tree_grid = GridSearchCV(tree, tree_params,\n",
        "cv=5, n_jobs=-1,\n",
        "verbose=True)"
      ],
      "metadata": {
        "id": "0XKcpUwydG1I"
      },
      "execution_count": 24,
      "outputs": []
    },
    {
      "cell_type": "code",
      "source": [
        "tree_grid.fit(x_train, y_train)"
      ],
      "metadata": {
        "colab": {
          "base_uri": "https://localhost:8080/"
        },
        "id": "yEnl3lD0dcGE",
        "outputId": "bd651507-c234-48f0-8d8b-c4cb5df3fc29"
      },
      "execution_count": 25,
      "outputs": [
        {
          "output_type": "stream",
          "name": "stdout",
          "text": [
            "Fitting 5 folds for each of 323 candidates, totalling 1615 fits\n"
          ]
        },
        {
          "output_type": "execute_result",
          "data": {
            "text/plain": [
              "GridSearchCV(cv=5, estimator=DecisionTreeClassifier(), n_jobs=-1,\n",
              "             param_grid={'max_depth': range(1, 20),\n",
              "                         'max_features': range(2, 19)},\n",
              "             verbose=True)"
            ]
          },
          "metadata": {},
          "execution_count": 25
        }
      ]
    },
    {
      "cell_type": "code",
      "source": [
        "tree_grid.best_params_, tree_grid.best_score_"
      ],
      "metadata": {
        "colab": {
          "base_uri": "https://localhost:8080/"
        },
        "id": "UErabrNFdo0I",
        "outputId": "9c014d22-f18a-4dba-bf4d-06e346df49f2"
      },
      "execution_count": 26,
      "outputs": [
        {
          "output_type": "execute_result",
          "data": {
            "text/plain": [
              "({'max_depth': 4, 'max_features': 12}, 0.7905746797657421)"
            ]
          },
          "metadata": {},
          "execution_count": 26
        }
      ]
    },
    {
      "cell_type": "markdown",
      "source": [
        "##Test tree classifer"
      ],
      "metadata": {
        "id": "liIbwYN3XykQ"
      }
    },
    {
      "cell_type": "code",
      "source": [
        "from sklearn.metrics import accuracy_score\n",
        "from sklearn.metrics import roc_auc_score\n",
        "from sklearn.metrics import precision_score\n",
        "from sklearn.metrics import recall_score\n",
        "\n",
        "tree_pred = tree.predict(x_test)\n",
        "tree_acc = accuracy_score(y_test, tree_pred)\n",
        "tree_roc =  roc_auc_score(y_test, tree_pred)\n",
        "tree_precision =  precision_score(y_test, tree_pred)\n",
        "tree_recall = recall_score(y_test, tree_pred)\n",
        "print('accuracy:', tree_acc) \n",
        "print('roc_auc:', tree_roc)\n",
        "print('precision:', tree_precision)\n",
        "print('recall:', tree_recall) "
      ],
      "metadata": {
        "colab": {
          "base_uri": "https://localhost:8080/"
        },
        "id": "IFp9ZWqZX2U4",
        "outputId": "39e73941-c0e6-48bb-b0cc-4529330b1714"
      },
      "execution_count": 27,
      "outputs": [
        {
          "output_type": "stream",
          "name": "stdout",
          "text": [
            "accuracy: 0.7307206068268015\n",
            "roc_auc: 0.6542750448740188\n",
            "precision: 0.4568764568764569\n",
            "recall: 0.5038560411311054\n"
          ]
        }
      ]
    },
    {
      "cell_type": "code",
      "source": [
        "treegrid_acc = accuracy_score(y_test, tree_grid.predict(x_test))\n",
        "treegrid_roc = roc_auc_score(y_test, tree_grid.predict(x_test))\n",
        "treegrid_precision = precision_score(y_test, tree_grid.predict(x_test))\n",
        "treegrid_recall = recall_score(y_test, tree_grid.predict(x_test))\n",
        "print('accuracy:', treegrid_acc) #(TP+TN)/(TP+TN+FP+FN)\n",
        "print('roc_auc:', treegrid_roc)\n",
        "print('precision:', treegrid_precision) #TP/(TP+FP)\n",
        "print('recall:', treegrid_recall) #TP/(TP+FN)"
      ],
      "metadata": {
        "colab": {
          "base_uri": "https://localhost:8080/"
        },
        "id": "rPuSVMK6d3do",
        "outputId": "9eae9c66-ee85-41dc-a1a5-4d71f8b111f5"
      },
      "execution_count": 34,
      "outputs": [
        {
          "output_type": "stream",
          "name": "stdout",
          "text": [
            "accuracy: 0.7838179519595448\n",
            "roc_auc: 0.6227802713773791\n",
            "precision: 0.6230366492146597\n",
            "recall: 0.3059125964010283\n"
          ]
        }
      ]
    },
    {
      "cell_type": "code",
      "source": [
        "from sklearn.tree import export_graphviz\n",
        "import graphviz\n",
        "\n",
        "graph = export_graphviz(tree,\n",
        "                        feature_names=X_columns,\n",
        "                        max_depth = 4,\n",
        "                        filled=True,\n",
        "                        rounded=True)\n",
        "graphviz.Source(graph)"
      ],
      "metadata": {
        "colab": {
          "base_uri": "https://localhost:8080/",
          "height": 793
        },
        "id": "YR5dKkvYEiP4",
        "outputId": "0be53df9-483e-4d1a-8e1f-18ac65869fb6"
      },
      "execution_count": 29,
      "outputs": [
        {
          "output_type": "execute_result",
          "data": {
            "text/plain": [
              "<graphviz.files.Source at 0x7fd9b79dc390>"
            ],
            "image/svg+xml": "<?xml version=\"1.0\" encoding=\"UTF-8\" standalone=\"no\"?>\n<!DOCTYPE svg PUBLIC \"-//W3C//DTD SVG 1.1//EN\"\n \"http://www.w3.org/Graphics/SVG/1.1/DTD/svg11.dtd\">\n<!-- Generated by graphviz version 2.40.1 (20161225.0304)\n -->\n<!-- Title: Tree Pages: 1 -->\n<svg width=\"3029pt\" height=\"564pt\"\n viewBox=\"0.00 0.00 3029.00 564.00\" xmlns=\"http://www.w3.org/2000/svg\" xmlns:xlink=\"http://www.w3.org/1999/xlink\">\n<g id=\"graph0\" class=\"graph\" transform=\"scale(1 1) rotate(0) translate(4 560)\">\n<title>Tree</title>\n<polygon fill=\"#ffffff\" stroke=\"transparent\" points=\"-4,4 -4,-560 3025,-560 3025,4 -4,4\"/>\n<!-- 0 -->\n<g id=\"node1\" class=\"node\">\n<title>0</title>\n<path fill=\"#efb082\" stroke=\"#000000\" d=\"M1614,-556C1614,-556 1453,-556 1453,-556 1447,-556 1441,-550 1441,-544 1441,-544 1441,-500 1441,-500 1441,-494 1447,-488 1453,-488 1453,-488 1614,-488 1614,-488 1620,-488 1626,-494 1626,-500 1626,-500 1626,-544 1626,-544 1626,-550 1620,-556 1614,-556\"/>\n<text text-anchor=\"middle\" x=\"1533.5\" y=\"-540.8\" font-family=\"Helvetica,sans-Serif\" font-size=\"14.00\" fill=\"#000000\">HasContractPhone &lt;= 1.5</text>\n<text text-anchor=\"middle\" x=\"1533.5\" y=\"-525.8\" font-family=\"Helvetica,sans-Serif\" font-size=\"14.00\" fill=\"#000000\">gini = 0.394</text>\n<text text-anchor=\"middle\" x=\"1533.5\" y=\"-510.8\" font-family=\"Helvetica,sans-Serif\" font-size=\"14.00\" fill=\"#000000\">samples = 3691</text>\n<text text-anchor=\"middle\" x=\"1533.5\" y=\"-495.8\" font-family=\"Helvetica,sans-Serif\" font-size=\"14.00\" fill=\"#000000\">value = [2696, 995]</text>\n</g>\n<!-- 1 -->\n<g id=\"node2\" class=\"node\">\n<title>1</title>\n<path fill=\"#e78a47\" stroke=\"#000000\" d=\"M1241,-452C1241,-452 1066,-452 1066,-452 1060,-452 1054,-446 1054,-440 1054,-440 1054,-396 1054,-396 1054,-390 1060,-384 1066,-384 1066,-384 1241,-384 1241,-384 1247,-384 1253,-390 1253,-396 1253,-396 1253,-440 1253,-440 1253,-446 1247,-452 1241,-452\"/>\n<text text-anchor=\"middle\" x=\"1153.5\" y=\"-436.8\" font-family=\"Helvetica,sans-Serif\" font-size=\"14.00\" fill=\"#000000\">MonthlySpending &lt;= 95.225</text>\n<text text-anchor=\"middle\" x=\"1153.5\" y=\"-421.8\" font-family=\"Helvetica,sans-Serif\" font-size=\"14.00\" fill=\"#000000\">gini = 0.121</text>\n<text text-anchor=\"middle\" x=\"1153.5\" y=\"-406.8\" font-family=\"Helvetica,sans-Serif\" font-size=\"14.00\" fill=\"#000000\">samples = 1620</text>\n<text text-anchor=\"middle\" x=\"1153.5\" y=\"-391.8\" font-family=\"Helvetica,sans-Serif\" font-size=\"14.00\" fill=\"#000000\">value = [1515, 105]</text>\n</g>\n<!-- 0&#45;&gt;1 -->\n<g id=\"edge1\" class=\"edge\">\n<title>0&#45;&gt;1</title>\n<path fill=\"none\" stroke=\"#000000\" d=\"M1440.5415,-496.5587C1386.9601,-481.8943 1319.304,-463.3779 1263.1351,-448.0054\"/>\n<polygon fill=\"#000000\" stroke=\"#000000\" points=\"1263.7168,-444.5359 1253.1475,-445.272 1261.8689,-451.2876 1263.7168,-444.5359\"/>\n<text text-anchor=\"middle\" x=\"1265.5317\" y=\"-463.2891\" font-family=\"Helvetica,sans-Serif\" font-size=\"14.00\" fill=\"#000000\">True</text>\n</g>\n<!-- 284 -->\n<g id=\"node31\" class=\"node\">\n<title>284</title>\n<path fill=\"#f9e0ce\" stroke=\"#000000\" d=\"M1978,-452C1978,-452 1803,-452 1803,-452 1797,-452 1791,-446 1791,-440 1791,-440 1791,-396 1791,-396 1791,-390 1797,-384 1803,-384 1803,-384 1978,-384 1978,-384 1984,-384 1990,-390 1990,-396 1990,-396 1990,-440 1990,-440 1990,-446 1984,-452 1978,-452\"/>\n<text text-anchor=\"middle\" x=\"1890.5\" y=\"-436.8\" font-family=\"Helvetica,sans-Serif\" font-size=\"14.00\" fill=\"#000000\">MonthlySpending &lt;= 69.175</text>\n<text text-anchor=\"middle\" x=\"1890.5\" y=\"-421.8\" font-family=\"Helvetica,sans-Serif\" font-size=\"14.00\" fill=\"#000000\">gini = 0.49</text>\n<text text-anchor=\"middle\" x=\"1890.5\" y=\"-406.8\" font-family=\"Helvetica,sans-Serif\" font-size=\"14.00\" fill=\"#000000\">samples = 2071</text>\n<text text-anchor=\"middle\" x=\"1890.5\" y=\"-391.8\" font-family=\"Helvetica,sans-Serif\" font-size=\"14.00\" fill=\"#000000\">value = [1181, 890]</text>\n</g>\n<!-- 0&#45;&gt;284 -->\n<g id=\"edge30\" class=\"edge\">\n<title>0&#45;&gt;284</title>\n<path fill=\"none\" stroke=\"#000000\" d=\"M1626.3656,-494.9467C1673.7214,-481.1512 1731.6157,-464.2856 1781.1209,-449.8639\"/>\n<polygon fill=\"#000000\" stroke=\"#000000\" points=\"1782.2826,-453.1711 1790.9045,-447.0138 1780.3247,-446.4505 1782.2826,-453.1711\"/>\n<text text-anchor=\"middle\" x=\"1778.8766\" y=\"-465.2302\" font-family=\"Helvetica,sans-Serif\" font-size=\"14.00\" fill=\"#000000\">False</text>\n</g>\n<!-- 2 -->\n<g id=\"node3\" class=\"node\">\n<title>2</title>\n<path fill=\"#e68641\" stroke=\"#000000\" d=\"M716,-348C716,-348 555,-348 555,-348 549,-348 543,-342 543,-336 543,-336 543,-292 543,-292 543,-286 549,-280 555,-280 555,-280 716,-280 716,-280 722,-280 728,-286 728,-292 728,-292 728,-336 728,-336 728,-342 722,-348 716,-348\"/>\n<text text-anchor=\"middle\" x=\"635.5\" y=\"-332.8\" font-family=\"Helvetica,sans-Serif\" font-size=\"14.00\" fill=\"#000000\">HasContractPhone &lt;= 0.5</text>\n<text text-anchor=\"middle\" x=\"635.5\" y=\"-317.8\" font-family=\"Helvetica,sans-Serif\" font-size=\"14.00\" fill=\"#000000\">gini = 0.072</text>\n<text text-anchor=\"middle\" x=\"635.5\" y=\"-302.8\" font-family=\"Helvetica,sans-Serif\" font-size=\"14.00\" fill=\"#000000\">samples = 1261</text>\n<text text-anchor=\"middle\" x=\"635.5\" y=\"-287.8\" font-family=\"Helvetica,sans-Serif\" font-size=\"14.00\" fill=\"#000000\">value = [1214, 47]</text>\n</g>\n<!-- 1&#45;&gt;2 -->\n<g id=\"edge2\" class=\"edge\">\n<title>1&#45;&gt;2</title>\n<path fill=\"none\" stroke=\"#000000\" d=\"M1053.931,-398.0093C963.1949,-379.792 829.7324,-352.9965 738.0694,-334.5931\"/>\n<polygon fill=\"#000000\" stroke=\"#000000\" points=\"738.7134,-331.1526 728.2201,-332.6156 737.3355,-338.0157 738.7134,-331.1526\"/>\n</g>\n<!-- 171 -->\n<g id=\"node18\" class=\"node\">\n<title>171</title>\n<path fill=\"#ea995f\" stroke=\"#000000\" d=\"M1234,-348C1234,-348 1073,-348 1073,-348 1067,-348 1061,-342 1061,-336 1061,-336 1061,-292 1061,-292 1061,-286 1067,-280 1073,-280 1073,-280 1234,-280 1234,-280 1240,-280 1246,-286 1246,-292 1246,-292 1246,-336 1246,-336 1246,-342 1240,-348 1234,-348\"/>\n<text text-anchor=\"middle\" x=\"1153.5\" y=\"-332.8\" font-family=\"Helvetica,sans-Serif\" font-size=\"14.00\" fill=\"#000000\">HasContractPhone &lt;= 0.5</text>\n<text text-anchor=\"middle\" x=\"1153.5\" y=\"-317.8\" font-family=\"Helvetica,sans-Serif\" font-size=\"14.00\" fill=\"#000000\">gini = 0.271</text>\n<text text-anchor=\"middle\" x=\"1153.5\" y=\"-302.8\" font-family=\"Helvetica,sans-Serif\" font-size=\"14.00\" fill=\"#000000\">samples = 359</text>\n<text text-anchor=\"middle\" x=\"1153.5\" y=\"-287.8\" font-family=\"Helvetica,sans-Serif\" font-size=\"14.00\" fill=\"#000000\">value = [301, 58]</text>\n</g>\n<!-- 1&#45;&gt;171 -->\n<g id=\"edge17\" class=\"edge\">\n<title>1&#45;&gt;171</title>\n<path fill=\"none\" stroke=\"#000000\" d=\"M1153.5,-383.9465C1153.5,-375.776 1153.5,-366.9318 1153.5,-358.3697\"/>\n<polygon fill=\"#000000\" stroke=\"#000000\" points=\"1157.0001,-358.13 1153.5,-348.13 1150.0001,-358.13 1157.0001,-358.13\"/>\n</g>\n<!-- 3 -->\n<g id=\"node4\" class=\"node\">\n<title>3</title>\n<path fill=\"#e78b48\" stroke=\"#000000\" d=\"M429.5,-244C429.5,-244 247.5,-244 247.5,-244 241.5,-244 235.5,-238 235.5,-232 235.5,-232 235.5,-188 235.5,-188 235.5,-182 241.5,-176 247.5,-176 247.5,-176 429.5,-176 429.5,-176 435.5,-176 441.5,-182 441.5,-188 441.5,-188 441.5,-232 441.5,-232 441.5,-238 435.5,-244 429.5,-244\"/>\n<text text-anchor=\"middle\" x=\"338.5\" y=\"-228.8\" font-family=\"Helvetica,sans-Serif\" font-size=\"14.00\" fill=\"#000000\">HasMovieSubscription &lt;= 0.5</text>\n<text text-anchor=\"middle\" x=\"338.5\" y=\"-213.8\" font-family=\"Helvetica,sans-Serif\" font-size=\"14.00\" fill=\"#000000\">gini = 0.134</text>\n<text text-anchor=\"middle\" x=\"338.5\" y=\"-198.8\" font-family=\"Helvetica,sans-Serif\" font-size=\"14.00\" fill=\"#000000\">samples = 566</text>\n<text text-anchor=\"middle\" x=\"338.5\" y=\"-183.8\" font-family=\"Helvetica,sans-Serif\" font-size=\"14.00\" fill=\"#000000\">value = [525, 41]</text>\n</g>\n<!-- 2&#45;&gt;3 -->\n<g id=\"edge3\" class=\"edge\">\n<title>2&#45;&gt;3</title>\n<path fill=\"none\" stroke=\"#000000\" d=\"M542.749,-281.5215C511.9,-270.7192 477.2961,-258.602 445.4617,-247.4546\"/>\n<polygon fill=\"#000000\" stroke=\"#000000\" points=\"446.2731,-244.0304 435.6782,-244.0287 443.9596,-250.6371 446.2731,-244.0304\"/>\n</g>\n<!-- 140 -->\n<g id=\"node11\" class=\"node\">\n<title>140</title>\n<path fill=\"#e5823b\" stroke=\"#000000\" d=\"M719,-244C719,-244 552,-244 552,-244 546,-244 540,-238 540,-232 540,-232 540,-188 540,-188 540,-182 546,-176 552,-176 552,-176 719,-176 719,-176 725,-176 731,-182 731,-188 731,-188 731,-232 731,-232 731,-238 725,-244 719,-244\"/>\n<text text-anchor=\"middle\" x=\"635.5\" y=\"-228.8\" font-family=\"Helvetica,sans-Serif\" font-size=\"14.00\" fill=\"#000000\">MonthlySpending &lt;= 93.65</text>\n<text text-anchor=\"middle\" x=\"635.5\" y=\"-213.8\" font-family=\"Helvetica,sans-Serif\" font-size=\"14.00\" fill=\"#000000\">gini = 0.017</text>\n<text text-anchor=\"middle\" x=\"635.5\" y=\"-198.8\" font-family=\"Helvetica,sans-Serif\" font-size=\"14.00\" fill=\"#000000\">samples = 695</text>\n<text text-anchor=\"middle\" x=\"635.5\" y=\"-183.8\" font-family=\"Helvetica,sans-Serif\" font-size=\"14.00\" fill=\"#000000\">value = [689, 6]</text>\n</g>\n<!-- 2&#45;&gt;140 -->\n<g id=\"edge10\" class=\"edge\">\n<title>2&#45;&gt;140</title>\n<path fill=\"none\" stroke=\"#000000\" d=\"M635.5,-279.9465C635.5,-271.776 635.5,-262.9318 635.5,-254.3697\"/>\n<polygon fill=\"#000000\" stroke=\"#000000\" points=\"639.0001,-254.13 635.5,-244.13 632.0001,-254.13 639.0001,-254.13\"/>\n</g>\n<!-- 4 -->\n<g id=\"node5\" class=\"node\">\n<title>4</title>\n<path fill=\"#e68641\" stroke=\"#000000\" d=\"M227,-140C227,-140 12,-140 12,-140 6,-140 0,-134 0,-128 0,-128 0,-84 0,-84 0,-78 6,-72 12,-72 12,-72 227,-72 227,-72 233,-72 239,-78 239,-84 239,-84 239,-128 239,-128 239,-134 233,-140 227,-140\"/>\n<text text-anchor=\"middle\" x=\"119.5\" y=\"-124.8\" font-family=\"Helvetica,sans-Serif\" font-size=\"14.00\" fill=\"#000000\">HasMultiplePhoneNumbers &lt;= 0.5</text>\n<text text-anchor=\"middle\" x=\"119.5\" y=\"-109.8\" font-family=\"Helvetica,sans-Serif\" font-size=\"14.00\" fill=\"#000000\">gini = 0.077</text>\n<text text-anchor=\"middle\" x=\"119.5\" y=\"-94.8\" font-family=\"Helvetica,sans-Serif\" font-size=\"14.00\" fill=\"#000000\">samples = 398</text>\n<text text-anchor=\"middle\" x=\"119.5\" y=\"-79.8\" font-family=\"Helvetica,sans-Serif\" font-size=\"14.00\" fill=\"#000000\">value = [382, 16]</text>\n</g>\n<!-- 3&#45;&gt;4 -->\n<g id=\"edge4\" class=\"edge\">\n<title>3&#45;&gt;4</title>\n<path fill=\"none\" stroke=\"#000000\" d=\"M266.7912,-175.9465C245.6157,-165.8906 222.291,-154.814 200.5698,-144.4989\"/>\n<polygon fill=\"#000000\" stroke=\"#000000\" points=\"201.9045,-141.2582 191.3699,-140.13 198.9017,-147.5814 201.9045,-141.2582\"/>\n</g>\n<!-- 79 -->\n<g id=\"node8\" class=\"node\">\n<title>79</title>\n<path fill=\"#ea975c\" stroke=\"#000000\" d=\"M408,-140C408,-140 269,-140 269,-140 263,-140 257,-134 257,-128 257,-128 257,-84 257,-84 257,-78 263,-72 269,-72 269,-72 408,-72 408,-72 414,-72 420,-78 420,-84 420,-84 420,-128 420,-128 420,-134 414,-140 408,-140\"/>\n<text text-anchor=\"middle\" x=\"338.5\" y=\"-124.8\" font-family=\"Helvetica,sans-Serif\" font-size=\"14.00\" fill=\"#000000\">TotalSpent &lt;= 2349.65</text>\n<text text-anchor=\"middle\" x=\"338.5\" y=\"-109.8\" font-family=\"Helvetica,sans-Serif\" font-size=\"14.00\" fill=\"#000000\">gini = 0.253</text>\n<text text-anchor=\"middle\" x=\"338.5\" y=\"-94.8\" font-family=\"Helvetica,sans-Serif\" font-size=\"14.00\" fill=\"#000000\">samples = 168</text>\n<text text-anchor=\"middle\" x=\"338.5\" y=\"-79.8\" font-family=\"Helvetica,sans-Serif\" font-size=\"14.00\" fill=\"#000000\">value = [143, 25]</text>\n</g>\n<!-- 3&#45;&gt;79 -->\n<g id=\"edge7\" class=\"edge\">\n<title>3&#45;&gt;79</title>\n<path fill=\"none\" stroke=\"#000000\" d=\"M338.5,-175.9465C338.5,-167.776 338.5,-158.9318 338.5,-150.3697\"/>\n<polygon fill=\"#000000\" stroke=\"#000000\" points=\"342.0001,-150.13 338.5,-140.13 335.0001,-150.13 342.0001,-150.13\"/>\n</g>\n<!-- 5 -->\n<g id=\"node6\" class=\"node\">\n<title>5</title>\n<path fill=\"#c0c0c0\" stroke=\"#000000\" d=\"M98.5,-36C98.5,-36 68.5,-36 68.5,-36 62.5,-36 56.5,-30 56.5,-24 56.5,-24 56.5,-12 56.5,-12 56.5,-6 62.5,0 68.5,0 68.5,0 98.5,0 98.5,0 104.5,0 110.5,-6 110.5,-12 110.5,-12 110.5,-24 110.5,-24 110.5,-30 104.5,-36 98.5,-36\"/>\n<text text-anchor=\"middle\" x=\"83.5\" y=\"-14.3\" font-family=\"Helvetica,sans-Serif\" font-size=\"14.00\" fill=\"#000000\">(...)</text>\n</g>\n<!-- 4&#45;&gt;5 -->\n<g id=\"edge5\" class=\"edge\">\n<title>4&#45;&gt;5</title>\n<path fill=\"none\" stroke=\"#000000\" d=\"M105.5815,-71.9769C101.9977,-63.2167 98.1862,-53.8995 94.7564,-45.5157\"/>\n<polygon fill=\"#000000\" stroke=\"#000000\" points=\"97.968,-44.1222 90.9422,-36.192 91.4891,-46.7727 97.968,-44.1222\"/>\n</g>\n<!-- 46 -->\n<g id=\"node7\" class=\"node\">\n<title>46</title>\n<path fill=\"#c0c0c0\" stroke=\"#000000\" d=\"M170.5,-36C170.5,-36 140.5,-36 140.5,-36 134.5,-36 128.5,-30 128.5,-24 128.5,-24 128.5,-12 128.5,-12 128.5,-6 134.5,0 140.5,0 140.5,0 170.5,0 170.5,0 176.5,0 182.5,-6 182.5,-12 182.5,-12 182.5,-24 182.5,-24 182.5,-30 176.5,-36 170.5,-36\"/>\n<text text-anchor=\"middle\" x=\"155.5\" y=\"-14.3\" font-family=\"Helvetica,sans-Serif\" font-size=\"14.00\" fill=\"#000000\">(...)</text>\n</g>\n<!-- 4&#45;&gt;46 -->\n<g id=\"edge6\" class=\"edge\">\n<title>4&#45;&gt;46</title>\n<path fill=\"none\" stroke=\"#000000\" d=\"M133.4185,-71.9769C137.0023,-63.2167 140.8138,-53.8995 144.2436,-45.5157\"/>\n<polygon fill=\"#000000\" stroke=\"#000000\" points=\"147.5109,-46.7727 148.0578,-36.192 141.032,-44.1222 147.5109,-46.7727\"/>\n</g>\n<!-- 80 -->\n<g id=\"node9\" class=\"node\">\n<title>80</title>\n<path fill=\"#c0c0c0\" stroke=\"#000000\" d=\"M325.5,-36C325.5,-36 295.5,-36 295.5,-36 289.5,-36 283.5,-30 283.5,-24 283.5,-24 283.5,-12 283.5,-12 283.5,-6 289.5,0 295.5,0 295.5,0 325.5,0 325.5,0 331.5,0 337.5,-6 337.5,-12 337.5,-12 337.5,-24 337.5,-24 337.5,-30 331.5,-36 325.5,-36\"/>\n<text text-anchor=\"middle\" x=\"310.5\" y=\"-14.3\" font-family=\"Helvetica,sans-Serif\" font-size=\"14.00\" fill=\"#000000\">(...)</text>\n</g>\n<!-- 79&#45;&gt;80 -->\n<g id=\"edge8\" class=\"edge\">\n<title>79&#45;&gt;80</title>\n<path fill=\"none\" stroke=\"#000000\" d=\"M327.6745,-71.9769C324.9174,-63.3119 321.987,-54.102 319.3421,-45.7894\"/>\n<polygon fill=\"#000000\" stroke=\"#000000\" points=\"322.6557,-44.66 316.2883,-36.192 315.9852,-46.7825 322.6557,-44.66\"/>\n</g>\n<!-- 97 -->\n<g id=\"node10\" class=\"node\">\n<title>97</title>\n<path fill=\"#c0c0c0\" stroke=\"#000000\" d=\"M397.5,-36C397.5,-36 367.5,-36 367.5,-36 361.5,-36 355.5,-30 355.5,-24 355.5,-24 355.5,-12 355.5,-12 355.5,-6 361.5,0 367.5,0 367.5,0 397.5,0 397.5,0 403.5,0 409.5,-6 409.5,-12 409.5,-12 409.5,-24 409.5,-24 409.5,-30 403.5,-36 397.5,-36\"/>\n<text text-anchor=\"middle\" x=\"382.5\" y=\"-14.3\" font-family=\"Helvetica,sans-Serif\" font-size=\"14.00\" fill=\"#000000\">(...)</text>\n</g>\n<!-- 79&#45;&gt;97 -->\n<g id=\"edge9\" class=\"edge\">\n<title>79&#45;&gt;97</title>\n<path fill=\"none\" stroke=\"#000000\" d=\"M355.5115,-71.9769C359.9393,-63.1215 364.6516,-53.6969 368.8787,-45.2427\"/>\n<polygon fill=\"#000000\" stroke=\"#000000\" points=\"372.0623,-46.7015 373.404,-36.192 365.8013,-43.571 372.0623,-46.7015\"/>\n</g>\n<!-- 141 -->\n<g id=\"node12\" class=\"node\">\n<title>141</title>\n<path fill=\"#e5823a\" stroke=\"#000000\" d=\"M593,-140C593,-140 450,-140 450,-140 444,-140 438,-134 438,-128 438,-128 438,-84 438,-84 438,-78 444,-72 450,-72 450,-72 593,-72 593,-72 599,-72 605,-78 605,-84 605,-84 605,-128 605,-128 605,-134 599,-140 593,-140\"/>\n<text text-anchor=\"middle\" x=\"521.5\" y=\"-124.8\" font-family=\"Helvetica,sans-Serif\" font-size=\"14.00\" fill=\"#000000\">PaymentMethod &lt;= 1.5</text>\n<text text-anchor=\"middle\" x=\"521.5\" y=\"-109.8\" font-family=\"Helvetica,sans-Serif\" font-size=\"14.00\" fill=\"#000000\">gini = 0.015</text>\n<text text-anchor=\"middle\" x=\"521.5\" y=\"-94.8\" font-family=\"Helvetica,sans-Serif\" font-size=\"14.00\" fill=\"#000000\">samples = 682</text>\n<text text-anchor=\"middle\" x=\"521.5\" y=\"-79.8\" font-family=\"Helvetica,sans-Serif\" font-size=\"14.00\" fill=\"#000000\">value = [677, 5]</text>\n</g>\n<!-- 140&#45;&gt;141 -->\n<g id=\"edge11\" class=\"edge\">\n<title>140&#45;&gt;141</title>\n<path fill=\"none\" stroke=\"#000000\" d=\"M598.1721,-175.9465C588.035,-166.6986 576.9517,-156.5876 566.4417,-146.9994\"/>\n<polygon fill=\"#000000\" stroke=\"#000000\" points=\"568.6583,-144.284 558.9117,-140.13 563.9405,-149.4553 568.6583,-144.284\"/>\n</g>\n<!-- 168 -->\n<g id=\"node15\" class=\"node\">\n<title>168</title>\n<path fill=\"#e78c49\" stroke=\"#000000\" d=\"M793.5,-140C793.5,-140 635.5,-140 635.5,-140 629.5,-140 623.5,-134 623.5,-128 623.5,-128 623.5,-84 623.5,-84 623.5,-78 629.5,-72 635.5,-72 635.5,-72 793.5,-72 793.5,-72 799.5,-72 805.5,-78 805.5,-84 805.5,-84 805.5,-128 805.5,-128 805.5,-134 799.5,-140 793.5,-140\"/>\n<text text-anchor=\"middle\" x=\"714.5\" y=\"-124.8\" font-family=\"Helvetica,sans-Serif\" font-size=\"14.00\" fill=\"#000000\">MonthlySpending &lt;= 94.0</text>\n<text text-anchor=\"middle\" x=\"714.5\" y=\"-109.8\" font-family=\"Helvetica,sans-Serif\" font-size=\"14.00\" fill=\"#000000\">gini = 0.142</text>\n<text text-anchor=\"middle\" x=\"714.5\" y=\"-94.8\" font-family=\"Helvetica,sans-Serif\" font-size=\"14.00\" fill=\"#000000\">samples = 13</text>\n<text text-anchor=\"middle\" x=\"714.5\" y=\"-79.8\" font-family=\"Helvetica,sans-Serif\" font-size=\"14.00\" fill=\"#000000\">value = [12, 1]</text>\n</g>\n<!-- 140&#45;&gt;168 -->\n<g id=\"edge14\" class=\"edge\">\n<title>140&#45;&gt;168</title>\n<path fill=\"none\" stroke=\"#000000\" d=\"M661.3676,-175.9465C668.1196,-167.0578 675.4774,-157.3716 682.5059,-148.1188\"/>\n<polygon fill=\"#000000\" stroke=\"#000000\" points=\"685.3125,-150.2102 688.5743,-140.13 679.7383,-145.976 685.3125,-150.2102\"/>\n</g>\n<!-- 142 -->\n<g id=\"node13\" class=\"node\">\n<title>142</title>\n<path fill=\"#c0c0c0\" stroke=\"#000000\" d=\"M488.5,-36C488.5,-36 458.5,-36 458.5,-36 452.5,-36 446.5,-30 446.5,-24 446.5,-24 446.5,-12 446.5,-12 446.5,-6 452.5,0 458.5,0 458.5,0 488.5,0 488.5,0 494.5,0 500.5,-6 500.5,-12 500.5,-12 500.5,-24 500.5,-24 500.5,-30 494.5,-36 488.5,-36\"/>\n<text text-anchor=\"middle\" x=\"473.5\" y=\"-14.3\" font-family=\"Helvetica,sans-Serif\" font-size=\"14.00\" fill=\"#000000\">(...)</text>\n</g>\n<!-- 141&#45;&gt;142 -->\n<g id=\"edge12\" class=\"edge\">\n<title>141&#45;&gt;142</title>\n<path fill=\"none\" stroke=\"#000000\" d=\"M502.9419,-71.9769C498.1117,-63.1215 492.971,-53.6969 488.3596,-45.2427\"/>\n<polygon fill=\"#000000\" stroke=\"#000000\" points=\"491.2841,-43.2949 483.4229,-36.192 485.1388,-46.6469 491.2841,-43.2949\"/>\n</g>\n<!-- 149 -->\n<g id=\"node14\" class=\"node\">\n<title>149</title>\n<path fill=\"#c0c0c0\" stroke=\"#000000\" d=\"M560.5,-36C560.5,-36 530.5,-36 530.5,-36 524.5,-36 518.5,-30 518.5,-24 518.5,-24 518.5,-12 518.5,-12 518.5,-6 524.5,0 530.5,0 530.5,0 560.5,0 560.5,0 566.5,0 572.5,-6 572.5,-12 572.5,-12 572.5,-24 572.5,-24 572.5,-30 566.5,-36 560.5,-36\"/>\n<text text-anchor=\"middle\" x=\"545.5\" y=\"-14.3\" font-family=\"Helvetica,sans-Serif\" font-size=\"14.00\" fill=\"#000000\">(...)</text>\n</g>\n<!-- 141&#45;&gt;149 -->\n<g id=\"edge13\" class=\"edge\">\n<title>141&#45;&gt;149</title>\n<path fill=\"none\" stroke=\"#000000\" d=\"M530.779,-71.9769C533.1162,-63.4071 535.5988,-54.3043 537.8462,-46.0638\"/>\n<polygon fill=\"#000000\" stroke=\"#000000\" points=\"541.284,-46.7605 540.5386,-36.192 534.5306,-44.9187 541.284,-46.7605\"/>\n</g>\n<!-- 169 -->\n<g id=\"node16\" class=\"node\">\n<title>169</title>\n<path fill=\"#c0c0c0\" stroke=\"#000000\" d=\"M693.5,-36C693.5,-36 663.5,-36 663.5,-36 657.5,-36 651.5,-30 651.5,-24 651.5,-24 651.5,-12 651.5,-12 651.5,-6 657.5,0 663.5,0 663.5,0 693.5,0 693.5,0 699.5,0 705.5,-6 705.5,-12 705.5,-12 705.5,-24 705.5,-24 705.5,-30 699.5,-36 693.5,-36\"/>\n<text text-anchor=\"middle\" x=\"678.5\" y=\"-14.3\" font-family=\"Helvetica,sans-Serif\" font-size=\"14.00\" fill=\"#000000\">(...)</text>\n</g>\n<!-- 168&#45;&gt;169 -->\n<g id=\"edge15\" class=\"edge\">\n<title>168&#45;&gt;169</title>\n<path fill=\"none\" stroke=\"#000000\" d=\"M700.5815,-71.9769C696.9977,-63.2167 693.1862,-53.8995 689.7564,-45.5157\"/>\n<polygon fill=\"#000000\" stroke=\"#000000\" points=\"692.968,-44.1222 685.9422,-36.192 686.4891,-46.7727 692.968,-44.1222\"/>\n</g>\n<!-- 170 -->\n<g id=\"node17\" class=\"node\">\n<title>170</title>\n<path fill=\"#c0c0c0\" stroke=\"#000000\" d=\"M765.5,-36C765.5,-36 735.5,-36 735.5,-36 729.5,-36 723.5,-30 723.5,-24 723.5,-24 723.5,-12 723.5,-12 723.5,-6 729.5,0 735.5,0 735.5,0 765.5,0 765.5,0 771.5,0 777.5,-6 777.5,-12 777.5,-12 777.5,-24 777.5,-24 777.5,-30 771.5,-36 765.5,-36\"/>\n<text text-anchor=\"middle\" x=\"750.5\" y=\"-14.3\" font-family=\"Helvetica,sans-Serif\" font-size=\"14.00\" fill=\"#000000\">(...)</text>\n</g>\n<!-- 168&#45;&gt;170 -->\n<g id=\"edge16\" class=\"edge\">\n<title>168&#45;&gt;170</title>\n<path fill=\"none\" stroke=\"#000000\" d=\"M728.4185,-71.9769C732.0023,-63.2167 735.8138,-53.8995 739.2436,-45.5157\"/>\n<polygon fill=\"#000000\" stroke=\"#000000\" points=\"742.5109,-46.7727 743.0578,-36.192 736.032,-44.1222 742.5109,-46.7727\"/>\n</g>\n<!-- 172 -->\n<g id=\"node19\" class=\"node\">\n<title>172</title>\n<path fill=\"#eda978\" stroke=\"#000000\" d=\"M1124,-244C1124,-244 985,-244 985,-244 979,-244 973,-238 973,-232 973,-232 973,-188 973,-188 973,-182 979,-176 985,-176 985,-176 1124,-176 1124,-176 1130,-176 1136,-182 1136,-188 1136,-188 1136,-232 1136,-232 1136,-238 1130,-244 1124,-244\"/>\n<text text-anchor=\"middle\" x=\"1054.5\" y=\"-228.8\" font-family=\"Helvetica,sans-Serif\" font-size=\"14.00\" fill=\"#000000\">TotalSpent &lt;= 3388.95</text>\n<text text-anchor=\"middle\" x=\"1054.5\" y=\"-213.8\" font-family=\"Helvetica,sans-Serif\" font-size=\"14.00\" fill=\"#000000\">gini = 0.366</text>\n<text text-anchor=\"middle\" x=\"1054.5\" y=\"-198.8\" font-family=\"Helvetica,sans-Serif\" font-size=\"14.00\" fill=\"#000000\">samples = 170</text>\n<text text-anchor=\"middle\" x=\"1054.5\" y=\"-183.8\" font-family=\"Helvetica,sans-Serif\" font-size=\"14.00\" fill=\"#000000\">value = [129, 41]</text>\n</g>\n<!-- 171&#45;&gt;172 -->\n<g id=\"edge18\" class=\"edge\">\n<title>171&#45;&gt;172</title>\n<path fill=\"none\" stroke=\"#000000\" d=\"M1121.0837,-279.9465C1112.4514,-270.8782 1103.0289,-260.9799 1094.0605,-251.5585\"/>\n<polygon fill=\"#000000\" stroke=\"#000000\" points=\"1096.419,-248.9599 1086.9891,-244.13 1091.3489,-253.7863 1096.419,-248.9599\"/>\n</g>\n<!-- 243 -->\n<g id=\"node26\" class=\"node\">\n<title>243</title>\n<path fill=\"#e88d4d\" stroke=\"#000000\" d=\"M1341,-244C1341,-244 1166,-244 1166,-244 1160,-244 1154,-238 1154,-232 1154,-232 1154,-188 1154,-188 1154,-182 1160,-176 1166,-176 1166,-176 1341,-176 1341,-176 1347,-176 1353,-182 1353,-188 1353,-188 1353,-232 1353,-232 1353,-238 1347,-244 1341,-244\"/>\n<text text-anchor=\"middle\" x=\"1253.5\" y=\"-228.8\" font-family=\"Helvetica,sans-Serif\" font-size=\"14.00\" fill=\"#000000\">MonthlySpending &lt;= 95.375</text>\n<text text-anchor=\"middle\" x=\"1253.5\" y=\"-213.8\" font-family=\"Helvetica,sans-Serif\" font-size=\"14.00\" fill=\"#000000\">gini = 0.164</text>\n<text text-anchor=\"middle\" x=\"1253.5\" y=\"-198.8\" font-family=\"Helvetica,sans-Serif\" font-size=\"14.00\" fill=\"#000000\">samples = 189</text>\n<text text-anchor=\"middle\" x=\"1253.5\" y=\"-183.8\" font-family=\"Helvetica,sans-Serif\" font-size=\"14.00\" fill=\"#000000\">value = [172, 17]</text>\n</g>\n<!-- 171&#45;&gt;243 -->\n<g id=\"edge25\" class=\"edge\">\n<title>171&#45;&gt;243</title>\n<path fill=\"none\" stroke=\"#000000\" d=\"M1186.2437,-279.9465C1194.9633,-270.8782 1204.4809,-260.9799 1213.5399,-251.5585\"/>\n<polygon fill=\"#000000\" stroke=\"#000000\" points=\"1216.2745,-253.7642 1220.6827,-244.13 1211.2287,-248.9125 1216.2745,-253.7642\"/>\n</g>\n<!-- 173 -->\n<g id=\"node20\" class=\"node\">\n<title>173</title>\n<path fill=\"#c6e3f8\" stroke=\"#000000\" d=\"M979,-140C979,-140 836,-140 836,-140 830,-140 824,-134 824,-128 824,-128 824,-84 824,-84 824,-78 830,-72 836,-72 836,-72 979,-72 979,-72 985,-72 991,-78 991,-84 991,-84 991,-128 991,-128 991,-134 985,-140 979,-140\"/>\n<text text-anchor=\"middle\" x=\"907.5\" y=\"-124.8\" font-family=\"Helvetica,sans-Serif\" font-size=\"14.00\" fill=\"#000000\">PaymentMethod &lt;= 2.5</text>\n<text text-anchor=\"middle\" x=\"907.5\" y=\"-109.8\" font-family=\"Helvetica,sans-Serif\" font-size=\"14.00\" fill=\"#000000\">gini = 0.486</text>\n<text text-anchor=\"middle\" x=\"907.5\" y=\"-94.8\" font-family=\"Helvetica,sans-Serif\" font-size=\"14.00\" fill=\"#000000\">samples = 12</text>\n<text text-anchor=\"middle\" x=\"907.5\" y=\"-79.8\" font-family=\"Helvetica,sans-Serif\" font-size=\"14.00\" fill=\"#000000\">value = [5, 7]</text>\n</g>\n<!-- 172&#45;&gt;173 -->\n<g id=\"edge19\" class=\"edge\">\n<title>172&#45;&gt;173</title>\n<path fill=\"none\" stroke=\"#000000\" d=\"M1006.3667,-175.9465C992.9144,-166.4293 978.17,-155.9978 964.2688,-146.163\"/>\n<polygon fill=\"#000000\" stroke=\"#000000\" points=\"965.9264,-143.0483 955.7414,-140.13 961.8835,-148.7628 965.9264,-143.0483\"/>\n</g>\n<!-- 182 -->\n<g id=\"node23\" class=\"node\">\n<title>182</title>\n<path fill=\"#eca46f\" stroke=\"#000000\" d=\"M1145.5,-140C1145.5,-140 1021.5,-140 1021.5,-140 1015.5,-140 1009.5,-134 1009.5,-128 1009.5,-128 1009.5,-84 1009.5,-84 1009.5,-78 1015.5,-72 1021.5,-72 1021.5,-72 1145.5,-72 1145.5,-72 1151.5,-72 1157.5,-78 1157.5,-84 1157.5,-84 1157.5,-128 1157.5,-128 1157.5,-134 1151.5,-140 1145.5,-140\"/>\n<text text-anchor=\"middle\" x=\"1083.5\" y=\"-124.8\" font-family=\"Helvetica,sans-Serif\" font-size=\"14.00\" fill=\"#000000\">HasOnlineTV &lt;= 0.5</text>\n<text text-anchor=\"middle\" x=\"1083.5\" y=\"-109.8\" font-family=\"Helvetica,sans-Serif\" font-size=\"14.00\" fill=\"#000000\">gini = 0.338</text>\n<text text-anchor=\"middle\" x=\"1083.5\" y=\"-94.8\" font-family=\"Helvetica,sans-Serif\" font-size=\"14.00\" fill=\"#000000\">samples = 158</text>\n<text text-anchor=\"middle\" x=\"1083.5\" y=\"-79.8\" font-family=\"Helvetica,sans-Serif\" font-size=\"14.00\" fill=\"#000000\">value = [124, 34]</text>\n</g>\n<!-- 172&#45;&gt;182 -->\n<g id=\"edge22\" class=\"edge\">\n<title>172&#45;&gt;182</title>\n<path fill=\"none\" stroke=\"#000000\" d=\"M1063.9957,-175.9465C1066.3241,-167.5965 1068.8487,-158.5427 1071.285,-149.8056\"/>\n<polygon fill=\"#000000\" stroke=\"#000000\" points=\"1074.6683,-150.7026 1073.983,-140.13 1067.9255,-148.8224 1074.6683,-150.7026\"/>\n</g>\n<!-- 174 -->\n<g id=\"node21\" class=\"node\">\n<title>174</title>\n<path fill=\"#c0c0c0\" stroke=\"#000000\" d=\"M894.5,-36C894.5,-36 864.5,-36 864.5,-36 858.5,-36 852.5,-30 852.5,-24 852.5,-24 852.5,-12 852.5,-12 852.5,-6 858.5,0 864.5,0 864.5,0 894.5,0 894.5,0 900.5,0 906.5,-6 906.5,-12 906.5,-12 906.5,-24 906.5,-24 906.5,-30 900.5,-36 894.5,-36\"/>\n<text text-anchor=\"middle\" x=\"879.5\" y=\"-14.3\" font-family=\"Helvetica,sans-Serif\" font-size=\"14.00\" fill=\"#000000\">(...)</text>\n</g>\n<!-- 173&#45;&gt;174 -->\n<g id=\"edge20\" class=\"edge\">\n<title>173&#45;&gt;174</title>\n<path fill=\"none\" stroke=\"#000000\" d=\"M896.6745,-71.9769C893.9174,-63.3119 890.987,-54.102 888.3421,-45.7894\"/>\n<polygon fill=\"#000000\" stroke=\"#000000\" points=\"891.6557,-44.66 885.2883,-36.192 884.9852,-46.7825 891.6557,-44.66\"/>\n</g>\n<!-- 179 -->\n<g id=\"node22\" class=\"node\">\n<title>179</title>\n<path fill=\"#c0c0c0\" stroke=\"#000000\" d=\"M966.5,-36C966.5,-36 936.5,-36 936.5,-36 930.5,-36 924.5,-30 924.5,-24 924.5,-24 924.5,-12 924.5,-12 924.5,-6 930.5,0 936.5,0 936.5,0 966.5,0 966.5,0 972.5,0 978.5,-6 978.5,-12 978.5,-12 978.5,-24 978.5,-24 978.5,-30 972.5,-36 966.5,-36\"/>\n<text text-anchor=\"middle\" x=\"951.5\" y=\"-14.3\" font-family=\"Helvetica,sans-Serif\" font-size=\"14.00\" fill=\"#000000\">(...)</text>\n</g>\n<!-- 173&#45;&gt;179 -->\n<g id=\"edge21\" class=\"edge\">\n<title>173&#45;&gt;179</title>\n<path fill=\"none\" stroke=\"#000000\" d=\"M924.5115,-71.9769C928.9393,-63.1215 933.6516,-53.6969 937.8787,-45.2427\"/>\n<polygon fill=\"#000000\" stroke=\"#000000\" points=\"941.0623,-46.7015 942.404,-36.192 934.8013,-43.571 941.0623,-46.7015\"/>\n</g>\n<!-- 183 -->\n<g id=\"node24\" class=\"node\">\n<title>183</title>\n<path fill=\"#c0c0c0\" stroke=\"#000000\" d=\"M1054.5,-36C1054.5,-36 1024.5,-36 1024.5,-36 1018.5,-36 1012.5,-30 1012.5,-24 1012.5,-24 1012.5,-12 1012.5,-12 1012.5,-6 1018.5,0 1024.5,0 1024.5,0 1054.5,0 1054.5,0 1060.5,0 1066.5,-6 1066.5,-12 1066.5,-12 1066.5,-24 1066.5,-24 1066.5,-30 1060.5,-36 1054.5,-36\"/>\n<text text-anchor=\"middle\" x=\"1039.5\" y=\"-14.3\" font-family=\"Helvetica,sans-Serif\" font-size=\"14.00\" fill=\"#000000\">(...)</text>\n</g>\n<!-- 182&#45;&gt;183 -->\n<g id=\"edge23\" class=\"edge\">\n<title>182&#45;&gt;183</title>\n<path fill=\"none\" stroke=\"#000000\" d=\"M1066.4885,-71.9769C1062.0607,-63.1215 1057.3484,-53.6969 1053.1213,-45.2427\"/>\n<polygon fill=\"#000000\" stroke=\"#000000\" points=\"1056.1987,-43.571 1048.596,-36.192 1049.9377,-46.7015 1056.1987,-43.571\"/>\n</g>\n<!-- 184 -->\n<g id=\"node25\" class=\"node\">\n<title>184</title>\n<path fill=\"#c0c0c0\" stroke=\"#000000\" d=\"M1126.5,-36C1126.5,-36 1096.5,-36 1096.5,-36 1090.5,-36 1084.5,-30 1084.5,-24 1084.5,-24 1084.5,-12 1084.5,-12 1084.5,-6 1090.5,0 1096.5,0 1096.5,0 1126.5,0 1126.5,0 1132.5,0 1138.5,-6 1138.5,-12 1138.5,-12 1138.5,-24 1138.5,-24 1138.5,-30 1132.5,-36 1126.5,-36\"/>\n<text text-anchor=\"middle\" x=\"1111.5\" y=\"-14.3\" font-family=\"Helvetica,sans-Serif\" font-size=\"14.00\" fill=\"#000000\">(...)</text>\n</g>\n<!-- 182&#45;&gt;184 -->\n<g id=\"edge24\" class=\"edge\">\n<title>182&#45;&gt;184</title>\n<path fill=\"none\" stroke=\"#000000\" d=\"M1094.3255,-71.9769C1097.0826,-63.3119 1100.013,-54.102 1102.6579,-45.7894\"/>\n<polygon fill=\"#000000\" stroke=\"#000000\" points=\"1106.0148,-46.7825 1105.7117,-36.192 1099.3443,-44.66 1106.0148,-46.7825\"/>\n</g>\n<!-- 244 -->\n<g id=\"node27\" class=\"node\">\n<title>244</title>\n<path fill=\"#399de5\" stroke=\"#000000\" d=\"M1263,-132.5C1263,-132.5 1188,-132.5 1188,-132.5 1182,-132.5 1176,-126.5 1176,-120.5 1176,-120.5 1176,-91.5 1176,-91.5 1176,-85.5 1182,-79.5 1188,-79.5 1188,-79.5 1263,-79.5 1263,-79.5 1269,-79.5 1275,-85.5 1275,-91.5 1275,-91.5 1275,-120.5 1275,-120.5 1275,-126.5 1269,-132.5 1263,-132.5\"/>\n<text text-anchor=\"middle\" x=\"1225.5\" y=\"-117.3\" font-family=\"Helvetica,sans-Serif\" font-size=\"14.00\" fill=\"#000000\">gini = 0.0</text>\n<text text-anchor=\"middle\" x=\"1225.5\" y=\"-102.3\" font-family=\"Helvetica,sans-Serif\" font-size=\"14.00\" fill=\"#000000\">samples = 1</text>\n<text text-anchor=\"middle\" x=\"1225.5\" y=\"-87.3\" font-family=\"Helvetica,sans-Serif\" font-size=\"14.00\" fill=\"#000000\">value = [0, 1]</text>\n</g>\n<!-- 243&#45;&gt;244 -->\n<g id=\"edge26\" class=\"edge\">\n<title>243&#45;&gt;244</title>\n<path fill=\"none\" stroke=\"#000000\" d=\"M1244.3318,-175.9465C1241.4255,-165.1519 1238.2026,-153.1813 1235.2566,-142.2389\"/>\n<polygon fill=\"#000000\" stroke=\"#000000\" points=\"1238.6254,-141.2884 1232.646,-132.5422 1231.8661,-143.1083 1238.6254,-141.2884\"/>\n</g>\n<!-- 245 -->\n<g id=\"node28\" class=\"node\">\n<title>245</title>\n<path fill=\"#e78d4b\" stroke=\"#000000\" d=\"M1452,-140C1452,-140 1305,-140 1305,-140 1299,-140 1293,-134 1293,-128 1293,-128 1293,-84 1293,-84 1293,-78 1299,-72 1305,-72 1305,-72 1452,-72 1452,-72 1458,-72 1464,-78 1464,-84 1464,-84 1464,-128 1464,-128 1464,-134 1458,-140 1452,-140\"/>\n<text text-anchor=\"middle\" x=\"1378.5\" y=\"-124.8\" font-family=\"Helvetica,sans-Serif\" font-size=\"14.00\" fill=\"#000000\">TotalSpent &lt;= 7862.525</text>\n<text text-anchor=\"middle\" x=\"1378.5\" y=\"-109.8\" font-family=\"Helvetica,sans-Serif\" font-size=\"14.00\" fill=\"#000000\">gini = 0.156</text>\n<text text-anchor=\"middle\" x=\"1378.5\" y=\"-94.8\" font-family=\"Helvetica,sans-Serif\" font-size=\"14.00\" fill=\"#000000\">samples = 188</text>\n<text text-anchor=\"middle\" x=\"1378.5\" y=\"-79.8\" font-family=\"Helvetica,sans-Serif\" font-size=\"14.00\" fill=\"#000000\">value = [172, 16]</text>\n</g>\n<!-- 243&#45;&gt;245 -->\n<g id=\"edge27\" class=\"edge\">\n<title>243&#45;&gt;245</title>\n<path fill=\"none\" stroke=\"#000000\" d=\"M1294.4297,-175.9465C1305.6528,-166.6088 1317.9337,-156.3911 1329.5573,-146.7203\"/>\n<polygon fill=\"#000000\" stroke=\"#000000\" points=\"1332.0296,-149.2164 1337.4784,-140.13 1327.5526,-143.8353 1332.0296,-149.2164\"/>\n</g>\n<!-- 246 -->\n<g id=\"node29\" class=\"node\">\n<title>246</title>\n<path fill=\"#c0c0c0\" stroke=\"#000000\" d=\"M1350.5,-36C1350.5,-36 1320.5,-36 1320.5,-36 1314.5,-36 1308.5,-30 1308.5,-24 1308.5,-24 1308.5,-12 1308.5,-12 1308.5,-6 1314.5,0 1320.5,0 1320.5,0 1350.5,0 1350.5,0 1356.5,0 1362.5,-6 1362.5,-12 1362.5,-12 1362.5,-24 1362.5,-24 1362.5,-30 1356.5,-36 1350.5,-36\"/>\n<text text-anchor=\"middle\" x=\"1335.5\" y=\"-14.3\" font-family=\"Helvetica,sans-Serif\" font-size=\"14.00\" fill=\"#000000\">(...)</text>\n</g>\n<!-- 245&#45;&gt;246 -->\n<g id=\"edge28\" class=\"edge\">\n<title>245&#45;&gt;246</title>\n<path fill=\"none\" stroke=\"#000000\" d=\"M1361.8751,-71.9769C1357.548,-63.1215 1352.9428,-53.6969 1348.8118,-45.2427\"/>\n<polygon fill=\"#000000\" stroke=\"#000000\" points=\"1351.9242,-43.6401 1344.3892,-36.192 1345.6349,-46.7133 1351.9242,-43.6401\"/>\n</g>\n<!-- 283 -->\n<g id=\"node30\" class=\"node\">\n<title>283</title>\n<path fill=\"#c0c0c0\" stroke=\"#000000\" d=\"M1422.5,-36C1422.5,-36 1392.5,-36 1392.5,-36 1386.5,-36 1380.5,-30 1380.5,-24 1380.5,-24 1380.5,-12 1380.5,-12 1380.5,-6 1386.5,0 1392.5,0 1392.5,0 1422.5,0 1422.5,0 1428.5,0 1434.5,-6 1434.5,-12 1434.5,-12 1434.5,-24 1434.5,-24 1434.5,-30 1428.5,-36 1422.5,-36\"/>\n<text text-anchor=\"middle\" x=\"1407.5\" y=\"-14.3\" font-family=\"Helvetica,sans-Serif\" font-size=\"14.00\" fill=\"#000000\">(...)</text>\n</g>\n<!-- 245&#45;&gt;283 -->\n<g id=\"edge29\" class=\"edge\">\n<title>245&#45;&gt;283</title>\n<path fill=\"none\" stroke=\"#000000\" d=\"M1389.7122,-71.9769C1392.5677,-63.3119 1395.6028,-54.102 1398.3421,-45.7894\"/>\n<polygon fill=\"#000000\" stroke=\"#000000\" points=\"1401.6991,-46.785 1401.5049,-36.192 1395.0508,-44.594 1401.6991,-46.785\"/>\n</g>\n<!-- 285 -->\n<g id=\"node32\" class=\"node\">\n<title>285</title>\n<path fill=\"#f0b68c\" stroke=\"#000000\" d=\"M1948.5,-348C1948.5,-348 1832.5,-348 1832.5,-348 1826.5,-348 1820.5,-342 1820.5,-336 1820.5,-336 1820.5,-292 1820.5,-292 1820.5,-286 1826.5,-280 1832.5,-280 1832.5,-280 1948.5,-280 1948.5,-280 1954.5,-280 1960.5,-286 1960.5,-292 1960.5,-292 1960.5,-336 1960.5,-336 1960.5,-342 1954.5,-348 1948.5,-348\"/>\n<text text-anchor=\"middle\" x=\"1890.5\" y=\"-332.8\" font-family=\"Helvetica,sans-Serif\" font-size=\"14.00\" fill=\"#000000\">ClientPeriod &lt;= 2.5</text>\n<text text-anchor=\"middle\" x=\"1890.5\" y=\"-317.8\" font-family=\"Helvetica,sans-Serif\" font-size=\"14.00\" fill=\"#000000\">gini = 0.417</text>\n<text text-anchor=\"middle\" x=\"1890.5\" y=\"-302.8\" font-family=\"Helvetica,sans-Serif\" font-size=\"14.00\" fill=\"#000000\">samples = 874</text>\n<text text-anchor=\"middle\" x=\"1890.5\" y=\"-287.8\" font-family=\"Helvetica,sans-Serif\" font-size=\"14.00\" fill=\"#000000\">value = [615, 259]</text>\n</g>\n<!-- 284&#45;&gt;285 -->\n<g id=\"edge31\" class=\"edge\">\n<title>284&#45;&gt;285</title>\n<path fill=\"none\" stroke=\"#000000\" d=\"M1890.5,-383.9465C1890.5,-375.776 1890.5,-366.9318 1890.5,-358.3697\"/>\n<polygon fill=\"#000000\" stroke=\"#000000\" points=\"1894.0001,-358.13 1890.5,-348.13 1887.0001,-358.13 1894.0001,-358.13\"/>\n</g>\n<!-- 760 -->\n<g id=\"node47\" class=\"node\">\n<title>760</title>\n<path fill=\"#ebf5fc\" stroke=\"#000000\" d=\"M2496.5,-348C2496.5,-348 2372.5,-348 2372.5,-348 2366.5,-348 2360.5,-342 2360.5,-336 2360.5,-336 2360.5,-292 2360.5,-292 2360.5,-286 2366.5,-280 2372.5,-280 2372.5,-280 2496.5,-280 2496.5,-280 2502.5,-280 2508.5,-286 2508.5,-292 2508.5,-292 2508.5,-336 2508.5,-336 2508.5,-342 2502.5,-348 2496.5,-348\"/>\n<text text-anchor=\"middle\" x=\"2434.5\" y=\"-332.8\" font-family=\"Helvetica,sans-Serif\" font-size=\"14.00\" fill=\"#000000\">ClientPeriod &lt;= 13.5</text>\n<text text-anchor=\"middle\" x=\"2434.5\" y=\"-317.8\" font-family=\"Helvetica,sans-Serif\" font-size=\"14.00\" fill=\"#000000\">gini = 0.499</text>\n<text text-anchor=\"middle\" x=\"2434.5\" y=\"-302.8\" font-family=\"Helvetica,sans-Serif\" font-size=\"14.00\" fill=\"#000000\">samples = 1197</text>\n<text text-anchor=\"middle\" x=\"2434.5\" y=\"-287.8\" font-family=\"Helvetica,sans-Serif\" font-size=\"14.00\" fill=\"#000000\">value = [566, 631]</text>\n</g>\n<!-- 284&#45;&gt;760 -->\n<g id=\"edge46\" class=\"edge\">\n<title>284&#45;&gt;760</title>\n<path fill=\"none\" stroke=\"#000000\" d=\"M1990.278,-398.9248C2093.5213,-379.1871 2253.0016,-348.6982 2350.1595,-330.1239\"/>\n<polygon fill=\"#000000\" stroke=\"#000000\" points=\"2351.0702,-333.5133 2360.2351,-328.1977 2349.7557,-326.6378 2351.0702,-333.5133\"/>\n</g>\n<!-- 286 -->\n<g id=\"node33\" class=\"node\">\n<title>286</title>\n<path fill=\"#fae9dc\" stroke=\"#000000\" d=\"M1865,-244C1865,-244 1710,-244 1710,-244 1704,-244 1698,-238 1698,-232 1698,-232 1698,-188 1698,-188 1698,-182 1704,-176 1710,-176 1710,-176 1865,-176 1865,-176 1871,-176 1877,-182 1877,-188 1877,-188 1877,-232 1877,-232 1877,-238 1871,-244 1865,-244\"/>\n<text text-anchor=\"middle\" x=\"1787.5\" y=\"-228.8\" font-family=\"Helvetica,sans-Serif\" font-size=\"14.00\" fill=\"#000000\">HasPhoneService &lt;= 0.5</text>\n<text text-anchor=\"middle\" x=\"1787.5\" y=\"-213.8\" font-family=\"Helvetica,sans-Serif\" font-size=\"14.00\" fill=\"#000000\">gini = 0.495</text>\n<text text-anchor=\"middle\" x=\"1787.5\" y=\"-198.8\" font-family=\"Helvetica,sans-Serif\" font-size=\"14.00\" fill=\"#000000\">samples = 248</text>\n<text text-anchor=\"middle\" x=\"1787.5\" y=\"-183.8\" font-family=\"Helvetica,sans-Serif\" font-size=\"14.00\" fill=\"#000000\">value = [136, 112]</text>\n</g>\n<!-- 285&#45;&gt;286 -->\n<g id=\"edge32\" class=\"edge\">\n<title>285&#45;&gt;286</title>\n<path fill=\"none\" stroke=\"#000000\" d=\"M1856.7739,-279.9465C1847.7039,-270.7884 1837.7955,-260.7838 1828.3819,-251.2788\"/>\n<polygon fill=\"#000000\" stroke=\"#000000\" points=\"1830.8255,-248.7723 1821.3018,-244.13 1825.8519,-253.6981 1830.8255,-248.7723\"/>\n</g>\n<!-- 465 -->\n<g id=\"node40\" class=\"node\">\n<title>465</title>\n<path fill=\"#eda876\" stroke=\"#000000\" d=\"M2055.5,-244C2055.5,-244 1931.5,-244 1931.5,-244 1925.5,-244 1919.5,-238 1919.5,-232 1919.5,-232 1919.5,-188 1919.5,-188 1919.5,-182 1925.5,-176 1931.5,-176 1931.5,-176 2055.5,-176 2055.5,-176 2061.5,-176 2067.5,-182 2067.5,-188 2067.5,-188 2067.5,-232 2067.5,-232 2067.5,-238 2061.5,-244 2055.5,-244\"/>\n<text text-anchor=\"middle\" x=\"1993.5\" y=\"-228.8\" font-family=\"Helvetica,sans-Serif\" font-size=\"14.00\" fill=\"#000000\">ClientPeriod &lt;= 17.5</text>\n<text text-anchor=\"middle\" x=\"1993.5\" y=\"-213.8\" font-family=\"Helvetica,sans-Serif\" font-size=\"14.00\" fill=\"#000000\">gini = 0.359</text>\n<text text-anchor=\"middle\" x=\"1993.5\" y=\"-198.8\" font-family=\"Helvetica,sans-Serif\" font-size=\"14.00\" fill=\"#000000\">samples = 626</text>\n<text text-anchor=\"middle\" x=\"1993.5\" y=\"-183.8\" font-family=\"Helvetica,sans-Serif\" font-size=\"14.00\" fill=\"#000000\">value = [479, 147]</text>\n</g>\n<!-- 285&#45;&gt;465 -->\n<g id=\"edge39\" class=\"edge\">\n<title>285&#45;&gt;465</title>\n<path fill=\"none\" stroke=\"#000000\" d=\"M1924.2261,-279.9465C1933.2961,-270.7884 1943.2045,-260.7838 1952.6181,-251.2788\"/>\n<polygon fill=\"#000000\" stroke=\"#000000\" points=\"1955.1481,-253.6981 1959.6982,-244.13 1950.1745,-248.7723 1955.1481,-253.6981\"/>\n</g>\n<!-- 287 -->\n<g id=\"node34\" class=\"node\">\n<title>287</title>\n<path fill=\"#f6d1b7\" stroke=\"#000000\" d=\"M1669,-140C1669,-140 1494,-140 1494,-140 1488,-140 1482,-134 1482,-128 1482,-128 1482,-84 1482,-84 1482,-78 1488,-72 1494,-72 1494,-72 1669,-72 1669,-72 1675,-72 1681,-78 1681,-84 1681,-84 1681,-128 1681,-128 1681,-134 1675,-140 1669,-140\"/>\n<text text-anchor=\"middle\" x=\"1581.5\" y=\"-124.8\" font-family=\"Helvetica,sans-Serif\" font-size=\"14.00\" fill=\"#000000\">MonthlySpending &lt;= 44.325</text>\n<text text-anchor=\"middle\" x=\"1581.5\" y=\"-109.8\" font-family=\"Helvetica,sans-Serif\" font-size=\"14.00\" fill=\"#000000\">gini = 0.475</text>\n<text text-anchor=\"middle\" x=\"1581.5\" y=\"-94.8\" font-family=\"Helvetica,sans-Serif\" font-size=\"14.00\" fill=\"#000000\">samples = 206</text>\n<text text-anchor=\"middle\" x=\"1581.5\" y=\"-79.8\" font-family=\"Helvetica,sans-Serif\" font-size=\"14.00\" fill=\"#000000\">value = [126, 80]</text>\n</g>\n<!-- 286&#45;&gt;287 -->\n<g id=\"edge33\" class=\"edge\">\n<title>286&#45;&gt;287</title>\n<path fill=\"none\" stroke=\"#000000\" d=\"M1720.0479,-175.9465C1700.2183,-165.9354 1678.3851,-154.9129 1658.0312,-144.6371\"/>\n<polygon fill=\"#000000\" stroke=\"#000000\" points=\"1659.6079,-141.5124 1649.1036,-140.13 1656.4531,-147.7612 1659.6079,-141.5124\"/>\n</g>\n<!-- 440 -->\n<g id=\"node37\" class=\"node\">\n<title>440</title>\n<path fill=\"#77bced\" stroke=\"#000000\" d=\"M1863.5,-140C1863.5,-140 1711.5,-140 1711.5,-140 1705.5,-140 1699.5,-134 1699.5,-128 1699.5,-128 1699.5,-84 1699.5,-84 1699.5,-78 1705.5,-72 1711.5,-72 1711.5,-72 1863.5,-72 1863.5,-72 1869.5,-72 1875.5,-78 1875.5,-84 1875.5,-84 1875.5,-128 1875.5,-128 1875.5,-134 1869.5,-140 1863.5,-140\"/>\n<text text-anchor=\"middle\" x=\"1787.5\" y=\"-124.8\" font-family=\"Helvetica,sans-Serif\" font-size=\"14.00\" fill=\"#000000\">IsBillingPaperless &lt;= 0.5</text>\n<text text-anchor=\"middle\" x=\"1787.5\" y=\"-109.8\" font-family=\"Helvetica,sans-Serif\" font-size=\"14.00\" fill=\"#000000\">gini = 0.363</text>\n<text text-anchor=\"middle\" x=\"1787.5\" y=\"-94.8\" font-family=\"Helvetica,sans-Serif\" font-size=\"14.00\" fill=\"#000000\">samples = 42</text>\n<text text-anchor=\"middle\" x=\"1787.5\" y=\"-79.8\" font-family=\"Helvetica,sans-Serif\" font-size=\"14.00\" fill=\"#000000\">value = [10, 32]</text>\n</g>\n<!-- 286&#45;&gt;440 -->\n<g id=\"edge36\" class=\"edge\">\n<title>286&#45;&gt;440</title>\n<path fill=\"none\" stroke=\"#000000\" d=\"M1787.5,-175.9465C1787.5,-167.776 1787.5,-158.9318 1787.5,-150.3697\"/>\n<polygon fill=\"#000000\" stroke=\"#000000\" points=\"1791.0001,-150.13 1787.5,-140.13 1784.0001,-150.13 1791.0001,-150.13\"/>\n</g>\n<!-- 288 -->\n<g id=\"node35\" class=\"node\">\n<title>288</title>\n<path fill=\"#c0c0c0\" stroke=\"#000000\" d=\"M1555.5,-36C1555.5,-36 1525.5,-36 1525.5,-36 1519.5,-36 1513.5,-30 1513.5,-24 1513.5,-24 1513.5,-12 1513.5,-12 1513.5,-6 1519.5,0 1525.5,0 1525.5,0 1555.5,0 1555.5,0 1561.5,0 1567.5,-6 1567.5,-12 1567.5,-12 1567.5,-24 1567.5,-24 1567.5,-30 1561.5,-36 1555.5,-36\"/>\n<text text-anchor=\"middle\" x=\"1540.5\" y=\"-14.3\" font-family=\"Helvetica,sans-Serif\" font-size=\"14.00\" fill=\"#000000\">(...)</text>\n</g>\n<!-- 287&#45;&gt;288 -->\n<g id=\"edge34\" class=\"edge\">\n<title>287&#45;&gt;288</title>\n<path fill=\"none\" stroke=\"#000000\" d=\"M1565.6483,-71.9769C1561.5669,-63.2167 1557.2259,-53.8995 1553.3198,-45.5157\"/>\n<polygon fill=\"#000000\" stroke=\"#000000\" points=\"1556.3716,-43.7783 1548.9758,-36.192 1550.0265,-46.7346 1556.3716,-43.7783\"/>\n</g>\n<!-- 373 -->\n<g id=\"node36\" class=\"node\">\n<title>373</title>\n<path fill=\"#c0c0c0\" stroke=\"#000000\" d=\"M1627.5,-36C1627.5,-36 1597.5,-36 1597.5,-36 1591.5,-36 1585.5,-30 1585.5,-24 1585.5,-24 1585.5,-12 1585.5,-12 1585.5,-6 1591.5,0 1597.5,0 1597.5,0 1627.5,0 1627.5,0 1633.5,0 1639.5,-6 1639.5,-12 1639.5,-12 1639.5,-24 1639.5,-24 1639.5,-30 1633.5,-36 1627.5,-36\"/>\n<text text-anchor=\"middle\" x=\"1612.5\" y=\"-14.3\" font-family=\"Helvetica,sans-Serif\" font-size=\"14.00\" fill=\"#000000\">(...)</text>\n</g>\n<!-- 287&#45;&gt;373 -->\n<g id=\"edge35\" class=\"edge\">\n<title>287&#45;&gt;373</title>\n<path fill=\"none\" stroke=\"#000000\" d=\"M1593.4854,-71.9769C1596.5379,-63.3119 1599.7823,-54.102 1602.7105,-45.7894\"/>\n<polygon fill=\"#000000\" stroke=\"#000000\" points=\"1606.07,-46.7868 1606.0915,-36.192 1599.4677,-44.4609 1606.07,-46.7868\"/>\n</g>\n<!-- 441 -->\n<g id=\"node38\" class=\"node\">\n<title>441</title>\n<path fill=\"#c0c0c0\" stroke=\"#000000\" d=\"M1761.5,-36C1761.5,-36 1731.5,-36 1731.5,-36 1725.5,-36 1719.5,-30 1719.5,-24 1719.5,-24 1719.5,-12 1719.5,-12 1719.5,-6 1725.5,0 1731.5,0 1731.5,0 1761.5,0 1761.5,0 1767.5,0 1773.5,-6 1773.5,-12 1773.5,-12 1773.5,-24 1773.5,-24 1773.5,-30 1767.5,-36 1761.5,-36\"/>\n<text text-anchor=\"middle\" x=\"1746.5\" y=\"-14.3\" font-family=\"Helvetica,sans-Serif\" font-size=\"14.00\" fill=\"#000000\">(...)</text>\n</g>\n<!-- 440&#45;&gt;441 -->\n<g id=\"edge37\" class=\"edge\">\n<title>440&#45;&gt;441</title>\n<path fill=\"none\" stroke=\"#000000\" d=\"M1771.6483,-71.9769C1767.5669,-63.2167 1763.2259,-53.8995 1759.3198,-45.5157\"/>\n<polygon fill=\"#000000\" stroke=\"#000000\" points=\"1762.3716,-43.7783 1754.9758,-36.192 1756.0265,-46.7346 1762.3716,-43.7783\"/>\n</g>\n<!-- 458 -->\n<g id=\"node39\" class=\"node\">\n<title>458</title>\n<path fill=\"#c0c0c0\" stroke=\"#000000\" d=\"M1833.5,-36C1833.5,-36 1803.5,-36 1803.5,-36 1797.5,-36 1791.5,-30 1791.5,-24 1791.5,-24 1791.5,-12 1791.5,-12 1791.5,-6 1797.5,0 1803.5,0 1803.5,0 1833.5,0 1833.5,0 1839.5,0 1845.5,-6 1845.5,-12 1845.5,-12 1845.5,-24 1845.5,-24 1845.5,-30 1839.5,-36 1833.5,-36\"/>\n<text text-anchor=\"middle\" x=\"1818.5\" y=\"-14.3\" font-family=\"Helvetica,sans-Serif\" font-size=\"14.00\" fill=\"#000000\">(...)</text>\n</g>\n<!-- 440&#45;&gt;458 -->\n<g id=\"edge38\" class=\"edge\">\n<title>440&#45;&gt;458</title>\n<path fill=\"none\" stroke=\"#000000\" d=\"M1799.4854,-71.9769C1802.5379,-63.3119 1805.7823,-54.102 1808.7105,-45.7894\"/>\n<polygon fill=\"#000000\" stroke=\"#000000\" points=\"1812.07,-46.7868 1812.0915,-36.192 1805.4677,-44.4609 1812.07,-46.7868\"/>\n</g>\n<!-- 466 -->\n<g id=\"node41\" class=\"node\">\n<title>466</title>\n<path fill=\"#f0b48a\" stroke=\"#000000\" d=\"M2081,-140C2081,-140 1906,-140 1906,-140 1900,-140 1894,-134 1894,-128 1894,-128 1894,-84 1894,-84 1894,-78 1900,-72 1906,-72 1906,-72 2081,-72 2081,-72 2087,-72 2093,-78 2093,-84 2093,-84 2093,-128 2093,-128 2093,-134 2087,-140 2081,-140\"/>\n<text text-anchor=\"middle\" x=\"1993.5\" y=\"-124.8\" font-family=\"Helvetica,sans-Serif\" font-size=\"14.00\" fill=\"#000000\">MonthlySpending &lt;= 25.175</text>\n<text text-anchor=\"middle\" x=\"1993.5\" y=\"-109.8\" font-family=\"Helvetica,sans-Serif\" font-size=\"14.00\" fill=\"#000000\">gini = 0.412</text>\n<text text-anchor=\"middle\" x=\"1993.5\" y=\"-94.8\" font-family=\"Helvetica,sans-Serif\" font-size=\"14.00\" fill=\"#000000\">samples = 369</text>\n<text text-anchor=\"middle\" x=\"1993.5\" y=\"-79.8\" font-family=\"Helvetica,sans-Serif\" font-size=\"14.00\" fill=\"#000000\">value = [262, 107]</text>\n</g>\n<!-- 465&#45;&gt;466 -->\n<g id=\"edge40\" class=\"edge\">\n<title>465&#45;&gt;466</title>\n<path fill=\"none\" stroke=\"#000000\" d=\"M1993.5,-175.9465C1993.5,-167.776 1993.5,-158.9318 1993.5,-150.3697\"/>\n<polygon fill=\"#000000\" stroke=\"#000000\" points=\"1997.0001,-150.13 1993.5,-140.13 1990.0001,-150.13 1997.0001,-150.13\"/>\n</g>\n<!-- 667 -->\n<g id=\"node44\" class=\"node\">\n<title>667</title>\n<path fill=\"#ea985d\" stroke=\"#000000\" d=\"M2257.5,-140C2257.5,-140 2123.5,-140 2123.5,-140 2117.5,-140 2111.5,-134 2111.5,-128 2111.5,-128 2111.5,-84 2111.5,-84 2111.5,-78 2117.5,-72 2123.5,-72 2123.5,-72 2257.5,-72 2257.5,-72 2263.5,-72 2269.5,-78 2269.5,-84 2269.5,-84 2269.5,-128 2269.5,-128 2269.5,-134 2263.5,-140 2257.5,-140\"/>\n<text text-anchor=\"middle\" x=\"2190.5\" y=\"-124.8\" font-family=\"Helvetica,sans-Serif\" font-size=\"14.00\" fill=\"#000000\">IsSeniorCitizen &lt;= 0.5</text>\n<text text-anchor=\"middle\" x=\"2190.5\" y=\"-109.8\" font-family=\"Helvetica,sans-Serif\" font-size=\"14.00\" fill=\"#000000\">gini = 0.263</text>\n<text text-anchor=\"middle\" x=\"2190.5\" y=\"-94.8\" font-family=\"Helvetica,sans-Serif\" font-size=\"14.00\" fill=\"#000000\">samples = 257</text>\n<text text-anchor=\"middle\" x=\"2190.5\" y=\"-79.8\" font-family=\"Helvetica,sans-Serif\" font-size=\"14.00\" fill=\"#000000\">value = [217, 40]</text>\n</g>\n<!-- 465&#45;&gt;667 -->\n<g id=\"edge43\" class=\"edge\">\n<title>465&#45;&gt;667</title>\n<path fill=\"none\" stroke=\"#000000\" d=\"M2058.0052,-175.9465C2076.7984,-166.0252 2097.4734,-155.1105 2116.7883,-144.9138\"/>\n<polygon fill=\"#000000\" stroke=\"#000000\" points=\"2118.6406,-147.8938 2125.8499,-140.13 2115.3726,-141.7034 2118.6406,-147.8938\"/>\n</g>\n<!-- 467 -->\n<g id=\"node42\" class=\"node\">\n<title>467</title>\n<path fill=\"#c0c0c0\" stroke=\"#000000\" d=\"M1962.5,-36C1962.5,-36 1932.5,-36 1932.5,-36 1926.5,-36 1920.5,-30 1920.5,-24 1920.5,-24 1920.5,-12 1920.5,-12 1920.5,-6 1926.5,0 1932.5,0 1932.5,0 1962.5,0 1962.5,0 1968.5,0 1974.5,-6 1974.5,-12 1974.5,-12 1974.5,-24 1974.5,-24 1974.5,-30 1968.5,-36 1962.5,-36\"/>\n<text text-anchor=\"middle\" x=\"1947.5\" y=\"-14.3\" font-family=\"Helvetica,sans-Serif\" font-size=\"14.00\" fill=\"#000000\">(...)</text>\n</g>\n<!-- 466&#45;&gt;467 -->\n<g id=\"edge41\" class=\"edge\">\n<title>466&#45;&gt;467</title>\n<path fill=\"none\" stroke=\"#000000\" d=\"M1975.7152,-71.9769C1971.0862,-63.1215 1966.1597,-53.6969 1961.7405,-45.2427\"/>\n<polygon fill=\"#000000\" stroke=\"#000000\" points=\"1964.7438,-43.4328 1957.0094,-36.192 1958.5402,-46.6756 1964.7438,-43.4328\"/>\n</g>\n<!-- 528 -->\n<g id=\"node43\" class=\"node\">\n<title>528</title>\n<path fill=\"#c0c0c0\" stroke=\"#000000\" d=\"M2034.5,-36C2034.5,-36 2004.5,-36 2004.5,-36 1998.5,-36 1992.5,-30 1992.5,-24 1992.5,-24 1992.5,-12 1992.5,-12 1992.5,-6 1998.5,0 2004.5,0 2004.5,0 2034.5,0 2034.5,0 2040.5,0 2046.5,-6 2046.5,-12 2046.5,-12 2046.5,-24 2046.5,-24 2046.5,-30 2040.5,-36 2034.5,-36\"/>\n<text text-anchor=\"middle\" x=\"2019.5\" y=\"-14.3\" font-family=\"Helvetica,sans-Serif\" font-size=\"14.00\" fill=\"#000000\">(...)</text>\n</g>\n<!-- 466&#45;&gt;528 -->\n<g id=\"edge42\" class=\"edge\">\n<title>466&#45;&gt;528</title>\n<path fill=\"none\" stroke=\"#000000\" d=\"M2003.5523,-71.9769C2006.1124,-63.3119 2008.8335,-54.102 2011.2895,-45.7894\"/>\n<polygon fill=\"#000000\" stroke=\"#000000\" points=\"2014.6481,-46.7739 2014.1251,-36.192 2007.935,-44.7904 2014.6481,-46.7739\"/>\n</g>\n<!-- 668 -->\n<g id=\"node45\" class=\"node\">\n<title>668</title>\n<path fill=\"#c0c0c0\" stroke=\"#000000\" d=\"M2146.5,-36C2146.5,-36 2116.5,-36 2116.5,-36 2110.5,-36 2104.5,-30 2104.5,-24 2104.5,-24 2104.5,-12 2104.5,-12 2104.5,-6 2110.5,0 2116.5,0 2116.5,0 2146.5,0 2146.5,0 2152.5,0 2158.5,-6 2158.5,-12 2158.5,-12 2158.5,-24 2158.5,-24 2158.5,-30 2152.5,-36 2146.5,-36\"/>\n<text text-anchor=\"middle\" x=\"2131.5\" y=\"-14.3\" font-family=\"Helvetica,sans-Serif\" font-size=\"14.00\" fill=\"#000000\">(...)</text>\n</g>\n<!-- 667&#45;&gt;668 -->\n<g id=\"edge44\" class=\"edge\">\n<title>667&#45;&gt;668</title>\n<path fill=\"none\" stroke=\"#000000\" d=\"M2167.6891,-71.9769C2161.6242,-62.931 2155.1612,-53.2913 2149.4002,-44.6986\"/>\n<polygon fill=\"#000000\" stroke=\"#000000\" points=\"2152.1728,-42.5488 2143.6969,-36.192 2146.3586,-46.447 2152.1728,-42.5488\"/>\n</g>\n<!-- 737 -->\n<g id=\"node46\" class=\"node\">\n<title>737</title>\n<path fill=\"#c0c0c0\" stroke=\"#000000\" d=\"M2218.5,-36C2218.5,-36 2188.5,-36 2188.5,-36 2182.5,-36 2176.5,-30 2176.5,-24 2176.5,-24 2176.5,-12 2176.5,-12 2176.5,-6 2182.5,0 2188.5,0 2188.5,0 2218.5,0 2218.5,0 2224.5,0 2230.5,-6 2230.5,-12 2230.5,-12 2230.5,-24 2230.5,-24 2230.5,-30 2224.5,-36 2218.5,-36\"/>\n<text text-anchor=\"middle\" x=\"2203.5\" y=\"-14.3\" font-family=\"Helvetica,sans-Serif\" font-size=\"14.00\" fill=\"#000000\">(...)</text>\n</g>\n<!-- 667&#45;&gt;737 -->\n<g id=\"edge45\" class=\"edge\">\n<title>667&#45;&gt;737</title>\n<path fill=\"none\" stroke=\"#000000\" d=\"M2195.5261,-71.9769C2196.7781,-63.5023 2198.107,-54.5065 2199.3136,-46.3388\"/>\n<polygon fill=\"#000000\" stroke=\"#000000\" points=\"2202.8135,-46.5961 2200.8126,-36.192 2195.8886,-45.5731 2202.8135,-46.5961\"/>\n</g>\n<!-- 761 -->\n<g id=\"node48\" class=\"node\">\n<title>761</title>\n<path fill=\"#8fc8f0\" stroke=\"#000000\" d=\"M2510.5,-244C2510.5,-244 2358.5,-244 2358.5,-244 2352.5,-244 2346.5,-238 2346.5,-232 2346.5,-232 2346.5,-188 2346.5,-188 2346.5,-182 2352.5,-176 2358.5,-176 2358.5,-176 2510.5,-176 2510.5,-176 2516.5,-176 2522.5,-182 2522.5,-188 2522.5,-188 2522.5,-232 2522.5,-232 2522.5,-238 2516.5,-244 2510.5,-244\"/>\n<text text-anchor=\"middle\" x=\"2434.5\" y=\"-228.8\" font-family=\"Helvetica,sans-Serif\" font-size=\"14.00\" fill=\"#000000\">IsBillingPaperless &lt;= 0.5</text>\n<text text-anchor=\"middle\" x=\"2434.5\" y=\"-213.8\" font-family=\"Helvetica,sans-Serif\" font-size=\"14.00\" fill=\"#000000\">gini = 0.423</text>\n<text text-anchor=\"middle\" x=\"2434.5\" y=\"-198.8\" font-family=\"Helvetica,sans-Serif\" font-size=\"14.00\" fill=\"#000000\">samples = 534</text>\n<text text-anchor=\"middle\" x=\"2434.5\" y=\"-183.8\" font-family=\"Helvetica,sans-Serif\" font-size=\"14.00\" fill=\"#000000\">value = [162, 372]</text>\n</g>\n<!-- 760&#45;&gt;761 -->\n<g id=\"edge47\" class=\"edge\">\n<title>760&#45;&gt;761</title>\n<path fill=\"none\" stroke=\"#000000\" d=\"M2434.5,-279.9465C2434.5,-271.776 2434.5,-262.9318 2434.5,-254.3697\"/>\n<polygon fill=\"#000000\" stroke=\"#000000\" points=\"2438.0001,-254.13 2434.5,-244.13 2431.0001,-254.13 2438.0001,-254.13\"/>\n</g>\n<!-- 1034 -->\n<g id=\"node55\" class=\"node\">\n<title>1034</title>\n<path fill=\"#f6d2b8\" stroke=\"#000000\" d=\"M2832.5,-244C2832.5,-244 2626.5,-244 2626.5,-244 2620.5,-244 2614.5,-238 2614.5,-232 2614.5,-232 2614.5,-188 2614.5,-188 2614.5,-182 2620.5,-176 2626.5,-176 2626.5,-176 2832.5,-176 2832.5,-176 2838.5,-176 2844.5,-182 2844.5,-188 2844.5,-188 2844.5,-232 2844.5,-232 2844.5,-238 2838.5,-244 2832.5,-244\"/>\n<text text-anchor=\"middle\" x=\"2729.5\" y=\"-228.8\" font-family=\"Helvetica,sans-Serif\" font-size=\"14.00\" fill=\"#000000\">HasOnlineSecurityService &lt;= 0.5</text>\n<text text-anchor=\"middle\" x=\"2729.5\" y=\"-213.8\" font-family=\"Helvetica,sans-Serif\" font-size=\"14.00\" fill=\"#000000\">gini = 0.476</text>\n<text text-anchor=\"middle\" x=\"2729.5\" y=\"-198.8\" font-family=\"Helvetica,sans-Serif\" font-size=\"14.00\" fill=\"#000000\">samples = 663</text>\n<text text-anchor=\"middle\" x=\"2729.5\" y=\"-183.8\" font-family=\"Helvetica,sans-Serif\" font-size=\"14.00\" fill=\"#000000\">value = [404, 259]</text>\n</g>\n<!-- 760&#45;&gt;1034 -->\n<g id=\"edge54\" class=\"edge\">\n<title>760&#45;&gt;1034</title>\n<path fill=\"none\" stroke=\"#000000\" d=\"M2508.5602,-287.8906C2543.2535,-275.6598 2585.2244,-260.8633 2623.2257,-247.4662\"/>\n<polygon fill=\"#000000\" stroke=\"#000000\" points=\"2624.5273,-250.7185 2632.7947,-244.0927 2622.1999,-244.1168 2624.5273,-250.7185\"/>\n</g>\n<!-- 762 -->\n<g id=\"node49\" class=\"node\">\n<title>762</title>\n<path fill=\"#ecf6fd\" stroke=\"#000000\" d=\"M2421.5,-140C2421.5,-140 2299.5,-140 2299.5,-140 2293.5,-140 2287.5,-134 2287.5,-128 2287.5,-128 2287.5,-84 2287.5,-84 2287.5,-78 2293.5,-72 2299.5,-72 2299.5,-72 2421.5,-72 2421.5,-72 2427.5,-72 2433.5,-78 2433.5,-84 2433.5,-84 2433.5,-128 2433.5,-128 2433.5,-134 2427.5,-140 2421.5,-140\"/>\n<text text-anchor=\"middle\" x=\"2360.5\" y=\"-124.8\" font-family=\"Helvetica,sans-Serif\" font-size=\"14.00\" fill=\"#000000\">TotalSpent &lt;= 111.8</text>\n<text text-anchor=\"middle\" x=\"2360.5\" y=\"-109.8\" font-family=\"Helvetica,sans-Serif\" font-size=\"14.00\" fill=\"#000000\">gini = 0.499</text>\n<text text-anchor=\"middle\" x=\"2360.5\" y=\"-94.8\" font-family=\"Helvetica,sans-Serif\" font-size=\"14.00\" fill=\"#000000\">samples = 122</text>\n<text text-anchor=\"middle\" x=\"2360.5\" y=\"-79.8\" font-family=\"Helvetica,sans-Serif\" font-size=\"14.00\" fill=\"#000000\">value = [58, 64]</text>\n</g>\n<!-- 761&#45;&gt;762 -->\n<g id=\"edge48\" class=\"edge\">\n<title>761&#45;&gt;762</title>\n<path fill=\"none\" stroke=\"#000000\" d=\"M2410.2696,-175.9465C2404.0088,-167.1475 2397.192,-157.5672 2390.6687,-148.3993\"/>\n<polygon fill=\"#000000\" stroke=\"#000000\" points=\"2393.4342,-146.2488 2384.7848,-140.13 2387.7306,-150.3071 2393.4342,-146.2488\"/>\n</g>\n<!-- 839 -->\n<g id=\"node52\" class=\"node\">\n<title>839</title>\n<path fill=\"#7cbeee\" stroke=\"#000000\" d=\"M2625,-140C2625,-140 2464,-140 2464,-140 2458,-140 2452,-134 2452,-128 2452,-128 2452,-84 2452,-84 2452,-78 2458,-72 2464,-72 2464,-72 2625,-72 2625,-72 2631,-72 2637,-78 2637,-84 2637,-84 2637,-128 2637,-128 2637,-134 2631,-140 2625,-140\"/>\n<text text-anchor=\"middle\" x=\"2544.5\" y=\"-124.8\" font-family=\"Helvetica,sans-Serif\" font-size=\"14.00\" fill=\"#000000\">HasInternetService &lt;= 1.5</text>\n<text text-anchor=\"middle\" x=\"2544.5\" y=\"-109.8\" font-family=\"Helvetica,sans-Serif\" font-size=\"14.00\" fill=\"#000000\">gini = 0.377</text>\n<text text-anchor=\"middle\" x=\"2544.5\" y=\"-94.8\" font-family=\"Helvetica,sans-Serif\" font-size=\"14.00\" fill=\"#000000\">samples = 412</text>\n<text text-anchor=\"middle\" x=\"2544.5\" y=\"-79.8\" font-family=\"Helvetica,sans-Serif\" font-size=\"14.00\" fill=\"#000000\">value = [104, 308]</text>\n</g>\n<!-- 761&#45;&gt;839 -->\n<g id=\"edge51\" class=\"edge\">\n<title>761&#45;&gt;839</title>\n<path fill=\"none\" stroke=\"#000000\" d=\"M2470.5181,-175.9465C2480.2046,-166.7884 2490.7864,-156.7838 2500.8397,-147.2788\"/>\n<polygon fill=\"#000000\" stroke=\"#000000\" points=\"2503.539,-149.5434 2508.401,-140.13 2498.7299,-144.4569 2503.539,-149.5434\"/>\n</g>\n<!-- 763 -->\n<g id=\"node50\" class=\"node\">\n<title>763</title>\n<path fill=\"#c0c0c0\" stroke=\"#000000\" d=\"M2323.5,-36C2323.5,-36 2293.5,-36 2293.5,-36 2287.5,-36 2281.5,-30 2281.5,-24 2281.5,-24 2281.5,-12 2281.5,-12 2281.5,-6 2287.5,0 2293.5,0 2293.5,0 2323.5,0 2323.5,0 2329.5,0 2335.5,-6 2335.5,-12 2335.5,-12 2335.5,-24 2335.5,-24 2335.5,-30 2329.5,-36 2323.5,-36\"/>\n<text text-anchor=\"middle\" x=\"2308.5\" y=\"-14.3\" font-family=\"Helvetica,sans-Serif\" font-size=\"14.00\" fill=\"#000000\">(...)</text>\n</g>\n<!-- 762&#45;&gt;763 -->\n<g id=\"edge49\" class=\"edge\">\n<title>762&#45;&gt;763</title>\n<path fill=\"none\" stroke=\"#000000\" d=\"M2340.3954,-71.9769C2335.1064,-63.0262 2329.4738,-53.4941 2324.437,-44.9703\"/>\n<polygon fill=\"#000000\" stroke=\"#000000\" points=\"2327.3504,-43.0207 2319.2498,-36.192 2321.3239,-46.5818 2327.3504,-43.0207\"/>\n</g>\n<!-- 776 -->\n<g id=\"node51\" class=\"node\">\n<title>776</title>\n<path fill=\"#c0c0c0\" stroke=\"#000000\" d=\"M2395.5,-36C2395.5,-36 2365.5,-36 2365.5,-36 2359.5,-36 2353.5,-30 2353.5,-24 2353.5,-24 2353.5,-12 2353.5,-12 2353.5,-6 2359.5,0 2365.5,0 2365.5,0 2395.5,0 2395.5,0 2401.5,0 2407.5,-6 2407.5,-12 2407.5,-12 2407.5,-24 2407.5,-24 2407.5,-30 2401.5,-36 2395.5,-36\"/>\n<text text-anchor=\"middle\" x=\"2380.5\" y=\"-14.3\" font-family=\"Helvetica,sans-Serif\" font-size=\"14.00\" fill=\"#000000\">(...)</text>\n</g>\n<!-- 762&#45;&gt;776 -->\n<g id=\"edge50\" class=\"edge\">\n<title>762&#45;&gt;776</title>\n<path fill=\"none\" stroke=\"#000000\" d=\"M2368.2325,-71.9769C2370.1802,-63.4071 2372.249,-54.3043 2374.1219,-46.0638\"/>\n<polygon fill=\"#000000\" stroke=\"#000000\" points=\"2377.5621,-46.719 2376.3655,-36.192 2370.7362,-45.1676 2377.5621,-46.719\"/>\n</g>\n<!-- 840 -->\n<g id=\"node53\" class=\"node\">\n<title>840</title>\n<path fill=\"#c0c0c0\" stroke=\"#000000\" d=\"M2507.5,-36C2507.5,-36 2477.5,-36 2477.5,-36 2471.5,-36 2465.5,-30 2465.5,-24 2465.5,-24 2465.5,-12 2465.5,-12 2465.5,-6 2471.5,0 2477.5,0 2477.5,0 2507.5,0 2507.5,0 2513.5,0 2519.5,-6 2519.5,-12 2519.5,-12 2519.5,-24 2519.5,-24 2519.5,-30 2513.5,-36 2507.5,-36\"/>\n<text text-anchor=\"middle\" x=\"2492.5\" y=\"-14.3\" font-family=\"Helvetica,sans-Serif\" font-size=\"14.00\" fill=\"#000000\">(...)</text>\n</g>\n<!-- 839&#45;&gt;840 -->\n<g id=\"edge52\" class=\"edge\">\n<title>839&#45;&gt;840</title>\n<path fill=\"none\" stroke=\"#000000\" d=\"M2524.3954,-71.9769C2519.1064,-63.0262 2513.4738,-53.4941 2508.437,-44.9703\"/>\n<polygon fill=\"#000000\" stroke=\"#000000\" points=\"2511.3504,-43.0207 2503.2498,-36.192 2505.3239,-46.5818 2511.3504,-43.0207\"/>\n</g>\n<!-- 1025 -->\n<g id=\"node54\" class=\"node\">\n<title>1025</title>\n<path fill=\"#c0c0c0\" stroke=\"#000000\" d=\"M2579.5,-36C2579.5,-36 2549.5,-36 2549.5,-36 2543.5,-36 2537.5,-30 2537.5,-24 2537.5,-24 2537.5,-12 2537.5,-12 2537.5,-6 2543.5,0 2549.5,0 2549.5,0 2579.5,0 2579.5,0 2585.5,0 2591.5,-6 2591.5,-12 2591.5,-12 2591.5,-24 2591.5,-24 2591.5,-30 2585.5,-36 2579.5,-36\"/>\n<text text-anchor=\"middle\" x=\"2564.5\" y=\"-14.3\" font-family=\"Helvetica,sans-Serif\" font-size=\"14.00\" fill=\"#000000\">(...)</text>\n</g>\n<!-- 839&#45;&gt;1025 -->\n<g id=\"edge53\" class=\"edge\">\n<title>839&#45;&gt;1025</title>\n<path fill=\"none\" stroke=\"#000000\" d=\"M2552.2325,-71.9769C2554.1802,-63.4071 2556.249,-54.3043 2558.1219,-46.0638\"/>\n<polygon fill=\"#000000\" stroke=\"#000000\" points=\"2561.5621,-46.719 2560.3655,-36.192 2554.7362,-45.1676 2561.5621,-46.719\"/>\n</g>\n<!-- 1035 -->\n<g id=\"node56\" class=\"node\">\n<title>1035</title>\n<path fill=\"#f9e2d2\" stroke=\"#000000\" d=\"M2791.5,-140C2791.5,-140 2667.5,-140 2667.5,-140 2661.5,-140 2655.5,-134 2655.5,-128 2655.5,-128 2655.5,-84 2655.5,-84 2655.5,-78 2661.5,-72 2667.5,-72 2667.5,-72 2791.5,-72 2791.5,-72 2797.5,-72 2803.5,-78 2803.5,-84 2803.5,-84 2803.5,-128 2803.5,-128 2803.5,-134 2797.5,-140 2791.5,-140\"/>\n<text text-anchor=\"middle\" x=\"2729.5\" y=\"-124.8\" font-family=\"Helvetica,sans-Serif\" font-size=\"14.00\" fill=\"#000000\">ClientPeriod &lt;= 51.5</text>\n<text text-anchor=\"middle\" x=\"2729.5\" y=\"-109.8\" font-family=\"Helvetica,sans-Serif\" font-size=\"14.00\" fill=\"#000000\">gini = 0.492</text>\n<text text-anchor=\"middle\" x=\"2729.5\" y=\"-94.8\" font-family=\"Helvetica,sans-Serif\" font-size=\"14.00\" fill=\"#000000\">samples = 498</text>\n<text text-anchor=\"middle\" x=\"2729.5\" y=\"-79.8\" font-family=\"Helvetica,sans-Serif\" font-size=\"14.00\" fill=\"#000000\">value = [281, 217]</text>\n</g>\n<!-- 1034&#45;&gt;1035 -->\n<g id=\"edge55\" class=\"edge\">\n<title>1034&#45;&gt;1035</title>\n<path fill=\"none\" stroke=\"#000000\" d=\"M2729.5,-175.9465C2729.5,-167.776 2729.5,-158.9318 2729.5,-150.3697\"/>\n<polygon fill=\"#000000\" stroke=\"#000000\" points=\"2733.0001,-150.13 2729.5,-140.13 2726.0001,-150.13 2733.0001,-150.13\"/>\n</g>\n<!-- 1332 -->\n<g id=\"node59\" class=\"node\">\n<title>1332</title>\n<path fill=\"#eeac7d\" stroke=\"#000000\" d=\"M3009,-140C3009,-140 2834,-140 2834,-140 2828,-140 2822,-134 2822,-128 2822,-128 2822,-84 2822,-84 2822,-78 2828,-72 2834,-72 2834,-72 3009,-72 3009,-72 3015,-72 3021,-78 3021,-84 3021,-84 3021,-128 3021,-128 3021,-134 3015,-140 3009,-140\"/>\n<text text-anchor=\"middle\" x=\"2921.5\" y=\"-124.8\" font-family=\"Helvetica,sans-Serif\" font-size=\"14.00\" fill=\"#000000\">MonthlySpending &lt;= 90.825</text>\n<text text-anchor=\"middle\" x=\"2921.5\" y=\"-109.8\" font-family=\"Helvetica,sans-Serif\" font-size=\"14.00\" fill=\"#000000\">gini = 0.38</text>\n<text text-anchor=\"middle\" x=\"2921.5\" y=\"-94.8\" font-family=\"Helvetica,sans-Serif\" font-size=\"14.00\" fill=\"#000000\">samples = 165</text>\n<text text-anchor=\"middle\" x=\"2921.5\" y=\"-79.8\" font-family=\"Helvetica,sans-Serif\" font-size=\"14.00\" fill=\"#000000\">value = [123, 42]</text>\n</g>\n<!-- 1034&#45;&gt;1332 -->\n<g id=\"edge58\" class=\"edge\">\n<title>1034&#45;&gt;1332</title>\n<path fill=\"none\" stroke=\"#000000\" d=\"M2792.368,-175.9465C2810.6842,-166.0252 2830.8345,-155.1105 2849.6592,-144.9138\"/>\n<polygon fill=\"#000000\" stroke=\"#000000\" points=\"2851.3649,-147.9704 2858.4908,-140.13 2848.0308,-141.8154 2851.3649,-147.9704\"/>\n</g>\n<!-- 1036 -->\n<g id=\"node57\" class=\"node\">\n<title>1036</title>\n<path fill=\"#c0c0c0\" stroke=\"#000000\" d=\"M2708.5,-36C2708.5,-36 2678.5,-36 2678.5,-36 2672.5,-36 2666.5,-30 2666.5,-24 2666.5,-24 2666.5,-12 2666.5,-12 2666.5,-6 2672.5,0 2678.5,0 2678.5,0 2708.5,0 2708.5,0 2714.5,0 2720.5,-6 2720.5,-12 2720.5,-12 2720.5,-24 2720.5,-24 2720.5,-30 2714.5,-36 2708.5,-36\"/>\n<text text-anchor=\"middle\" x=\"2693.5\" y=\"-14.3\" font-family=\"Helvetica,sans-Serif\" font-size=\"14.00\" fill=\"#000000\">(...)</text>\n</g>\n<!-- 1035&#45;&gt;1036 -->\n<g id=\"edge56\" class=\"edge\">\n<title>1035&#45;&gt;1036</title>\n<path fill=\"none\" stroke=\"#000000\" d=\"M2715.5815,-71.9769C2711.9977,-63.2167 2708.1862,-53.8995 2704.7564,-45.5157\"/>\n<polygon fill=\"#000000\" stroke=\"#000000\" points=\"2707.968,-44.1222 2700.9422,-36.192 2701.4891,-46.7727 2707.968,-44.1222\"/>\n</g>\n<!-- 1281 -->\n<g id=\"node58\" class=\"node\">\n<title>1281</title>\n<path fill=\"#c0c0c0\" stroke=\"#000000\" d=\"M2780.5,-36C2780.5,-36 2750.5,-36 2750.5,-36 2744.5,-36 2738.5,-30 2738.5,-24 2738.5,-24 2738.5,-12 2738.5,-12 2738.5,-6 2744.5,0 2750.5,0 2750.5,0 2780.5,0 2780.5,0 2786.5,0 2792.5,-6 2792.5,-12 2792.5,-12 2792.5,-24 2792.5,-24 2792.5,-30 2786.5,-36 2780.5,-36\"/>\n<text text-anchor=\"middle\" x=\"2765.5\" y=\"-14.3\" font-family=\"Helvetica,sans-Serif\" font-size=\"14.00\" fill=\"#000000\">(...)</text>\n</g>\n<!-- 1035&#45;&gt;1281 -->\n<g id=\"edge57\" class=\"edge\">\n<title>1035&#45;&gt;1281</title>\n<path fill=\"none\" stroke=\"#000000\" d=\"M2743.4185,-71.9769C2747.0023,-63.2167 2750.8138,-53.8995 2754.2436,-45.5157\"/>\n<polygon fill=\"#000000\" stroke=\"#000000\" points=\"2757.5109,-46.7727 2758.0578,-36.192 2751.032,-44.1222 2757.5109,-46.7727\"/>\n</g>\n<!-- 1333 -->\n<g id=\"node60\" class=\"node\">\n<title>1333</title>\n<path fill=\"#c0c0c0\" stroke=\"#000000\" d=\"M2900.5,-36C2900.5,-36 2870.5,-36 2870.5,-36 2864.5,-36 2858.5,-30 2858.5,-24 2858.5,-24 2858.5,-12 2858.5,-12 2858.5,-6 2864.5,0 2870.5,0 2870.5,0 2900.5,0 2900.5,0 2906.5,0 2912.5,-6 2912.5,-12 2912.5,-12 2912.5,-24 2912.5,-24 2912.5,-30 2906.5,-36 2900.5,-36\"/>\n<text text-anchor=\"middle\" x=\"2885.5\" y=\"-14.3\" font-family=\"Helvetica,sans-Serif\" font-size=\"14.00\" fill=\"#000000\">(...)</text>\n</g>\n<!-- 1332&#45;&gt;1333 -->\n<g id=\"edge59\" class=\"edge\">\n<title>1332&#45;&gt;1333</title>\n<path fill=\"none\" stroke=\"#000000\" d=\"M2907.5815,-71.9769C2903.9977,-63.2167 2900.1862,-53.8995 2896.7564,-45.5157\"/>\n<polygon fill=\"#000000\" stroke=\"#000000\" points=\"2899.968,-44.1222 2892.9422,-36.192 2893.4891,-46.7727 2899.968,-44.1222\"/>\n</g>\n<!-- 1360 -->\n<g id=\"node61\" class=\"node\">\n<title>1360</title>\n<path fill=\"#c0c0c0\" stroke=\"#000000\" d=\"M2972.5,-36C2972.5,-36 2942.5,-36 2942.5,-36 2936.5,-36 2930.5,-30 2930.5,-24 2930.5,-24 2930.5,-12 2930.5,-12 2930.5,-6 2936.5,0 2942.5,0 2942.5,0 2972.5,0 2972.5,0 2978.5,0 2984.5,-6 2984.5,-12 2984.5,-12 2984.5,-24 2984.5,-24 2984.5,-30 2978.5,-36 2972.5,-36\"/>\n<text text-anchor=\"middle\" x=\"2957.5\" y=\"-14.3\" font-family=\"Helvetica,sans-Serif\" font-size=\"14.00\" fill=\"#000000\">(...)</text>\n</g>\n<!-- 1332&#45;&gt;1360 -->\n<g id=\"edge60\" class=\"edge\">\n<title>1332&#45;&gt;1360</title>\n<path fill=\"none\" stroke=\"#000000\" d=\"M2935.4185,-71.9769C2939.0023,-63.2167 2942.8138,-53.8995 2946.2436,-45.5157\"/>\n<polygon fill=\"#000000\" stroke=\"#000000\" points=\"2949.5109,-46.7727 2950.0578,-36.192 2943.032,-44.1222 2949.5109,-46.7727\"/>\n</g>\n</g>\n</svg>\n"
          },
          "metadata": {},
          "execution_count": 29
        }
      ]
    },
    {
      "cell_type": "markdown",
      "source": [
        "#Random Forest"
      ],
      "metadata": {
        "id": "-4EzvN2zyOxM"
      }
    },
    {
      "cell_type": "code",
      "source": [
        "from sklearn.ensemble import RandomForestClassifier\n",
        "RFclf = RandomForestClassifier()\n",
        "RFclf.fit(x_train, y_train)"
      ],
      "metadata": {
        "colab": {
          "base_uri": "https://localhost:8080/"
        },
        "id": "2XDJq_OHyS98",
        "outputId": "06f8a229-962f-4bf3-cdd5-3888804aaeb1"
      },
      "execution_count": 30,
      "outputs": [
        {
          "output_type": "stream",
          "name": "stderr",
          "text": [
            "/usr/local/lib/python3.7/dist-packages/ipykernel_launcher.py:3: DataConversionWarning: A column-vector y was passed when a 1d array was expected. Please change the shape of y to (n_samples,), for example using ravel().\n",
            "  This is separate from the ipykernel package so we can avoid doing imports until\n"
          ]
        },
        {
          "output_type": "execute_result",
          "data": {
            "text/plain": [
              "RandomForestClassifier()"
            ]
          },
          "metadata": {},
          "execution_count": 30
        }
      ]
    },
    {
      "cell_type": "markdown",
      "source": [
        "##Test random forest classifer"
      ],
      "metadata": {
        "id": "ZODJOC85ys0o"
      }
    },
    {
      "cell_type": "code",
      "source": [
        "from sklearn.metrics import accuracy_score\n",
        "from sklearn.metrics import roc_auc_score\n",
        "from sklearn.metrics import precision_score\n",
        "from sklearn.metrics import recall_score\n",
        "\n",
        "rf_pred = RFclf.predict(x_test)\n",
        "rf_acc = accuracy_score(y_test, tree_pred)\n",
        "rf_roc =  roc_auc_score(y_test, tree_pred)\n",
        "rf_precision =  precision_score(y_test, tree_pred)\n",
        "rf_recall = recall_score(y_test, tree_pred)\n",
        "print('accuracy:', rf_acc) \n",
        "print('roc_auc:', rf_roc)\n",
        "print('precision:', rf_precision)\n",
        "print('recall:', rf_recall) "
      ],
      "metadata": {
        "colab": {
          "base_uri": "https://localhost:8080/"
        },
        "id": "B5r_yx-bymsc",
        "outputId": "2a2a0edc-edea-4ebd-91c4-1ecef3b1865d"
      },
      "execution_count": 31,
      "outputs": [
        {
          "output_type": "stream",
          "name": "stdout",
          "text": [
            "accuracy: 0.7307206068268015\n",
            "roc_auc: 0.6542750448740188\n",
            "precision: 0.4568764568764569\n",
            "recall: 0.5038560411311054\n"
          ]
        }
      ]
    },
    {
      "cell_type": "markdown",
      "source": [
        "#Logistic Regression"
      ],
      "metadata": {
        "id": "fzswdWpO8wFE"
      }
    },
    {
      "cell_type": "markdown",
      "source": [
        "##Train logistic regression classifer"
      ],
      "metadata": {
        "id": "17_XWLjQBJNQ"
      }
    },
    {
      "cell_type": "code",
      "source": [
        "from sklearn.linear_model import LogisticRegression\n",
        "\n",
        "LRclf = LogisticRegression()\n",
        "LRclf.fit(x_train, y_train)"
      ],
      "metadata": {
        "colab": {
          "base_uri": "https://localhost:8080/"
        },
        "id": "QYg9VKGrBGhY",
        "outputId": "618b9a0d-a894-4df2-81bc-3e615b22a2e7"
      },
      "execution_count": 32,
      "outputs": [
        {
          "output_type": "stream",
          "name": "stderr",
          "text": [
            "/usr/local/lib/python3.7/dist-packages/sklearn/utils/validation.py:993: DataConversionWarning: A column-vector y was passed when a 1d array was expected. Please change the shape of y to (n_samples, ), for example using ravel().\n",
            "  y = column_or_1d(y, warn=True)\n",
            "/usr/local/lib/python3.7/dist-packages/sklearn/linear_model/_logistic.py:818: ConvergenceWarning: lbfgs failed to converge (status=1):\n",
            "STOP: TOTAL NO. of ITERATIONS REACHED LIMIT.\n",
            "\n",
            "Increase the number of iterations (max_iter) or scale the data as shown in:\n",
            "    https://scikit-learn.org/stable/modules/preprocessing.html\n",
            "Please also refer to the documentation for alternative solver options:\n",
            "    https://scikit-learn.org/stable/modules/linear_model.html#logistic-regression\n",
            "  extra_warning_msg=_LOGISTIC_SOLVER_CONVERGENCE_MSG,\n"
          ]
        },
        {
          "output_type": "execute_result",
          "data": {
            "text/plain": [
              "LogisticRegression()"
            ]
          },
          "metadata": {},
          "execution_count": 32
        }
      ]
    },
    {
      "cell_type": "markdown",
      "source": [
        "##Test logistic regression classifer"
      ],
      "metadata": {
        "id": "1PKN0cj6Cu3g"
      }
    },
    {
      "cell_type": "code",
      "source": [
        "from sklearn.metrics import accuracy_score\n",
        "from sklearn.metrics import roc_auc_score\n",
        "from sklearn.metrics import precision_score\n",
        "from sklearn.metrics import recall_score\n",
        "\n",
        "lr_pred = LRclf.predict(x_test)\n",
        "lr_acc = accuracy_score(y_test, RL_pred) \n",
        "lr_roc = roc_auc_score(y_test, RL_pred)\n",
        "lr_precision = precision_score(y_test, RL_pred)\n",
        "lr_recall = recall_score(y_test, RL_pred)\n",
        "print('accuracy:', lr_acc) \n",
        "print('roc_auc:', lr_roc)\n",
        "print('precision:', lr_precision)\n",
        "print('recall:', lr_recall) "
      ],
      "metadata": {
        "colab": {
          "base_uri": "https://localhost:8080/"
        },
        "id": "bbid4pr7Ctsg",
        "outputId": "8d524852-4af7-498e-f4f5-39b10e658f42"
      },
      "execution_count": 41,
      "outputs": [
        {
          "output_type": "stream",
          "name": "stdout",
          "text": [
            "accuracy: 0.8109987357774968\n",
            "roc_auc: 0.7230944433790082\n",
            "precision: 0.6331360946745562\n",
            "recall: 0.5501285347043702\n"
          ]
        }
      ]
    },
    {
      "cell_type": "markdown",
      "source": [
        "#ALL MODELS"
      ],
      "metadata": {
        "id": "Kz4l95xh03B8"
      }
    },
    {
      "cell_type": "code",
      "source": [
        "models = ['tree', 'random forest', 'logistic regression']\n",
        "acc = [treegrid_acc, rf_acc, lr_acc]\n",
        "plt.bar(models, acc)\n",
        "plt.suptitle('accuracy')"
      ],
      "metadata": {
        "colab": {
          "base_uri": "https://localhost:8080/",
          "height": 312
        },
        "id": "jrqoLw6K2gko",
        "outputId": "ad82b9f1-4a57-421b-97a6-95d27d02701a"
      },
      "execution_count": 42,
      "outputs": [
        {
          "output_type": "execute_result",
          "data": {
            "text/plain": [
              "Text(0.5, 0.98, 'accuracy')"
            ]
          },
          "metadata": {},
          "execution_count": 42
        },
        {
          "output_type": "display_data",
          "data": {
            "image/png": "[encoded data removed]",
            "text/plain": [
              "<Figure size 432x288 with 1 Axes>"
            ]
          },
          "metadata": {
            "needs_background": "light"
          }
        }
      ]
    },
    {
      "cell_type": "code",
      "source": [
        "roc = [treegrid_roc, rf_roc, lr_roc]\n",
        "plt.bar(models, roc)\n",
        "plt.suptitle('AUC ROC')"
      ],
      "metadata": {
        "colab": {
          "base_uri": "https://localhost:8080/",
          "height": 312
        },
        "id": "mZDido-J55aw",
        "outputId": "01aa4685-e29d-45de-eb98-6f28b3fa4733"
      },
      "execution_count": 43,
      "outputs": [
        {
          "output_type": "execute_result",
          "data": {
            "text/plain": [
              "Text(0.5, 0.98, 'AUC ROC')"
            ]
          },
          "metadata": {},
          "execution_count": 43
        },
        {
          "output_type": "display_data",
          "data": {
            "image/png": "[encoded data removed]",
            "text/plain": [
              "<Figure size 432x288 with 1 Axes>"
            ]
          },
          "metadata": {
            "needs_background": "light"
          }
        }
      ]
    },
    {
      "cell_type": "code",
      "source": [
        "precision = [treegrid_precision, rf_precision, lr_precision]\n",
        "plt.bar(models, precision)\n",
        "plt.suptitle('precision')"
      ],
      "metadata": {
        "colab": {
          "base_uri": "https://localhost:8080/",
          "height": 312
        },
        "id": "uJImf0-06Y1s",
        "outputId": "c037c7d2-21c0-486a-b4c8-02f13ab0acea"
      },
      "execution_count": 44,
      "outputs": [
        {
          "output_type": "execute_result",
          "data": {
            "text/plain": [
              "Text(0.5, 0.98, 'precision')"
            ]
          },
          "metadata": {},
          "execution_count": 44
        },
        {
          "output_type": "display_data",
          "data": {
            "image/png": "[encoded data removed]",
            "text/plain": [
              "<Figure size 432x288 with 1 Axes>"
            ]
          },
          "metadata": {
            "needs_background": "light"
          }
        }
      ]
    },
    {
      "cell_type": "code",
      "source": [
        "recall = [treegrid_recall, rf_recall, lr_recall]\n",
        "plt.bar(models, recall)\n",
        "plt.suptitle('recall')"
      ],
      "metadata": {
        "colab": {
          "base_uri": "https://localhost:8080/",
          "height": 312
        },
        "id": "8ZCDzFNG6lGE",
        "outputId": "3ca9a50b-12d9-4630-f0a5-85ce5279c4da"
      },
      "execution_count": 45,
      "outputs": [
        {
          "output_type": "execute_result",
          "data": {
            "text/plain": [
              "Text(0.5, 0.98, 'recall')"
            ]
          },
          "metadata": {},
          "execution_count": 45
        },
        {
          "output_type": "display_data",
          "data": {
            "image/png": "[encoded data removed]",
            "text/plain": [
              "<Figure size 432x288 with 1 Axes>"
            ]
          },
          "metadata": {
            "needs_background": "light"
          }
        }
      ]
    }
  ]
}