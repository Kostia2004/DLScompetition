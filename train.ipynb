{
  "nbformat": 4,
  "nbformat_minor": 0,
  "metadata": {
    "colab": {
      "name": "train.ipynb",
      "provenance": [],
      "collapsed_sections": [],
      "authorship_tag": "ABX9TyNhaHqZaZVwIIjmCOkjOM2a",
      "include_colab_link": true
    },
    "kernelspec": {
      "name": "python3",
      "display_name": "Python 3"
    },
    "language_info": {
      "name": "python"
    }
  },
  "cells": [
    {
      "cell_type": "markdown",
      "metadata": {
        "id": "view-in-github",
        "colab_type": "text"
      },
      "source": [
        "<a href=\"https://colab.research.google.com/github/Kostia2004/DLScompetition/blob/main/train.ipynb\" target=\"_parent\"><img src=\"https://colab.research.google.com/assets/colab-badge.svg\" alt=\"Open In Colab\"/></a>"
      ]
    },
    {
      "cell_type": "code",
      "execution_count": 1,
      "metadata": {
        "id": "iB6C6YAiunvw"
      },
      "outputs": [],
      "source": [
        "import pandas as pd\n",
        "import numpy as np\n",
        "from sklearn.model_selection import train_test_split\n",
        "import matplotlib.pyplot as plt\n",
        "import seaborn as sns"
      ]
    },
    {
      "cell_type": "code",
      "source": [
        "from google.colab import drive\n",
        "drive.mount('/content/drive')"
      ],
      "metadata": {
        "id": "KJg4GyylyAIM",
        "colab": {
          "base_uri": "https://localhost:8080/"
        },
        "outputId": "55b9d63c-b6ca-4d1e-bcc1-0417f870873c"
      },
      "execution_count": 2,
      "outputs": [
        {
          "output_type": "stream",
          "name": "stdout",
          "text": [
            "Mounted at /content/drive\n"
          ]
        }
      ]
    },
    {
      "cell_type": "code",
      "source": [
        "!unzip /content/drive/MyDrive/ЭэЭэЭэЭксперименты/Нейронки/ML\\ Kaggle/advanced-dls-spring-2021.zip"
      ],
      "metadata": {
        "id": "reFf-K6_zjto",
        "colab": {
          "base_uri": "https://localhost:8080/"
        },
        "outputId": "b22122e1-7b91-4c5b-e8c5-3b986aee7565"
      },
      "execution_count": 3,
      "outputs": [
        {
          "output_type": "stream",
          "name": "stdout",
          "text": [
            "Archive:  /content/drive/MyDrive/ЭэЭэЭэЭксперименты/Нейронки/ML Kaggle/advanced-dls-spring-2021.zip\n",
            "  inflating: submission.csv          \n",
            "  inflating: test.csv                \n",
            "  inflating: train.csv               \n"
          ]
        }
      ]
    },
    {
      "cell_type": "code",
      "source": [
        "dataset = pd.read_csv('train.csv')\n",
        "dataset"
      ],
      "metadata": {
        "id": "mHwtFJXU08Ns",
        "colab": {
          "base_uri": "https://localhost:8080/",
          "height": 575
        },
        "outputId": "af41673c-543f-4cfa-d274-cda30f7516bf"
      },
      "execution_count": 4,
      "outputs": [
        {
          "output_type": "execute_result",
          "data": {
            "text/html": [
              "\n",
              "  <div id=\"df-b17b49b6-0b05-47d6-9452-923e84bfd815\">\n",
              "    <div class=\"colab-df-container\">\n",
              "      <div>\n",
              "<style scoped>\n",
              "    .dataframe tbody tr th:only-of-type {\n",
              "        vertical-align: middle;\n",
              "    }\n",
              "\n",
              "    .dataframe tbody tr th {\n",
              "        vertical-align: top;\n",
              "    }\n",
              "\n",
              "    .dataframe thead th {\n",
              "        text-align: right;\n",
              "    }\n",
              "</style>\n",
              "<table border=\"1\" class=\"dataframe\">\n",
              "  <thead>\n",
              "    <tr style=\"text-align: right;\">\n",
              "      <th></th>\n",
              "      <th>ClientPeriod</th>\n",
              "      <th>MonthlySpending</th>\n",
              "      <th>TotalSpent</th>\n",
              "      <th>Sex</th>\n",
              "      <th>IsSeniorCitizen</th>\n",
              "      <th>HasPartner</th>\n",
              "      <th>HasChild</th>\n",
              "      <th>HasPhoneService</th>\n",
              "      <th>HasMultiplePhoneNumbers</th>\n",
              "      <th>HasInternetService</th>\n",
              "      <th>HasOnlineSecurityService</th>\n",
              "      <th>HasOnlineBackup</th>\n",
              "      <th>HasDeviceProtection</th>\n",
              "      <th>HasTechSupportAccess</th>\n",
              "      <th>HasOnlineTV</th>\n",
              "      <th>HasMovieSubscription</th>\n",
              "      <th>HasContractPhone</th>\n",
              "      <th>IsBillingPaperless</th>\n",
              "      <th>PaymentMethod</th>\n",
              "      <th>Churn</th>\n",
              "    </tr>\n",
              "  </thead>\n",
              "  <tbody>\n",
              "    <tr>\n",
              "      <th>0</th>\n",
              "      <td>55</td>\n",
              "      <td>19.50</td>\n",
              "      <td>1026.35</td>\n",
              "      <td>Male</td>\n",
              "      <td>0</td>\n",
              "      <td>Yes</td>\n",
              "      <td>Yes</td>\n",
              "      <td>Yes</td>\n",
              "      <td>No</td>\n",
              "      <td>No</td>\n",
              "      <td>No internet service</td>\n",
              "      <td>No internet service</td>\n",
              "      <td>No internet service</td>\n",
              "      <td>No internet service</td>\n",
              "      <td>No internet service</td>\n",
              "      <td>No internet service</td>\n",
              "      <td>One year</td>\n",
              "      <td>No</td>\n",
              "      <td>Mailed check</td>\n",
              "      <td>0</td>\n",
              "    </tr>\n",
              "    <tr>\n",
              "      <th>1</th>\n",
              "      <td>72</td>\n",
              "      <td>25.85</td>\n",
              "      <td>1872.2</td>\n",
              "      <td>Male</td>\n",
              "      <td>0</td>\n",
              "      <td>Yes</td>\n",
              "      <td>No</td>\n",
              "      <td>Yes</td>\n",
              "      <td>Yes</td>\n",
              "      <td>No</td>\n",
              "      <td>No internet service</td>\n",
              "      <td>No internet service</td>\n",
              "      <td>No internet service</td>\n",
              "      <td>No internet service</td>\n",
              "      <td>No internet service</td>\n",
              "      <td>No internet service</td>\n",
              "      <td>Two year</td>\n",
              "      <td>No</td>\n",
              "      <td>Credit card (automatic)</td>\n",
              "      <td>0</td>\n",
              "    </tr>\n",
              "    <tr>\n",
              "      <th>2</th>\n",
              "      <td>1</td>\n",
              "      <td>75.90</td>\n",
              "      <td>75.9</td>\n",
              "      <td>Male</td>\n",
              "      <td>0</td>\n",
              "      <td>No</td>\n",
              "      <td>No</td>\n",
              "      <td>Yes</td>\n",
              "      <td>No</td>\n",
              "      <td>Fiber optic</td>\n",
              "      <td>No</td>\n",
              "      <td>No</td>\n",
              "      <td>No</td>\n",
              "      <td>Yes</td>\n",
              "      <td>No</td>\n",
              "      <td>No</td>\n",
              "      <td>Month-to-month</td>\n",
              "      <td>Yes</td>\n",
              "      <td>Electronic check</td>\n",
              "      <td>1</td>\n",
              "    </tr>\n",
              "    <tr>\n",
              "      <th>3</th>\n",
              "      <td>32</td>\n",
              "      <td>79.30</td>\n",
              "      <td>2570</td>\n",
              "      <td>Female</td>\n",
              "      <td>1</td>\n",
              "      <td>Yes</td>\n",
              "      <td>No</td>\n",
              "      <td>Yes</td>\n",
              "      <td>Yes</td>\n",
              "      <td>Fiber optic</td>\n",
              "      <td>No</td>\n",
              "      <td>No</td>\n",
              "      <td>Yes</td>\n",
              "      <td>No</td>\n",
              "      <td>No</td>\n",
              "      <td>No</td>\n",
              "      <td>Month-to-month</td>\n",
              "      <td>No</td>\n",
              "      <td>Mailed check</td>\n",
              "      <td>0</td>\n",
              "    </tr>\n",
              "    <tr>\n",
              "      <th>4</th>\n",
              "      <td>60</td>\n",
              "      <td>115.25</td>\n",
              "      <td>6758.45</td>\n",
              "      <td>Female</td>\n",
              "      <td>0</td>\n",
              "      <td>Yes</td>\n",
              "      <td>Yes</td>\n",
              "      <td>Yes</td>\n",
              "      <td>Yes</td>\n",
              "      <td>Fiber optic</td>\n",
              "      <td>Yes</td>\n",
              "      <td>Yes</td>\n",
              "      <td>Yes</td>\n",
              "      <td>Yes</td>\n",
              "      <td>Yes</td>\n",
              "      <td>Yes</td>\n",
              "      <td>Two year</td>\n",
              "      <td>No</td>\n",
              "      <td>Credit card (automatic)</td>\n",
              "      <td>0</td>\n",
              "    </tr>\n",
              "    <tr>\n",
              "      <th>...</th>\n",
              "      <td>...</td>\n",
              "      <td>...</td>\n",
              "      <td>...</td>\n",
              "      <td>...</td>\n",
              "      <td>...</td>\n",
              "      <td>...</td>\n",
              "      <td>...</td>\n",
              "      <td>...</td>\n",
              "      <td>...</td>\n",
              "      <td>...</td>\n",
              "      <td>...</td>\n",
              "      <td>...</td>\n",
              "      <td>...</td>\n",
              "      <td>...</td>\n",
              "      <td>...</td>\n",
              "      <td>...</td>\n",
              "      <td>...</td>\n",
              "      <td>...</td>\n",
              "      <td>...</td>\n",
              "      <td>...</td>\n",
              "    </tr>\n",
              "    <tr>\n",
              "      <th>5277</th>\n",
              "      <td>3</td>\n",
              "      <td>30.40</td>\n",
              "      <td>82.15</td>\n",
              "      <td>Male</td>\n",
              "      <td>0</td>\n",
              "      <td>No</td>\n",
              "      <td>No</td>\n",
              "      <td>No</td>\n",
              "      <td>No phone service</td>\n",
              "      <td>DSL</td>\n",
              "      <td>No</td>\n",
              "      <td>No</td>\n",
              "      <td>No</td>\n",
              "      <td>Yes</td>\n",
              "      <td>No</td>\n",
              "      <td>No</td>\n",
              "      <td>Month-to-month</td>\n",
              "      <td>No</td>\n",
              "      <td>Electronic check</td>\n",
              "      <td>0</td>\n",
              "    </tr>\n",
              "    <tr>\n",
              "      <th>5278</th>\n",
              "      <td>50</td>\n",
              "      <td>44.45</td>\n",
              "      <td>2188.45</td>\n",
              "      <td>Male</td>\n",
              "      <td>0</td>\n",
              "      <td>Yes</td>\n",
              "      <td>No</td>\n",
              "      <td>No</td>\n",
              "      <td>No phone service</td>\n",
              "      <td>DSL</td>\n",
              "      <td>Yes</td>\n",
              "      <td>No</td>\n",
              "      <td>No</td>\n",
              "      <td>Yes</td>\n",
              "      <td>Yes</td>\n",
              "      <td>No</td>\n",
              "      <td>One year</td>\n",
              "      <td>Yes</td>\n",
              "      <td>Bank transfer (automatic)</td>\n",
              "      <td>0</td>\n",
              "    </tr>\n",
              "    <tr>\n",
              "      <th>5279</th>\n",
              "      <td>1</td>\n",
              "      <td>55.05</td>\n",
              "      <td>55.05</td>\n",
              "      <td>Male</td>\n",
              "      <td>0</td>\n",
              "      <td>No</td>\n",
              "      <td>No</td>\n",
              "      <td>Yes</td>\n",
              "      <td>No</td>\n",
              "      <td>DSL</td>\n",
              "      <td>No</td>\n",
              "      <td>No</td>\n",
              "      <td>Yes</td>\n",
              "      <td>Yes</td>\n",
              "      <td>No</td>\n",
              "      <td>No</td>\n",
              "      <td>Month-to-month</td>\n",
              "      <td>No</td>\n",
              "      <td>Mailed check</td>\n",
              "      <td>0</td>\n",
              "    </tr>\n",
              "    <tr>\n",
              "      <th>5280</th>\n",
              "      <td>29</td>\n",
              "      <td>76.00</td>\n",
              "      <td>2215.25</td>\n",
              "      <td>Female</td>\n",
              "      <td>0</td>\n",
              "      <td>No</td>\n",
              "      <td>No</td>\n",
              "      <td>Yes</td>\n",
              "      <td>Yes</td>\n",
              "      <td>Fiber optic</td>\n",
              "      <td>No</td>\n",
              "      <td>No</td>\n",
              "      <td>No</td>\n",
              "      <td>No</td>\n",
              "      <td>No</td>\n",
              "      <td>No</td>\n",
              "      <td>Month-to-month</td>\n",
              "      <td>Yes</td>\n",
              "      <td>Credit card (automatic)</td>\n",
              "      <td>0</td>\n",
              "    </tr>\n",
              "    <tr>\n",
              "      <th>5281</th>\n",
              "      <td>19</td>\n",
              "      <td>75.90</td>\n",
              "      <td>1375.6</td>\n",
              "      <td>Female</td>\n",
              "      <td>0</td>\n",
              "      <td>No</td>\n",
              "      <td>Yes</td>\n",
              "      <td>Yes</td>\n",
              "      <td>Yes</td>\n",
              "      <td>DSL</td>\n",
              "      <td>Yes</td>\n",
              "      <td>Yes</td>\n",
              "      <td>No</td>\n",
              "      <td>Yes</td>\n",
              "      <td>Yes</td>\n",
              "      <td>No</td>\n",
              "      <td>Month-to-month</td>\n",
              "      <td>Yes</td>\n",
              "      <td>Mailed check</td>\n",
              "      <td>0</td>\n",
              "    </tr>\n",
              "  </tbody>\n",
              "</table>\n",
              "<p>5282 rows × 20 columns</p>\n",
              "</div>\n",
              "      <button class=\"colab-df-convert\" onclick=\"convertToInteractive('df-b17b49b6-0b05-47d6-9452-923e84bfd815')\"\n",
              "              title=\"Convert this dataframe to an interactive table.\"\n",
              "              style=\"display:none;\">\n",
              "        \n",
              "  <svg xmlns=\"http://www.w3.org/2000/svg\" height=\"24px\"viewBox=\"0 0 24 24\"\n",
              "       width=\"24px\">\n",
              "    <path d=\"M0 0h24v24H0V0z\" fill=\"none\"/>\n",
              "    <path d=\"M18.56 5.44l.94 2.06.94-2.06 2.06-.94-2.06-.94-.94-2.06-.94 2.06-2.06.94zm-11 1L8.5 8.5l.94-2.06 2.06-.94-2.06-.94L8.5 2.5l-.94 2.06-2.06.94zm10 10l.94 2.06.94-2.06 2.06-.94-2.06-.94-.94-2.06-.94 2.06-2.06.94z\"/><path d=\"M17.41 7.96l-1.37-1.37c-.4-.4-.92-.59-1.43-.59-.52 0-1.04.2-1.43.59L10.3 9.45l-7.72 7.72c-.78.78-.78 2.05 0 2.83L4 21.41c.39.39.9.59 1.41.59.51 0 1.02-.2 1.41-.59l7.78-7.78 2.81-2.81c.8-.78.8-2.07 0-2.86zM5.41 20L4 18.59l7.72-7.72 1.47 1.35L5.41 20z\"/>\n",
              "  </svg>\n",
              "      </button>\n",
              "      \n",
              "  <style>\n",
              "    .colab-df-container {\n",
              "      display:flex;\n",
              "      flex-wrap:wrap;\n",
              "      gap: 12px;\n",
              "    }\n",
              "\n",
              "    .colab-df-convert {\n",
              "      background-color: #E8F0FE;\n",
              "      border: none;\n",
              "      border-radius: 50%;\n",
              "      cursor: pointer;\n",
              "      display: none;\n",
              "      fill: #1967D2;\n",
              "      height: 32px;\n",
              "      padding: 0 0 0 0;\n",
              "      width: 32px;\n",
              "    }\n",
              "\n",
              "    .colab-df-convert:hover {\n",
              "      background-color: #E2EBFA;\n",
              "      box-shadow: 0px 1px 2px rgba(60, 64, 67, 0.3), 0px 1px 3px 1px rgba(60, 64, 67, 0.15);\n",
              "      fill: #174EA6;\n",
              "    }\n",
              "\n",
              "    [theme=dark] .colab-df-convert {\n",
              "      background-color: #3B4455;\n",
              "      fill: #D2E3FC;\n",
              "    }\n",
              "\n",
              "    [theme=dark] .colab-df-convert:hover {\n",
              "      background-color: #434B5C;\n",
              "      box-shadow: 0px 1px 3px 1px rgba(0, 0, 0, 0.15);\n",
              "      filter: drop-shadow(0px 1px 2px rgba(0, 0, 0, 0.3));\n",
              "      fill: #FFFFFF;\n",
              "    }\n",
              "  </style>\n",
              "\n",
              "      <script>\n",
              "        const buttonEl =\n",
              "          document.querySelector('#df-b17b49b6-0b05-47d6-9452-923e84bfd815 button.colab-df-convert');\n",
              "        buttonEl.style.display =\n",
              "          google.colab.kernel.accessAllowed ? 'block' : 'none';\n",
              "\n",
              "        async function convertToInteractive(key) {\n",
              "          const element = document.querySelector('#df-b17b49b6-0b05-47d6-9452-923e84bfd815');\n",
              "          const dataTable =\n",
              "            await google.colab.kernel.invokeFunction('convertToInteractive',\n",
              "                                                     [key], {});\n",
              "          if (!dataTable) return;\n",
              "\n",
              "          const docLinkHtml = 'Like what you see? Visit the ' +\n",
              "            '<a target=\"_blank\" href=https://colab.research.google.com/notebooks/data_table.ipynb>data table notebook</a>'\n",
              "            + ' to learn more about interactive tables.';\n",
              "          element.innerHTML = '';\n",
              "          dataTable['output_type'] = 'display_data';\n",
              "          await google.colab.output.renderOutput(dataTable, element);\n",
              "          const docLink = document.createElement('div');\n",
              "          docLink.innerHTML = docLinkHtml;\n",
              "          element.appendChild(docLink);\n",
              "        }\n",
              "      </script>\n",
              "    </div>\n",
              "  </div>\n",
              "  "
            ],
            "text/plain": [
              "      ClientPeriod  MonthlySpending  ...              PaymentMethod Churn\n",
              "0               55            19.50  ...               Mailed check     0\n",
              "1               72            25.85  ...    Credit card (automatic)     0\n",
              "2                1            75.90  ...           Electronic check     1\n",
              "3               32            79.30  ...               Mailed check     0\n",
              "4               60           115.25  ...    Credit card (automatic)     0\n",
              "...            ...              ...  ...                        ...   ...\n",
              "5277             3            30.40  ...           Electronic check     0\n",
              "5278            50            44.45  ...  Bank transfer (automatic)     0\n",
              "5279             1            55.05  ...               Mailed check     0\n",
              "5280            29            76.00  ...    Credit card (automatic)     0\n",
              "5281            19            75.90  ...               Mailed check     0\n",
              "\n",
              "[5282 rows x 20 columns]"
            ]
          },
          "metadata": {},
          "execution_count": 4
        }
      ]
    },
    {
      "cell_type": "code",
      "source": [
        "for column in dataset.columns:\n",
        "  print(column, dataset.loc[:, column].unique())"
      ],
      "metadata": {
        "colab": {
          "base_uri": "https://localhost:8080/"
        },
        "id": "S0nTg_rOyQxk",
        "outputId": "9762802b-ac5d-40e4-e67a-aaf981f15a7b"
      },
      "execution_count": 10,
      "outputs": [
        {
          "output_type": "stream",
          "name": "stdout",
          "text": [
            "ClientPeriod [55 72  1 32 60 25 27 50 16 70 69 26 38 30 52 71 59 61  7 20 48 22  2 21\n",
            " 44 66 58 46 45  5  4  3 62  6 39 68 51 40 10 43 12 35 31 67  8 11 29 37\n",
            " 33 14 15 47 23 65 13 41 53  9 64 42 34 17 18 63 56 54 24 28 49 19 57 36\n",
            "  0]\n",
            "MonthlySpending [ 19.5   25.85  75.9  ... 112.25 117.5   98.2 ]\n",
            "TotalSpent ['1026.35' '1872.2' '75.9' ... '55.05' '2215.25' '1375.6']\n",
            "Sex ['Male' 'Female']\n",
            "IsSeniorCitizen [0 1]\n",
            "HasPartner ['Yes' 'No']\n",
            "HasChild ['Yes' 'No']\n",
            "HasPhoneService ['Yes' 'No']\n",
            "HasMultiplePhoneNumbers ['No' 'Yes' 'No phone service']\n",
            "HasInternetService ['No' 'Fiber optic' 'DSL']\n",
            "HasOnlineSecurityService ['No internet service' 'No' 'Yes']\n",
            "HasOnlineBackup ['No internet service' 'No' 'Yes']\n",
            "HasDeviceProtection ['No internet service' 'No' 'Yes']\n",
            "HasTechSupportAccess ['No internet service' 'Yes' 'No']\n",
            "HasOnlineTV ['No internet service' 'No' 'Yes']\n",
            "HasMovieSubscription ['No internet service' 'No' 'Yes']\n",
            "HasContractPhone ['One year' 'Two year' 'Month-to-month']\n",
            "IsBillingPaperless ['No' 'Yes']\n",
            "PaymentMethod ['Mailed check' 'Credit card (automatic)' 'Electronic check'\n",
            " 'Bank transfer (automatic)']\n",
            "Churn [0 1]\n"
          ]
        }
      ]
    },
    {
      "cell_type": "code",
      "source": [
        "def normalyze(dataset):\n",
        "  dataset = dataset.drop(dataset[dataset['TotalSpent'].isin([' '])].index, axis=0)\n",
        "  dataset = dataset.replace('No internet service', 'No')\n",
        "  dataset = dataset.replace('No phone service', 'No')\n",
        "  dataset['Sex'] = pd.factorize(dataset['Sex'])[0]\n",
        "  dataset['HasPartner'] = pd.factorize(dataset['HasPartner'])[0]\n",
        "  dataset['HasChild'] = pd.factorize(dataset['HasChild'])[0]\n",
        "  dataset['HasPhoneService'] = pd.factorize(dataset['HasPhoneService'])[0]\n",
        "  dataset['HasMultiplePhoneNumbers'] = pd.factorize(dataset['HasMultiplePhoneNumbers'])[0]\n",
        "  dataset['HasInternetService'] = pd.factorize(dataset['HasInternetService'])[0]\n",
        "  dataset['HasOnlineSecurityService'] = pd.factorize(dataset['HasOnlineSecurityService'])[0]\n",
        "  dataset['HasOnlineBackup'] = pd.factorize(dataset['HasOnlineBackup'])[0]\n",
        "  dataset['HasDeviceProtection'] = pd.factorize(dataset['HasDeviceProtection'])[0]\n",
        "  dataset['HasTechSupportAccess'] = pd.factorize(dataset['HasTechSupportAccess'])[0]\n",
        "  dataset['HasOnlineTV'] = pd.factorize(dataset['HasOnlineTV'])[0]\n",
        "  dataset['HasMovieSubscription'] = pd.factorize(dataset['HasMovieSubscription'])[0]\n",
        "  dataset['HasContractPhone'] = pd.factorize(dataset['HasContractPhone'])[0]\n",
        "  dataset['IsBillingPaperless'] = pd.factorize(dataset['IsBillingPaperless'])[0]\n",
        "  dataset['PaymentMethod'] = pd.factorize(dataset['PaymentMethod'])[0]\n",
        "  return dataset"
      ],
      "metadata": {
        "id": "33UUFfIf6wHA"
      },
      "execution_count": null,
      "outputs": []
    },
    {
      "cell_type": "code",
      "source": [
        "dataset = normalyze(dataset)\n",
        "dataset"
      ],
      "metadata": {
        "colab": {
          "base_uri": "https://localhost:8080/",
          "height": 488
        },
        "id": "QaJimucmFuy8",
        "outputId": "e0d82dfc-5264-4855-b1f3-2c20ca73dfdc"
      },
      "execution_count": null,
      "outputs": [
        {
          "output_type": "execute_result",
          "data": {
            "text/html": [
              "\n",
              "  <div id=\"df-4dccf942-8d0e-499a-827f-9fec40115759\">\n",
              "    <div class=\"colab-df-container\">\n",
              "      <div>\n",
              "<style scoped>\n",
              "    .dataframe tbody tr th:only-of-type {\n",
              "        vertical-align: middle;\n",
              "    }\n",
              "\n",
              "    .dataframe tbody tr th {\n",
              "        vertical-align: top;\n",
              "    }\n",
              "\n",
              "    .dataframe thead th {\n",
              "        text-align: right;\n",
              "    }\n",
              "</style>\n",
              "<table border=\"1\" class=\"dataframe\">\n",
              "  <thead>\n",
              "    <tr style=\"text-align: right;\">\n",
              "      <th></th>\n",
              "      <th>ClientPeriod</th>\n",
              "      <th>MonthlySpending</th>\n",
              "      <th>TotalSpent</th>\n",
              "      <th>Sex</th>\n",
              "      <th>IsSeniorCitizen</th>\n",
              "      <th>HasPartner</th>\n",
              "      <th>HasChild</th>\n",
              "      <th>HasPhoneService</th>\n",
              "      <th>HasMultiplePhoneNumbers</th>\n",
              "      <th>HasInternetService</th>\n",
              "      <th>HasOnlineSecurityService</th>\n",
              "      <th>HasOnlineBackup</th>\n",
              "      <th>HasDeviceProtection</th>\n",
              "      <th>HasTechSupportAccess</th>\n",
              "      <th>HasOnlineTV</th>\n",
              "      <th>HasMovieSubscription</th>\n",
              "      <th>HasContractPhone</th>\n",
              "      <th>IsBillingPaperless</th>\n",
              "      <th>PaymentMethod</th>\n",
              "      <th>Churn</th>\n",
              "    </tr>\n",
              "  </thead>\n",
              "  <tbody>\n",
              "    <tr>\n",
              "      <th>0</th>\n",
              "      <td>55</td>\n",
              "      <td>19.50</td>\n",
              "      <td>1026.35</td>\n",
              "      <td>0</td>\n",
              "      <td>0</td>\n",
              "      <td>0</td>\n",
              "      <td>0</td>\n",
              "      <td>0</td>\n",
              "      <td>0</td>\n",
              "      <td>0</td>\n",
              "      <td>0</td>\n",
              "      <td>0</td>\n",
              "      <td>0</td>\n",
              "      <td>0</td>\n",
              "      <td>0</td>\n",
              "      <td>0</td>\n",
              "      <td>0</td>\n",
              "      <td>0</td>\n",
              "      <td>0</td>\n",
              "      <td>0</td>\n",
              "    </tr>\n",
              "    <tr>\n",
              "      <th>1</th>\n",
              "      <td>72</td>\n",
              "      <td>25.85</td>\n",
              "      <td>1872.2</td>\n",
              "      <td>0</td>\n",
              "      <td>0</td>\n",
              "      <td>0</td>\n",
              "      <td>1</td>\n",
              "      <td>0</td>\n",
              "      <td>1</td>\n",
              "      <td>0</td>\n",
              "      <td>0</td>\n",
              "      <td>0</td>\n",
              "      <td>0</td>\n",
              "      <td>0</td>\n",
              "      <td>0</td>\n",
              "      <td>0</td>\n",
              "      <td>1</td>\n",
              "      <td>0</td>\n",
              "      <td>1</td>\n",
              "      <td>0</td>\n",
              "    </tr>\n",
              "    <tr>\n",
              "      <th>2</th>\n",
              "      <td>1</td>\n",
              "      <td>75.90</td>\n",
              "      <td>75.9</td>\n",
              "      <td>0</td>\n",
              "      <td>0</td>\n",
              "      <td>1</td>\n",
              "      <td>1</td>\n",
              "      <td>0</td>\n",
              "      <td>0</td>\n",
              "      <td>1</td>\n",
              "      <td>0</td>\n",
              "      <td>0</td>\n",
              "      <td>0</td>\n",
              "      <td>1</td>\n",
              "      <td>0</td>\n",
              "      <td>0</td>\n",
              "      <td>2</td>\n",
              "      <td>1</td>\n",
              "      <td>2</td>\n",
              "      <td>1</td>\n",
              "    </tr>\n",
              "    <tr>\n",
              "      <th>3</th>\n",
              "      <td>32</td>\n",
              "      <td>79.30</td>\n",
              "      <td>2570</td>\n",
              "      <td>1</td>\n",
              "      <td>1</td>\n",
              "      <td>0</td>\n",
              "      <td>1</td>\n",
              "      <td>0</td>\n",
              "      <td>1</td>\n",
              "      <td>1</td>\n",
              "      <td>0</td>\n",
              "      <td>0</td>\n",
              "      <td>1</td>\n",
              "      <td>0</td>\n",
              "      <td>0</td>\n",
              "      <td>0</td>\n",
              "      <td>2</td>\n",
              "      <td>0</td>\n",
              "      <td>0</td>\n",
              "      <td>0</td>\n",
              "    </tr>\n",
              "    <tr>\n",
              "      <th>4</th>\n",
              "      <td>60</td>\n",
              "      <td>115.25</td>\n",
              "      <td>6758.45</td>\n",
              "      <td>1</td>\n",
              "      <td>0</td>\n",
              "      <td>0</td>\n",
              "      <td>0</td>\n",
              "      <td>0</td>\n",
              "      <td>1</td>\n",
              "      <td>1</td>\n",
              "      <td>1</td>\n",
              "      <td>1</td>\n",
              "      <td>1</td>\n",
              "      <td>1</td>\n",
              "      <td>1</td>\n",
              "      <td>1</td>\n",
              "      <td>1</td>\n",
              "      <td>0</td>\n",
              "      <td>1</td>\n",
              "      <td>0</td>\n",
              "    </tr>\n",
              "    <tr>\n",
              "      <th>...</th>\n",
              "      <td>...</td>\n",
              "      <td>...</td>\n",
              "      <td>...</td>\n",
              "      <td>...</td>\n",
              "      <td>...</td>\n",
              "      <td>...</td>\n",
              "      <td>...</td>\n",
              "      <td>...</td>\n",
              "      <td>...</td>\n",
              "      <td>...</td>\n",
              "      <td>...</td>\n",
              "      <td>...</td>\n",
              "      <td>...</td>\n",
              "      <td>...</td>\n",
              "      <td>...</td>\n",
              "      <td>...</td>\n",
              "      <td>...</td>\n",
              "      <td>...</td>\n",
              "      <td>...</td>\n",
              "      <td>...</td>\n",
              "    </tr>\n",
              "    <tr>\n",
              "      <th>5277</th>\n",
              "      <td>3</td>\n",
              "      <td>30.40</td>\n",
              "      <td>82.15</td>\n",
              "      <td>0</td>\n",
              "      <td>0</td>\n",
              "      <td>1</td>\n",
              "      <td>1</td>\n",
              "      <td>1</td>\n",
              "      <td>0</td>\n",
              "      <td>2</td>\n",
              "      <td>0</td>\n",
              "      <td>0</td>\n",
              "      <td>0</td>\n",
              "      <td>1</td>\n",
              "      <td>0</td>\n",
              "      <td>0</td>\n",
              "      <td>2</td>\n",
              "      <td>0</td>\n",
              "      <td>2</td>\n",
              "      <td>0</td>\n",
              "    </tr>\n",
              "    <tr>\n",
              "      <th>5278</th>\n",
              "      <td>50</td>\n",
              "      <td>44.45</td>\n",
              "      <td>2188.45</td>\n",
              "      <td>0</td>\n",
              "      <td>0</td>\n",
              "      <td>0</td>\n",
              "      <td>1</td>\n",
              "      <td>1</td>\n",
              "      <td>0</td>\n",
              "      <td>2</td>\n",
              "      <td>1</td>\n",
              "      <td>0</td>\n",
              "      <td>0</td>\n",
              "      <td>1</td>\n",
              "      <td>1</td>\n",
              "      <td>0</td>\n",
              "      <td>0</td>\n",
              "      <td>1</td>\n",
              "      <td>3</td>\n",
              "      <td>0</td>\n",
              "    </tr>\n",
              "    <tr>\n",
              "      <th>5279</th>\n",
              "      <td>1</td>\n",
              "      <td>55.05</td>\n",
              "      <td>55.05</td>\n",
              "      <td>0</td>\n",
              "      <td>0</td>\n",
              "      <td>1</td>\n",
              "      <td>1</td>\n",
              "      <td>0</td>\n",
              "      <td>0</td>\n",
              "      <td>2</td>\n",
              "      <td>0</td>\n",
              "      <td>0</td>\n",
              "      <td>1</td>\n",
              "      <td>1</td>\n",
              "      <td>0</td>\n",
              "      <td>0</td>\n",
              "      <td>2</td>\n",
              "      <td>0</td>\n",
              "      <td>0</td>\n",
              "      <td>0</td>\n",
              "    </tr>\n",
              "    <tr>\n",
              "      <th>5280</th>\n",
              "      <td>29</td>\n",
              "      <td>76.00</td>\n",
              "      <td>2215.25</td>\n",
              "      <td>1</td>\n",
              "      <td>0</td>\n",
              "      <td>1</td>\n",
              "      <td>1</td>\n",
              "      <td>0</td>\n",
              "      <td>1</td>\n",
              "      <td>1</td>\n",
              "      <td>0</td>\n",
              "      <td>0</td>\n",
              "      <td>0</td>\n",
              "      <td>0</td>\n",
              "      <td>0</td>\n",
              "      <td>0</td>\n",
              "      <td>2</td>\n",
              "      <td>1</td>\n",
              "      <td>1</td>\n",
              "      <td>0</td>\n",
              "    </tr>\n",
              "    <tr>\n",
              "      <th>5281</th>\n",
              "      <td>19</td>\n",
              "      <td>75.90</td>\n",
              "      <td>1375.6</td>\n",
              "      <td>1</td>\n",
              "      <td>0</td>\n",
              "      <td>1</td>\n",
              "      <td>0</td>\n",
              "      <td>0</td>\n",
              "      <td>1</td>\n",
              "      <td>2</td>\n",
              "      <td>1</td>\n",
              "      <td>1</td>\n",
              "      <td>0</td>\n",
              "      <td>1</td>\n",
              "      <td>1</td>\n",
              "      <td>0</td>\n",
              "      <td>2</td>\n",
              "      <td>1</td>\n",
              "      <td>0</td>\n",
              "      <td>0</td>\n",
              "    </tr>\n",
              "  </tbody>\n",
              "</table>\n",
              "<p>5273 rows × 20 columns</p>\n",
              "</div>\n",
              "      <button class=\"colab-df-convert\" onclick=\"convertToInteractive('df-4dccf942-8d0e-499a-827f-9fec40115759')\"\n",
              "              title=\"Convert this dataframe to an interactive table.\"\n",
              "              style=\"display:none;\">\n",
              "        \n",
              "  <svg xmlns=\"http://www.w3.org/2000/svg\" height=\"24px\"viewBox=\"0 0 24 24\"\n",
              "       width=\"24px\">\n",
              "    <path d=\"M0 0h24v24H0V0z\" fill=\"none\"/>\n",
              "    <path d=\"M18.56 5.44l.94 2.06.94-2.06 2.06-.94-2.06-.94-.94-2.06-.94 2.06-2.06.94zm-11 1L8.5 8.5l.94-2.06 2.06-.94-2.06-.94L8.5 2.5l-.94 2.06-2.06.94zm10 10l.94 2.06.94-2.06 2.06-.94-2.06-.94-.94-2.06-.94 2.06-2.06.94z\"/><path d=\"M17.41 7.96l-1.37-1.37c-.4-.4-.92-.59-1.43-.59-.52 0-1.04.2-1.43.59L10.3 9.45l-7.72 7.72c-.78.78-.78 2.05 0 2.83L4 21.41c.39.39.9.59 1.41.59.51 0 1.02-.2 1.41-.59l7.78-7.78 2.81-2.81c.8-.78.8-2.07 0-2.86zM5.41 20L4 18.59l7.72-7.72 1.47 1.35L5.41 20z\"/>\n",
              "  </svg>\n",
              "      </button>\n",
              "      \n",
              "  <style>\n",
              "    .colab-df-container {\n",
              "      display:flex;\n",
              "      flex-wrap:wrap;\n",
              "      gap: 12px;\n",
              "    }\n",
              "\n",
              "    .colab-df-convert {\n",
              "      background-color: #E8F0FE;\n",
              "      border: none;\n",
              "      border-radius: 50%;\n",
              "      cursor: pointer;\n",
              "      display: none;\n",
              "      fill: #1967D2;\n",
              "      height: 32px;\n",
              "      padding: 0 0 0 0;\n",
              "      width: 32px;\n",
              "    }\n",
              "\n",
              "    .colab-df-convert:hover {\n",
              "      background-color: #E2EBFA;\n",
              "      box-shadow: 0px 1px 2px rgba(60, 64, 67, 0.3), 0px 1px 3px 1px rgba(60, 64, 67, 0.15);\n",
              "      fill: #174EA6;\n",
              "    }\n",
              "\n",
              "    [theme=dark] .colab-df-convert {\n",
              "      background-color: #3B4455;\n",
              "      fill: #D2E3FC;\n",
              "    }\n",
              "\n",
              "    [theme=dark] .colab-df-convert:hover {\n",
              "      background-color: #434B5C;\n",
              "      box-shadow: 0px 1px 3px 1px rgba(0, 0, 0, 0.15);\n",
              "      filter: drop-shadow(0px 1px 2px rgba(0, 0, 0, 0.3));\n",
              "      fill: #FFFFFF;\n",
              "    }\n",
              "  </style>\n",
              "\n",
              "      <script>\n",
              "        const buttonEl =\n",
              "          document.querySelector('#df-4dccf942-8d0e-499a-827f-9fec40115759 button.colab-df-convert');\n",
              "        buttonEl.style.display =\n",
              "          google.colab.kernel.accessAllowed ? 'block' : 'none';\n",
              "\n",
              "        async function convertToInteractive(key) {\n",
              "          const element = document.querySelector('#df-4dccf942-8d0e-499a-827f-9fec40115759');\n",
              "          const dataTable =\n",
              "            await google.colab.kernel.invokeFunction('convertToInteractive',\n",
              "                                                     [key], {});\n",
              "          if (!dataTable) return;\n",
              "\n",
              "          const docLinkHtml = 'Like what you see? Visit the ' +\n",
              "            '<a target=\"_blank\" href=https://colab.research.google.com/notebooks/data_table.ipynb>data table notebook</a>'\n",
              "            + ' to learn more about interactive tables.';\n",
              "          element.innerHTML = '';\n",
              "          dataTable['output_type'] = 'display_data';\n",
              "          await google.colab.output.renderOutput(dataTable, element);\n",
              "          const docLink = document.createElement('div');\n",
              "          docLink.innerHTML = docLinkHtml;\n",
              "          element.appendChild(docLink);\n",
              "        }\n",
              "      </script>\n",
              "    </div>\n",
              "  </div>\n",
              "  "
            ],
            "text/plain": [
              "      ClientPeriod  MonthlySpending  ... PaymentMethod  Churn\n",
              "0               55            19.50  ...             0      0\n",
              "1               72            25.85  ...             1      0\n",
              "2                1            75.90  ...             2      1\n",
              "3               32            79.30  ...             0      0\n",
              "4               60           115.25  ...             1      0\n",
              "...            ...              ...  ...           ...    ...\n",
              "5277             3            30.40  ...             2      0\n",
              "5278            50            44.45  ...             3      0\n",
              "5279             1            55.05  ...             0      0\n",
              "5280            29            76.00  ...             1      0\n",
              "5281            19            75.90  ...             0      0\n",
              "\n",
              "[5273 rows x 20 columns]"
            ]
          },
          "metadata": {},
          "execution_count": 7
        }
      ]
    },
    {
      "cell_type": "code",
      "source": [
        "X_columns = dataset.columns[:-1]\n",
        "Y_columns = ['Churn']"
      ],
      "metadata": {
        "id": "n7d5qrEdL540"
      },
      "execution_count": null,
      "outputs": []
    },
    {
      "cell_type": "code",
      "source": [
        "x = dataset[X_columns]\n",
        "y = dataset[Y_columns]"
      ],
      "metadata": {
        "id": "IhAoOItwWOII"
      },
      "execution_count": null,
      "outputs": []
    },
    {
      "cell_type": "code",
      "source": [
        "x_train, x_test, y_train, y_test = train_test_split(x.values, y.values, test_size=0.2, random_state=17)"
      ],
      "metadata": {
        "id": "kcR25TyCWifQ"
      },
      "execution_count": null,
      "outputs": []
    },
    {
      "cell_type": "code",
      "source": [
        "metrics_scores = {}\n",
        "metrics = ['accuracy', 'roc_auc', 'precision', 'recall']"
      ],
      "metadata": {
        "id": "RHfK2BTxIvsU"
      },
      "execution_count": null,
      "outputs": []
    },
    {
      "cell_type": "markdown",
      "source": [
        "#Tree"
      ],
      "metadata": {
        "id": "J_cpAYrfZkBg"
      }
    },
    {
      "cell_type": "markdown",
      "source": [
        "##Train tree classifier"
      ],
      "metadata": {
        "id": "sDL2FUiRXttU"
      }
    },
    {
      "cell_type": "code",
      "source": [
        "from sklearn.tree import DecisionTreeClassifier\n",
        "tree = DecisionTreeClassifier()\n",
        "tree.fit(x_train, y_train)"
      ],
      "metadata": {
        "id": "h96zHnKRREVQ",
        "colab": {
          "base_uri": "https://localhost:8080/"
        },
        "outputId": "b2748354-35b0-4492-c7d0-e5edafb8b8e5"
      },
      "execution_count": null,
      "outputs": [
        {
          "output_type": "execute_result",
          "data": {
            "text/plain": [
              "DecisionTreeClassifier()"
            ]
          },
          "metadata": {},
          "execution_count": 11
        }
      ]
    },
    {
      "cell_type": "code",
      "source": [
        "tree.get_depth()"
      ],
      "metadata": {
        "colab": {
          "base_uri": "https://localhost:8080/"
        },
        "id": "G7so7TQJYHEw",
        "outputId": "b5473dc0-0f35-4fed-c491-cccca7c28d73"
      },
      "execution_count": null,
      "outputs": [
        {
          "output_type": "execute_result",
          "data": {
            "text/plain": [
              "29"
            ]
          },
          "metadata": {},
          "execution_count": 12
        }
      ]
    },
    {
      "cell_type": "markdown",
      "source": [
        "###Tree parameters setup"
      ],
      "metadata": {
        "id": "RIZLb47IaIeU"
      }
    },
    {
      "cell_type": "code",
      "source": [
        "from sklearn.model_selection import GridSearchCV, cross_val_score"
      ],
      "metadata": {
        "id": "w_pxq7vGaLn4"
      },
      "execution_count": null,
      "outputs": []
    },
    {
      "cell_type": "code",
      "source": [
        "tree_params = {'max_depth': range(1,20),\n",
        "'max_features': range(2,19)}"
      ],
      "metadata": {
        "id": "4vqan9ZoaUm4"
      },
      "execution_count": null,
      "outputs": []
    },
    {
      "cell_type": "code",
      "source": [
        "tree_grid = GridSearchCV(tree, tree_params,\n",
        "cv=5, n_jobs=-1,\n",
        "verbose=True)"
      ],
      "metadata": {
        "id": "0XKcpUwydG1I"
      },
      "execution_count": null,
      "outputs": []
    },
    {
      "cell_type": "code",
      "source": [
        "tree_grid.fit(x_train, y_train)"
      ],
      "metadata": {
        "colab": {
          "base_uri": "https://localhost:8080/"
        },
        "id": "yEnl3lD0dcGE",
        "outputId": "8760beb9-0d1b-4a4b-e929-5628e1de5075"
      },
      "execution_count": null,
      "outputs": [
        {
          "output_type": "stream",
          "name": "stdout",
          "text": [
            "Fitting 5 folds for each of 323 candidates, totalling 1615 fits\n"
          ]
        },
        {
          "output_type": "execute_result",
          "data": {
            "text/plain": [
              "GridSearchCV(cv=5, estimator=DecisionTreeClassifier(), n_jobs=-1,\n",
              "             param_grid={'max_depth': range(1, 20),\n",
              "                         'max_features': range(2, 19)},\n",
              "             verbose=True)"
            ]
          },
          "metadata": {},
          "execution_count": 16
        }
      ]
    },
    {
      "cell_type": "code",
      "source": [
        "tree_grid.best_params_, tree_grid.best_score_"
      ],
      "metadata": {
        "colab": {
          "base_uri": "https://localhost:8080/"
        },
        "id": "UErabrNFdo0I",
        "outputId": "366892d1-325a-430f-8ed2-609c9c8cb77b"
      },
      "execution_count": null,
      "outputs": [
        {
          "output_type": "execute_result",
          "data": {
            "text/plain": [
              "({'max_depth': 6, 'max_features': 8}, 0.7887638933396299)"
            ]
          },
          "metadata": {},
          "execution_count": 17
        }
      ]
    },
    {
      "cell_type": "markdown",
      "source": [
        "##Test tree classifier"
      ],
      "metadata": {
        "id": "liIbwYN3XykQ"
      }
    },
    {
      "cell_type": "code",
      "source": [
        "from sklearn.metrics import accuracy_score\n",
        "from sklearn.metrics import roc_auc_score\n",
        "from sklearn.metrics import precision_score\n",
        "from sklearn.metrics import recall_score\n",
        "\n",
        "metrics_scores['tree'] = {}\n",
        "\n",
        "tree_pred = tree.predict(x_test)\n",
        "tree_metrics = []\n",
        "tree_metrics.append(accuracy_score(y_test, tree_pred))\n",
        "tree_metrics.append(roc_auc_score(y_test, tree_pred))\n",
        "tree_metrics.append(precision_score(y_test, tree_pred))\n",
        "tree_metrics.append(recall_score(y_test, tree_pred))\n",
        "for i in range(len(metrics)):\n",
        "  metrics_scores['tree'][metrics[i]] = tree_metrics[i]\n",
        "for metric in metrics:\n",
        "  print(metric+':', metrics_scores['tree'][metric])"
      ],
      "metadata": {
        "colab": {
          "base_uri": "https://localhost:8080/"
        },
        "id": "IFp9ZWqZX2U4",
        "outputId": "f7190dfb-7eaf-47df-e13f-ab7e3b9f6724"
      },
      "execution_count": null,
      "outputs": [
        {
          "output_type": "stream",
          "name": "stdout",
          "text": [
            "accuracy: 0.7317535545023697\n",
            "roc_auc: 0.6476964702867338\n",
            "precision: 0.44565217391304346\n",
            "recall: 0.48616600790513836\n"
          ]
        }
      ]
    },
    {
      "cell_type": "code",
      "source": [
        "metrics_scores['treegrid'] = {}\n",
        "\n",
        "treegrid_pred = tree_grid.predict(x_test)\n",
        "treegrid_metrics = []\n",
        "treegrid_metrics.append(accuracy_score(y_test, treegrid_pred))\n",
        "treegrid_metrics.append(roc_auc_score(y_test, treegrid_pred))\n",
        "treegrid_metrics.append(precision_score(y_test, treegrid_pred))\n",
        "treegrid_metrics.append(recall_score(y_test, treegrid_pred))\n",
        "for i in range(len(metrics)):\n",
        "  metrics_scores['treegrid'][metrics[i]] = treegrid_metrics[i]\n",
        "for metric in metrics:\n",
        "  print(metric+':', metrics_scores['treegrid'][metric])"
      ],
      "metadata": {
        "colab": {
          "base_uri": "https://localhost:8080/"
        },
        "id": "rPuSVMK6d3do",
        "outputId": "3ab78247-e1e5-4eb2-b0c8-31e291340ba0"
      },
      "execution_count": null,
      "outputs": [
        {
          "output_type": "stream",
          "name": "stdout",
          "text": [
            "accuracy: 0.8037914691943128\n",
            "roc_auc: 0.7126649778715267\n",
            "precision: 0.6017699115044248\n",
            "recall: 0.5375494071146245\n"
          ]
        }
      ]
    },
    {
      "cell_type": "code",
      "source": [
        "from sklearn.tree import export_graphviz\n",
        "import graphviz\n",
        "\n",
        "graph = export_graphviz(tree,\n",
        "                        feature_names=X_columns,\n",
        "                        max_depth = 4,\n",
        "                        filled=True,\n",
        "                        rounded=True)\n",
        "graphviz.Source(graph)"
      ],
      "metadata": {
        "colab": {
          "base_uri": "https://localhost:8080/",
          "height": 793
        },
        "id": "YR5dKkvYEiP4",
        "outputId": "2ff76e4f-601a-4ec1-cdbe-ab3536599709"
      },
      "execution_count": null,
      "outputs": [
        {
          "output_type": "execute_result",
          "data": {
            "text/plain": [
              "<graphviz.files.Source at 0x7f63dd3e18d0>"
            ],
            "image/svg+xml": "<?xml version=\"1.0\" encoding=\"UTF-8\" standalone=\"no\"?>\n<!DOCTYPE svg PUBLIC \"-//W3C//DTD SVG 1.1//EN\"\n \"http://www.w3.org/Graphics/SVG/1.1/DTD/svg11.dtd\">\n<!-- Generated by graphviz version 2.40.1 (20161225.0304)\n -->\n<!-- Title: Tree Pages: 1 -->\n<svg width=\"2864pt\" height=\"564pt\"\n viewBox=\"0.00 0.00 2863.50 564.00\" xmlns=\"http://www.w3.org/2000/svg\" xmlns:xlink=\"http://www.w3.org/1999/xlink\">\n<g id=\"graph0\" class=\"graph\" transform=\"scale(1 1) rotate(0) translate(4 560)\">\n<title>Tree</title>\n<polygon fill=\"#ffffff\" stroke=\"transparent\" points=\"-4,4 -4,-560 2859.5,-560 2859.5,4 -4,4\"/>\n<!-- 0 -->\n<g id=\"node1\" class=\"node\">\n<title>0</title>\n<path fill=\"#efaf82\" stroke=\"#000000\" d=\"M1455,-556C1455,-556 1294,-556 1294,-556 1288,-556 1282,-550 1282,-544 1282,-544 1282,-500 1282,-500 1282,-494 1288,-488 1294,-488 1294,-488 1455,-488 1455,-488 1461,-488 1467,-494 1467,-500 1467,-500 1467,-544 1467,-544 1467,-550 1461,-556 1455,-556\"/>\n<text text-anchor=\"middle\" x=\"1374.5\" y=\"-540.8\" font-family=\"Helvetica,sans-Serif\" font-size=\"14.00\" fill=\"#000000\">HasContractPhone &lt;= 1.5</text>\n<text text-anchor=\"middle\" x=\"1374.5\" y=\"-525.8\" font-family=\"Helvetica,sans-Serif\" font-size=\"14.00\" fill=\"#000000\">gini = 0.392</text>\n<text text-anchor=\"middle\" x=\"1374.5\" y=\"-510.8\" font-family=\"Helvetica,sans-Serif\" font-size=\"14.00\" fill=\"#000000\">samples = 4218</text>\n<text text-anchor=\"middle\" x=\"1374.5\" y=\"-495.8\" font-family=\"Helvetica,sans-Serif\" font-size=\"14.00\" fill=\"#000000\">value = [3087, 1131]</text>\n</g>\n<!-- 1 -->\n<g id=\"node2\" class=\"node\">\n<title>1</title>\n<path fill=\"#e78a47\" stroke=\"#000000\" d=\"M1096,-452C1096,-452 929,-452 929,-452 923,-452 917,-446 917,-440 917,-440 917,-396 917,-396 917,-390 923,-384 929,-384 929,-384 1096,-384 1096,-384 1102,-384 1108,-390 1108,-396 1108,-396 1108,-440 1108,-440 1108,-446 1102,-452 1096,-452\"/>\n<text text-anchor=\"middle\" x=\"1012.5\" y=\"-436.8\" font-family=\"Helvetica,sans-Serif\" font-size=\"14.00\" fill=\"#000000\">MonthlySpending &lt;= 93.75</text>\n<text text-anchor=\"middle\" x=\"1012.5\" y=\"-421.8\" font-family=\"Helvetica,sans-Serif\" font-size=\"14.00\" fill=\"#000000\">gini = 0.125</text>\n<text text-anchor=\"middle\" x=\"1012.5\" y=\"-406.8\" font-family=\"Helvetica,sans-Serif\" font-size=\"14.00\" fill=\"#000000\">samples = 1844</text>\n<text text-anchor=\"middle\" x=\"1012.5\" y=\"-391.8\" font-family=\"Helvetica,sans-Serif\" font-size=\"14.00\" fill=\"#000000\">value = [1721, 123]</text>\n</g>\n<!-- 0&#45;&gt;1 -->\n<g id=\"edge1\" class=\"edge\">\n<title>0&#45;&gt;1</title>\n<path fill=\"none\" stroke=\"#000000\" d=\"M1281.7461,-495.3525C1231.7589,-480.9915 1169.8828,-463.215 1118.0573,-448.3258\"/>\n<polygon fill=\"#000000\" stroke=\"#000000\" points=\"1118.7457,-444.8821 1108.1681,-445.4847 1116.8128,-451.61 1118.7457,-444.8821\"/>\n<text text-anchor=\"middle\" x=\"1120.2772\" y=\"-463.6564\" font-family=\"Helvetica,sans-Serif\" font-size=\"14.00\" fill=\"#000000\">True</text>\n</g>\n<!-- 362 -->\n<g id=\"node29\" class=\"node\">\n<title>362</title>\n<path fill=\"#f8decb\" stroke=\"#000000\" d=\"M1827,-452C1827,-452 1652,-452 1652,-452 1646,-452 1640,-446 1640,-440 1640,-440 1640,-396 1640,-396 1640,-390 1646,-384 1652,-384 1652,-384 1827,-384 1827,-384 1833,-384 1839,-390 1839,-396 1839,-396 1839,-440 1839,-440 1839,-446 1833,-452 1827,-452\"/>\n<text text-anchor=\"middle\" x=\"1739.5\" y=\"-436.8\" font-family=\"Helvetica,sans-Serif\" font-size=\"14.00\" fill=\"#000000\">MonthlySpending &lt;= 69.175</text>\n<text text-anchor=\"middle\" x=\"1739.5\" y=\"-421.8\" font-family=\"Helvetica,sans-Serif\" font-size=\"14.00\" fill=\"#000000\">gini = 0.489</text>\n<text text-anchor=\"middle\" x=\"1739.5\" y=\"-406.8\" font-family=\"Helvetica,sans-Serif\" font-size=\"14.00\" fill=\"#000000\">samples = 2374</text>\n<text text-anchor=\"middle\" x=\"1739.5\" y=\"-391.8\" font-family=\"Helvetica,sans-Serif\" font-size=\"14.00\" fill=\"#000000\">value = [1366, 1008]</text>\n</g>\n<!-- 0&#45;&gt;362 -->\n<g id=\"edge28\" class=\"edge\">\n<title>0&#45;&gt;362</title>\n<path fill=\"none\" stroke=\"#000000\" d=\"M1467.0768,-495.622C1516.6802,-481.4884 1578.0994,-463.9881 1630.0566,-449.1839\"/>\n<polygon fill=\"#000000\" stroke=\"#000000\" points=\"1631.3207,-452.4631 1639.9788,-446.3567 1629.4025,-445.731 1631.3207,-452.4631\"/>\n<text text-anchor=\"middle\" x=\"1627.8219\" y=\"-464.5019\" font-family=\"Helvetica,sans-Serif\" font-size=\"14.00\" fill=\"#000000\">False</text>\n</g>\n<!-- 2 -->\n<g id=\"node3\" class=\"node\">\n<title>2</title>\n<path fill=\"#e68641\" stroke=\"#000000\" d=\"M646,-348C646,-348 485,-348 485,-348 479,-348 473,-342 473,-336 473,-336 473,-292 473,-292 473,-286 479,-280 485,-280 485,-280 646,-280 646,-280 652,-280 658,-286 658,-292 658,-292 658,-336 658,-336 658,-342 652,-348 646,-348\"/>\n<text text-anchor=\"middle\" x=\"565.5\" y=\"-332.8\" font-family=\"Helvetica,sans-Serif\" font-size=\"14.00\" fill=\"#000000\">HasContractPhone &lt;= 0.5</text>\n<text text-anchor=\"middle\" x=\"565.5\" y=\"-317.8\" font-family=\"Helvetica,sans-Serif\" font-size=\"14.00\" fill=\"#000000\">gini = 0.072</text>\n<text text-anchor=\"middle\" x=\"565.5\" y=\"-302.8\" font-family=\"Helvetica,sans-Serif\" font-size=\"14.00\" fill=\"#000000\">samples = 1382</text>\n<text text-anchor=\"middle\" x=\"565.5\" y=\"-287.8\" font-family=\"Helvetica,sans-Serif\" font-size=\"14.00\" fill=\"#000000\">value = [1330, 52]</text>\n</g>\n<!-- 1&#45;&gt;2 -->\n<g id=\"edge2\" class=\"edge\">\n<title>1&#45;&gt;2</title>\n<path fill=\"none\" stroke=\"#000000\" d=\"M916.8816,-395.7532C843.7382,-378.7355 743.0554,-355.3104 668.2077,-337.8962\"/>\n<polygon fill=\"#000000\" stroke=\"#000000\" points=\"668.8202,-334.4453 658.2872,-335.5881 667.2339,-341.2632 668.8202,-334.4453\"/>\n</g>\n<!-- 191 -->\n<g id=\"node18\" class=\"node\">\n<title>191</title>\n<path fill=\"#ea985d\" stroke=\"#000000\" d=\"M1093,-348C1093,-348 932,-348 932,-348 926,-348 920,-342 920,-336 920,-336 920,-292 920,-292 920,-286 926,-280 932,-280 932,-280 1093,-280 1093,-280 1099,-280 1105,-286 1105,-292 1105,-292 1105,-336 1105,-336 1105,-342 1099,-348 1093,-348\"/>\n<text text-anchor=\"middle\" x=\"1012.5\" y=\"-332.8\" font-family=\"Helvetica,sans-Serif\" font-size=\"14.00\" fill=\"#000000\">HasContractPhone &lt;= 0.5</text>\n<text text-anchor=\"middle\" x=\"1012.5\" y=\"-317.8\" font-family=\"Helvetica,sans-Serif\" font-size=\"14.00\" fill=\"#000000\">gini = 0.26</text>\n<text text-anchor=\"middle\" x=\"1012.5\" y=\"-302.8\" font-family=\"Helvetica,sans-Serif\" font-size=\"14.00\" fill=\"#000000\">samples = 462</text>\n<text text-anchor=\"middle\" x=\"1012.5\" y=\"-287.8\" font-family=\"Helvetica,sans-Serif\" font-size=\"14.00\" fill=\"#000000\">value = [391, 71]</text>\n</g>\n<!-- 1&#45;&gt;191 -->\n<g id=\"edge17\" class=\"edge\">\n<title>1&#45;&gt;191</title>\n<path fill=\"none\" stroke=\"#000000\" d=\"M1012.5,-383.9465C1012.5,-375.776 1012.5,-366.9318 1012.5,-358.3697\"/>\n<polygon fill=\"#000000\" stroke=\"#000000\" points=\"1016.0001,-358.13 1012.5,-348.13 1009.0001,-358.13 1016.0001,-358.13\"/>\n</g>\n<!-- 3 -->\n<g id=\"node4\" class=\"node\">\n<title>3</title>\n<path fill=\"#e78a48\" stroke=\"#000000\" d=\"M389.5,-244C389.5,-244 207.5,-244 207.5,-244 201.5,-244 195.5,-238 195.5,-232 195.5,-232 195.5,-188 195.5,-188 195.5,-182 201.5,-176 207.5,-176 207.5,-176 389.5,-176 389.5,-176 395.5,-176 401.5,-182 401.5,-188 401.5,-188 401.5,-232 401.5,-232 401.5,-238 395.5,-244 389.5,-244\"/>\n<text text-anchor=\"middle\" x=\"298.5\" y=\"-228.8\" font-family=\"Helvetica,sans-Serif\" font-size=\"14.00\" fill=\"#000000\">HasMovieSubscription &lt;= 0.5</text>\n<text text-anchor=\"middle\" x=\"298.5\" y=\"-213.8\" font-family=\"Helvetica,sans-Serif\" font-size=\"14.00\" fill=\"#000000\">gini = 0.128</text>\n<text text-anchor=\"middle\" x=\"298.5\" y=\"-198.8\" font-family=\"Helvetica,sans-Serif\" font-size=\"14.00\" fill=\"#000000\">samples = 611</text>\n<text text-anchor=\"middle\" x=\"298.5\" y=\"-183.8\" font-family=\"Helvetica,sans-Serif\" font-size=\"14.00\" fill=\"#000000\">value = [569, 42]</text>\n</g>\n<!-- 2&#45;&gt;3 -->\n<g id=\"edge3\" class=\"edge\">\n<title>2&#45;&gt;3</title>\n<path fill=\"none\" stroke=\"#000000\" d=\"M478.0742,-279.9465C451.6812,-269.6661 422.5497,-258.319 395.5682,-247.8093\"/>\n<polygon fill=\"#000000\" stroke=\"#000000\" points=\"396.7106,-244.4982 386.1222,-244.13 394.1699,-251.0209 396.7106,-244.4982\"/>\n</g>\n<!-- 142 -->\n<g id=\"node11\" class=\"node\">\n<title>142</title>\n<path fill=\"#e5833c\" stroke=\"#000000\" d=\"M631,-244C631,-244 500,-244 500,-244 494,-244 488,-238 488,-232 488,-232 488,-188 488,-188 488,-182 494,-176 500,-176 500,-176 631,-176 631,-176 637,-176 643,-182 643,-188 643,-188 643,-232 643,-232 643,-238 637,-244 631,-244\"/>\n<text text-anchor=\"middle\" x=\"565.5\" y=\"-228.8\" font-family=\"Helvetica,sans-Serif\" font-size=\"14.00\" fill=\"#000000\">TotalSpent &lt;= 2447.3</text>\n<text text-anchor=\"middle\" x=\"565.5\" y=\"-213.8\" font-family=\"Helvetica,sans-Serif\" font-size=\"14.00\" fill=\"#000000\">gini = 0.026</text>\n<text text-anchor=\"middle\" x=\"565.5\" y=\"-198.8\" font-family=\"Helvetica,sans-Serif\" font-size=\"14.00\" fill=\"#000000\">samples = 771</text>\n<text text-anchor=\"middle\" x=\"565.5\" y=\"-183.8\" font-family=\"Helvetica,sans-Serif\" font-size=\"14.00\" fill=\"#000000\">value = [761, 10]</text>\n</g>\n<!-- 2&#45;&gt;142 -->\n<g id=\"edge10\" class=\"edge\">\n<title>2&#45;&gt;142</title>\n<path fill=\"none\" stroke=\"#000000\" d=\"M565.5,-279.9465C565.5,-271.776 565.5,-262.9318 565.5,-254.3697\"/>\n<polygon fill=\"#000000\" stroke=\"#000000\" points=\"569.0001,-254.13 565.5,-244.13 562.0001,-254.13 569.0001,-254.13\"/>\n</g>\n<!-- 4 -->\n<g id=\"node5\" class=\"node\">\n<title>4</title>\n<path fill=\"#e68641\" stroke=\"#000000\" d=\"M187,-140C187,-140 12,-140 12,-140 6,-140 0,-134 0,-128 0,-128 0,-84 0,-84 0,-78 6,-72 12,-72 12,-72 187,-72 187,-72 193,-72 199,-78 199,-84 199,-84 199,-128 199,-128 199,-134 193,-140 187,-140\"/>\n<text text-anchor=\"middle\" x=\"99.5\" y=\"-124.8\" font-family=\"Helvetica,sans-Serif\" font-size=\"14.00\" fill=\"#000000\">MonthlySpending &lt;= 20.375</text>\n<text text-anchor=\"middle\" x=\"99.5\" y=\"-109.8\" font-family=\"Helvetica,sans-Serif\" font-size=\"14.00\" fill=\"#000000\">gini = 0.073</text>\n<text text-anchor=\"middle\" x=\"99.5\" y=\"-94.8\" font-family=\"Helvetica,sans-Serif\" font-size=\"14.00\" fill=\"#000000\">samples = 445</text>\n<text text-anchor=\"middle\" x=\"99.5\" y=\"-79.8\" font-family=\"Helvetica,sans-Serif\" font-size=\"14.00\" fill=\"#000000\">value = [428, 17]</text>\n</g>\n<!-- 3&#45;&gt;4 -->\n<g id=\"edge4\" class=\"edge\">\n<title>3&#45;&gt;4</title>\n<path fill=\"none\" stroke=\"#000000\" d=\"M233.34,-175.9465C214.2701,-165.9803 193.282,-155.0117 173.6952,-144.7754\"/>\n<polygon fill=\"#000000\" stroke=\"#000000\" points=\"175.2902,-141.6599 164.8064,-140.13 172.048,-147.8637 175.2902,-141.6599\"/>\n</g>\n<!-- 77 -->\n<g id=\"node8\" class=\"node\">\n<title>77</title>\n<path fill=\"#ea975c\" stroke=\"#000000\" d=\"M368,-140C368,-140 229,-140 229,-140 223,-140 217,-134 217,-128 217,-128 217,-84 217,-84 217,-78 223,-72 229,-72 229,-72 368,-72 368,-72 374,-72 380,-78 380,-84 380,-84 380,-128 380,-128 380,-134 374,-140 368,-140\"/>\n<text text-anchor=\"middle\" x=\"298.5\" y=\"-124.8\" font-family=\"Helvetica,sans-Serif\" font-size=\"14.00\" fill=\"#000000\">TotalSpent &lt;= 2349.65</text>\n<text text-anchor=\"middle\" x=\"298.5\" y=\"-109.8\" font-family=\"Helvetica,sans-Serif\" font-size=\"14.00\" fill=\"#000000\">gini = 0.256</text>\n<text text-anchor=\"middle\" x=\"298.5\" y=\"-94.8\" font-family=\"Helvetica,sans-Serif\" font-size=\"14.00\" fill=\"#000000\">samples = 166</text>\n<text text-anchor=\"middle\" x=\"298.5\" y=\"-79.8\" font-family=\"Helvetica,sans-Serif\" font-size=\"14.00\" fill=\"#000000\">value = [141, 25]</text>\n</g>\n<!-- 3&#45;&gt;77 -->\n<g id=\"edge7\" class=\"edge\">\n<title>3&#45;&gt;77</title>\n<path fill=\"none\" stroke=\"#000000\" d=\"M298.5,-175.9465C298.5,-167.776 298.5,-158.9318 298.5,-150.3697\"/>\n<polygon fill=\"#000000\" stroke=\"#000000\" points=\"302.0001,-150.13 298.5,-140.13 295.0001,-150.13 302.0001,-150.13\"/>\n</g>\n<!-- 5 -->\n<g id=\"node6\" class=\"node\">\n<title>5</title>\n<path fill=\"#c0c0c0\" stroke=\"#000000\" d=\"M78.5,-36C78.5,-36 48.5,-36 48.5,-36 42.5,-36 36.5,-30 36.5,-24 36.5,-24 36.5,-12 36.5,-12 36.5,-6 42.5,0 48.5,0 48.5,0 78.5,0 78.5,0 84.5,0 90.5,-6 90.5,-12 90.5,-12 90.5,-24 90.5,-24 90.5,-30 84.5,-36 78.5,-36\"/>\n<text text-anchor=\"middle\" x=\"63.5\" y=\"-14.3\" font-family=\"Helvetica,sans-Serif\" font-size=\"14.00\" fill=\"#000000\">(...)</text>\n</g>\n<!-- 4&#45;&gt;5 -->\n<g id=\"edge5\" class=\"edge\">\n<title>4&#45;&gt;5</title>\n<path fill=\"none\" stroke=\"#000000\" d=\"M85.5815,-71.9769C81.9977,-63.2167 78.1862,-53.8995 74.7564,-45.5157\"/>\n<polygon fill=\"#000000\" stroke=\"#000000\" points=\"77.968,-44.1222 70.9422,-36.192 71.4891,-46.7727 77.968,-44.1222\"/>\n</g>\n<!-- 10 -->\n<g id=\"node7\" class=\"node\">\n<title>10</title>\n<path fill=\"#c0c0c0\" stroke=\"#000000\" d=\"M150.5,-36C150.5,-36 120.5,-36 120.5,-36 114.5,-36 108.5,-30 108.5,-24 108.5,-24 108.5,-12 108.5,-12 108.5,-6 114.5,0 120.5,0 120.5,0 150.5,0 150.5,0 156.5,0 162.5,-6 162.5,-12 162.5,-12 162.5,-24 162.5,-24 162.5,-30 156.5,-36 150.5,-36\"/>\n<text text-anchor=\"middle\" x=\"135.5\" y=\"-14.3\" font-family=\"Helvetica,sans-Serif\" font-size=\"14.00\" fill=\"#000000\">(...)</text>\n</g>\n<!-- 4&#45;&gt;10 -->\n<g id=\"edge6\" class=\"edge\">\n<title>4&#45;&gt;10</title>\n<path fill=\"none\" stroke=\"#000000\" d=\"M113.4185,-71.9769C117.0023,-63.2167 120.8138,-53.8995 124.2436,-45.5157\"/>\n<polygon fill=\"#000000\" stroke=\"#000000\" points=\"127.5109,-46.7727 128.0578,-36.192 121.032,-44.1222 127.5109,-46.7727\"/>\n</g>\n<!-- 78 -->\n<g id=\"node9\" class=\"node\">\n<title>78</title>\n<path fill=\"#c0c0c0\" stroke=\"#000000\" d=\"M283.5,-36C283.5,-36 253.5,-36 253.5,-36 247.5,-36 241.5,-30 241.5,-24 241.5,-24 241.5,-12 241.5,-12 241.5,-6 247.5,0 253.5,0 253.5,0 283.5,0 283.5,0 289.5,0 295.5,-6 295.5,-12 295.5,-12 295.5,-24 295.5,-24 295.5,-30 289.5,-36 283.5,-36\"/>\n<text text-anchor=\"middle\" x=\"268.5\" y=\"-14.3\" font-family=\"Helvetica,sans-Serif\" font-size=\"14.00\" fill=\"#000000\">(...)</text>\n</g>\n<!-- 77&#45;&gt;78 -->\n<g id=\"edge8\" class=\"edge\">\n<title>77&#45;&gt;78</title>\n<path fill=\"none\" stroke=\"#000000\" d=\"M286.9012,-71.9769C283.9472,-63.3119 280.8075,-54.102 277.9737,-45.7894\"/>\n<polygon fill=\"#000000\" stroke=\"#000000\" points=\"281.2414,-44.5277 274.7018,-36.192 274.6158,-46.7864 281.2414,-44.5277\"/>\n</g>\n<!-- 95 -->\n<g id=\"node10\" class=\"node\">\n<title>95</title>\n<path fill=\"#c0c0c0\" stroke=\"#000000\" d=\"M355.5,-36C355.5,-36 325.5,-36 325.5,-36 319.5,-36 313.5,-30 313.5,-24 313.5,-24 313.5,-12 313.5,-12 313.5,-6 319.5,0 325.5,0 325.5,0 355.5,0 355.5,0 361.5,0 367.5,-6 367.5,-12 367.5,-12 367.5,-24 367.5,-24 367.5,-30 361.5,-36 355.5,-36\"/>\n<text text-anchor=\"middle\" x=\"340.5\" y=\"-14.3\" font-family=\"Helvetica,sans-Serif\" font-size=\"14.00\" fill=\"#000000\">(...)</text>\n</g>\n<!-- 77&#45;&gt;95 -->\n<g id=\"edge9\" class=\"edge\">\n<title>77&#45;&gt;95</title>\n<path fill=\"none\" stroke=\"#000000\" d=\"M314.7383,-71.9769C318.9648,-63.1215 323.4629,-53.6969 327.4978,-45.2427\"/>\n<polygon fill=\"#000000\" stroke=\"#000000\" points=\"330.6688,-46.7243 331.8175,-36.192 324.3514,-43.7092 330.6688,-46.7243\"/>\n</g>\n<!-- 143 -->\n<g id=\"node12\" class=\"node\">\n<title>143</title>\n<path fill=\"#e5823a\" stroke=\"#000000\" d=\"M520.5,-140C520.5,-140 410.5,-140 410.5,-140 404.5,-140 398.5,-134 398.5,-128 398.5,-128 398.5,-84 398.5,-84 398.5,-78 404.5,-72 410.5,-72 410.5,-72 520.5,-72 520.5,-72 526.5,-72 532.5,-78 532.5,-84 532.5,-84 532.5,-128 532.5,-128 532.5,-134 526.5,-140 520.5,-140\"/>\n<text text-anchor=\"middle\" x=\"465.5\" y=\"-124.8\" font-family=\"Helvetica,sans-Serif\" font-size=\"14.00\" fill=\"#000000\">HasPartner &lt;= 0.5</text>\n<text text-anchor=\"middle\" x=\"465.5\" y=\"-109.8\" font-family=\"Helvetica,sans-Serif\" font-size=\"14.00\" fill=\"#000000\">gini = 0.009</text>\n<text text-anchor=\"middle\" x=\"465.5\" y=\"-94.8\" font-family=\"Helvetica,sans-Serif\" font-size=\"14.00\" fill=\"#000000\">samples = 436</text>\n<text text-anchor=\"middle\" x=\"465.5\" y=\"-79.8\" font-family=\"Helvetica,sans-Serif\" font-size=\"14.00\" fill=\"#000000\">value = [434, 2]</text>\n</g>\n<!-- 142&#45;&gt;143 -->\n<g id=\"edge11\" class=\"edge\">\n<title>142&#45;&gt;143</title>\n<path fill=\"none\" stroke=\"#000000\" d=\"M532.7563,-175.9465C524.0367,-166.8782 514.5191,-156.9799 505.4601,-147.5585\"/>\n<polygon fill=\"#000000\" stroke=\"#000000\" points=\"507.7713,-144.9125 498.3173,-140.13 502.7255,-149.7642 507.7713,-144.9125\"/>\n</g>\n<!-- 156 -->\n<g id=\"node15\" class=\"node\">\n<title>156</title>\n<path fill=\"#e6843e\" stroke=\"#000000\" d=\"M702,-140C702,-140 563,-140 563,-140 557,-140 551,-134 551,-128 551,-128 551,-84 551,-84 551,-78 557,-72 563,-72 563,-72 702,-72 702,-72 708,-72 714,-78 714,-84 714,-84 714,-128 714,-128 714,-134 708,-140 702,-140\"/>\n<text text-anchor=\"middle\" x=\"632.5\" y=\"-124.8\" font-family=\"Helvetica,sans-Serif\" font-size=\"14.00\" fill=\"#000000\">TotalSpent &lt;= 2475.15</text>\n<text text-anchor=\"middle\" x=\"632.5\" y=\"-109.8\" font-family=\"Helvetica,sans-Serif\" font-size=\"14.00\" fill=\"#000000\">gini = 0.047</text>\n<text text-anchor=\"middle\" x=\"632.5\" y=\"-94.8\" font-family=\"Helvetica,sans-Serif\" font-size=\"14.00\" fill=\"#000000\">samples = 335</text>\n<text text-anchor=\"middle\" x=\"632.5\" y=\"-79.8\" font-family=\"Helvetica,sans-Serif\" font-size=\"14.00\" fill=\"#000000\">value = [327, 8]</text>\n</g>\n<!-- 142&#45;&gt;156 -->\n<g id=\"edge14\" class=\"edge\">\n<title>142&#45;&gt;156</title>\n<path fill=\"none\" stroke=\"#000000\" d=\"M587.4383,-175.9465C593.049,-167.2373 599.1529,-157.7626 605.0042,-148.6801\"/>\n<polygon fill=\"#000000\" stroke=\"#000000\" points=\"608.0389,-150.4321 610.5124,-140.13 602.1543,-146.641 608.0389,-150.4321\"/>\n</g>\n<!-- 144 -->\n<g id=\"node13\" class=\"node\">\n<title>144</title>\n<path fill=\"#c0c0c0\" stroke=\"#000000\" d=\"M450.5,-36C450.5,-36 420.5,-36 420.5,-36 414.5,-36 408.5,-30 408.5,-24 408.5,-24 408.5,-12 408.5,-12 408.5,-6 414.5,0 420.5,0 420.5,0 450.5,0 450.5,0 456.5,0 462.5,-6 462.5,-12 462.5,-12 462.5,-24 462.5,-24 462.5,-30 456.5,-36 450.5,-36\"/>\n<text text-anchor=\"middle\" x=\"435.5\" y=\"-14.3\" font-family=\"Helvetica,sans-Serif\" font-size=\"14.00\" fill=\"#000000\">(...)</text>\n</g>\n<!-- 143&#45;&gt;144 -->\n<g id=\"edge12\" class=\"edge\">\n<title>143&#45;&gt;144</title>\n<path fill=\"none\" stroke=\"#000000\" d=\"M453.9012,-71.9769C450.9472,-63.3119 447.8075,-54.102 444.9737,-45.7894\"/>\n<polygon fill=\"#000000\" stroke=\"#000000\" points=\"448.2414,-44.5277 441.7018,-36.192 441.6158,-46.7864 448.2414,-44.5277\"/>\n</g>\n<!-- 145 -->\n<g id=\"node14\" class=\"node\">\n<title>145</title>\n<path fill=\"#c0c0c0\" stroke=\"#000000\" d=\"M522.5,-36C522.5,-36 492.5,-36 492.5,-36 486.5,-36 480.5,-30 480.5,-24 480.5,-24 480.5,-12 480.5,-12 480.5,-6 486.5,0 492.5,0 492.5,0 522.5,0 522.5,0 528.5,0 534.5,-6 534.5,-12 534.5,-12 534.5,-24 534.5,-24 534.5,-30 528.5,-36 522.5,-36\"/>\n<text text-anchor=\"middle\" x=\"507.5\" y=\"-14.3\" font-family=\"Helvetica,sans-Serif\" font-size=\"14.00\" fill=\"#000000\">(...)</text>\n</g>\n<!-- 143&#45;&gt;145 -->\n<g id=\"edge13\" class=\"edge\">\n<title>143&#45;&gt;145</title>\n<path fill=\"none\" stroke=\"#000000\" d=\"M481.7383,-71.9769C485.9648,-63.1215 490.4629,-53.6969 494.4978,-45.2427\"/>\n<polygon fill=\"#000000\" stroke=\"#000000\" points=\"497.6688,-46.7243 498.8175,-36.192 491.3514,-43.7092 497.6688,-46.7243\"/>\n</g>\n<!-- 157 -->\n<g id=\"node16\" class=\"node\">\n<title>157</title>\n<path fill=\"#c0c0c0\" stroke=\"#000000\" d=\"M605.5,-36C605.5,-36 575.5,-36 575.5,-36 569.5,-36 563.5,-30 563.5,-24 563.5,-24 563.5,-12 563.5,-12 563.5,-6 569.5,0 575.5,0 575.5,0 605.5,0 605.5,0 611.5,0 617.5,-6 617.5,-12 617.5,-12 617.5,-24 617.5,-24 617.5,-30 611.5,-36 605.5,-36\"/>\n<text text-anchor=\"middle\" x=\"590.5\" y=\"-14.3\" font-family=\"Helvetica,sans-Serif\" font-size=\"14.00\" fill=\"#000000\">(...)</text>\n</g>\n<!-- 156&#45;&gt;157 -->\n<g id=\"edge15\" class=\"edge\">\n<title>156&#45;&gt;157</title>\n<path fill=\"none\" stroke=\"#000000\" d=\"M616.2617,-71.9769C612.0352,-63.1215 607.5371,-53.6969 603.5022,-45.2427\"/>\n<polygon fill=\"#000000\" stroke=\"#000000\" points=\"606.6486,-43.7092 599.1825,-36.192 600.3312,-46.7243 606.6486,-43.7092\"/>\n</g>\n<!-- 158 -->\n<g id=\"node17\" class=\"node\">\n<title>158</title>\n<path fill=\"#c0c0c0\" stroke=\"#000000\" d=\"M677.5,-36C677.5,-36 647.5,-36 647.5,-36 641.5,-36 635.5,-30 635.5,-24 635.5,-24 635.5,-12 635.5,-12 635.5,-6 641.5,0 647.5,0 647.5,0 677.5,0 677.5,0 683.5,0 689.5,-6 689.5,-12 689.5,-12 689.5,-24 689.5,-24 689.5,-30 683.5,-36 677.5,-36\"/>\n<text text-anchor=\"middle\" x=\"662.5\" y=\"-14.3\" font-family=\"Helvetica,sans-Serif\" font-size=\"14.00\" fill=\"#000000\">(...)</text>\n</g>\n<!-- 156&#45;&gt;158 -->\n<g id=\"edge16\" class=\"edge\">\n<title>156&#45;&gt;158</title>\n<path fill=\"none\" stroke=\"#000000\" d=\"M644.0988,-71.9769C647.0528,-63.3119 650.1925,-54.102 653.0263,-45.7894\"/>\n<polygon fill=\"#000000\" stroke=\"#000000\" points=\"656.3842,-46.7864 656.2982,-36.192 649.7586,-44.5277 656.3842,-46.7864\"/>\n</g>\n<!-- 192 -->\n<g id=\"node19\" class=\"node\">\n<title>192</title>\n<path fill=\"#eda572\" stroke=\"#000000\" d=\"M983.5,-244C983.5,-244 859.5,-244 859.5,-244 853.5,-244 847.5,-238 847.5,-232 847.5,-232 847.5,-188 847.5,-188 847.5,-182 853.5,-176 859.5,-176 859.5,-176 983.5,-176 983.5,-176 989.5,-176 995.5,-182 995.5,-188 995.5,-188 995.5,-232 995.5,-232 995.5,-238 989.5,-244 983.5,-244\"/>\n<text text-anchor=\"middle\" x=\"921.5\" y=\"-228.8\" font-family=\"Helvetica,sans-Serif\" font-size=\"14.00\" fill=\"#000000\">HasOnlineTV &lt;= 0.5</text>\n<text text-anchor=\"middle\" x=\"921.5\" y=\"-213.8\" font-family=\"Helvetica,sans-Serif\" font-size=\"14.00\" fill=\"#000000\">gini = 0.348</text>\n<text text-anchor=\"middle\" x=\"921.5\" y=\"-198.8\" font-family=\"Helvetica,sans-Serif\" font-size=\"14.00\" fill=\"#000000\">samples = 232</text>\n<text text-anchor=\"middle\" x=\"921.5\" y=\"-183.8\" font-family=\"Helvetica,sans-Serif\" font-size=\"14.00\" fill=\"#000000\">value = [180, 52]</text>\n</g>\n<!-- 191&#45;&gt;192 -->\n<g id=\"edge18\" class=\"edge\">\n<title>191&#45;&gt;192</title>\n<path fill=\"none\" stroke=\"#000000\" d=\"M982.7032,-279.9465C974.847,-270.968 966.2788,-261.1758 958.1087,-251.8385\"/>\n<polygon fill=\"#000000\" stroke=\"#000000\" points=\"960.5829,-249.351 951.3637,-244.13 955.3148,-253.9606 960.5829,-249.351\"/>\n</g>\n<!-- 313 -->\n<g id=\"node24\" class=\"node\">\n<title>313</title>\n<path fill=\"#e78c4b\" stroke=\"#000000\" d=\"M1183.5,-244C1183.5,-244 1025.5,-244 1025.5,-244 1019.5,-244 1013.5,-238 1013.5,-232 1013.5,-232 1013.5,-188 1013.5,-188 1013.5,-182 1019.5,-176 1025.5,-176 1025.5,-176 1183.5,-176 1183.5,-176 1189.5,-176 1195.5,-182 1195.5,-188 1195.5,-188 1195.5,-232 1195.5,-232 1195.5,-238 1189.5,-244 1183.5,-244\"/>\n<text text-anchor=\"middle\" x=\"1104.5\" y=\"-228.8\" font-family=\"Helvetica,sans-Serif\" font-size=\"14.00\" fill=\"#000000\">MonthlySpending &lt;= 94.0</text>\n<text text-anchor=\"middle\" x=\"1104.5\" y=\"-213.8\" font-family=\"Helvetica,sans-Serif\" font-size=\"14.00\" fill=\"#000000\">gini = 0.152</text>\n<text text-anchor=\"middle\" x=\"1104.5\" y=\"-198.8\" font-family=\"Helvetica,sans-Serif\" font-size=\"14.00\" fill=\"#000000\">samples = 230</text>\n<text text-anchor=\"middle\" x=\"1104.5\" y=\"-183.8\" font-family=\"Helvetica,sans-Serif\" font-size=\"14.00\" fill=\"#000000\">value = [211, 19]</text>\n</g>\n<!-- 191&#45;&gt;313 -->\n<g id=\"edge23\" class=\"edge\">\n<title>191&#45;&gt;313</title>\n<path fill=\"none\" stroke=\"#000000\" d=\"M1042.6242,-279.9465C1050.5668,-270.968 1059.2291,-261.1758 1067.489,-251.8385\"/>\n<polygon fill=\"#000000\" stroke=\"#000000\" points=\"1070.3038,-253.939 1074.3081,-244.13 1065.0608,-249.301 1070.3038,-253.939\"/>\n</g>\n<!-- 193 -->\n<g id=\"node20\" class=\"node\">\n<title>193</title>\n<path fill=\"#e58139\" stroke=\"#000000\" d=\"M827,-132.5C827,-132.5 744,-132.5 744,-132.5 738,-132.5 732,-126.5 732,-120.5 732,-120.5 732,-91.5 732,-91.5 732,-85.5 738,-79.5 744,-79.5 744,-79.5 827,-79.5 827,-79.5 833,-79.5 839,-85.5 839,-91.5 839,-91.5 839,-120.5 839,-120.5 839,-126.5 833,-132.5 827,-132.5\"/>\n<text text-anchor=\"middle\" x=\"785.5\" y=\"-117.3\" font-family=\"Helvetica,sans-Serif\" font-size=\"14.00\" fill=\"#000000\">gini = 0.0</text>\n<text text-anchor=\"middle\" x=\"785.5\" y=\"-102.3\" font-family=\"Helvetica,sans-Serif\" font-size=\"14.00\" fill=\"#000000\">samples = 24</text>\n<text text-anchor=\"middle\" x=\"785.5\" y=\"-87.3\" font-family=\"Helvetica,sans-Serif\" font-size=\"14.00\" fill=\"#000000\">value = [24, 0]</text>\n</g>\n<!-- 192&#45;&gt;193 -->\n<g id=\"edge19\" class=\"edge\">\n<title>192&#45;&gt;193</title>\n<path fill=\"none\" stroke=\"#000000\" d=\"M876.9685,-175.9465C861.4121,-164.0504 843.9879,-150.726 828.5541,-138.9237\"/>\n<polygon fill=\"#000000\" stroke=\"#000000\" points=\"830.2787,-135.8364 820.209,-132.5422 826.0265,-141.397 830.2787,-135.8364\"/>\n</g>\n<!-- 194 -->\n<g id=\"node21\" class=\"node\">\n<title>194</title>\n<path fill=\"#eeab7b\" stroke=\"#000000\" d=\"M1008,-140C1008,-140 869,-140 869,-140 863,-140 857,-134 857,-128 857,-128 857,-84 857,-84 857,-78 863,-72 869,-72 869,-72 1008,-72 1008,-72 1014,-72 1020,-78 1020,-84 1020,-84 1020,-128 1020,-128 1020,-134 1014,-140 1008,-140\"/>\n<text text-anchor=\"middle\" x=\"938.5\" y=\"-124.8\" font-family=\"Helvetica,sans-Serif\" font-size=\"14.00\" fill=\"#000000\">TotalSpent &lt;= 3388.95</text>\n<text text-anchor=\"middle\" x=\"938.5\" y=\"-109.8\" font-family=\"Helvetica,sans-Serif\" font-size=\"14.00\" fill=\"#000000\">gini = 0.375</text>\n<text text-anchor=\"middle\" x=\"938.5\" y=\"-94.8\" font-family=\"Helvetica,sans-Serif\" font-size=\"14.00\" fill=\"#000000\">samples = 208</text>\n<text text-anchor=\"middle\" x=\"938.5\" y=\"-79.8\" font-family=\"Helvetica,sans-Serif\" font-size=\"14.00\" fill=\"#000000\">value = [156, 52]</text>\n</g>\n<!-- 192&#45;&gt;194 -->\n<g id=\"edge20\" class=\"edge\">\n<title>192&#45;&gt;194</title>\n<path fill=\"none\" stroke=\"#000000\" d=\"M927.0664,-175.9465C928.4167,-167.6863 929.8795,-158.7374 931.2934,-150.0875\"/>\n<polygon fill=\"#000000\" stroke=\"#000000\" points=\"934.7619,-150.5637 932.9211,-140.13 927.8536,-149.4344 934.7619,-150.5637\"/>\n</g>\n<!-- 195 -->\n<g id=\"node22\" class=\"node\">\n<title>195</title>\n<path fill=\"#c0c0c0\" stroke=\"#000000\" d=\"M917.5,-36C917.5,-36 887.5,-36 887.5,-36 881.5,-36 875.5,-30 875.5,-24 875.5,-24 875.5,-12 875.5,-12 875.5,-6 881.5,0 887.5,0 887.5,0 917.5,0 917.5,0 923.5,0 929.5,-6 929.5,-12 929.5,-12 929.5,-24 929.5,-24 929.5,-30 923.5,-36 917.5,-36\"/>\n<text text-anchor=\"middle\" x=\"902.5\" y=\"-14.3\" font-family=\"Helvetica,sans-Serif\" font-size=\"14.00\" fill=\"#000000\">(...)</text>\n</g>\n<!-- 194&#45;&gt;195 -->\n<g id=\"edge21\" class=\"edge\">\n<title>194&#45;&gt;195</title>\n<path fill=\"none\" stroke=\"#000000\" d=\"M924.5815,-71.9769C920.9977,-63.2167 917.1862,-53.8995 913.7564,-45.5157\"/>\n<polygon fill=\"#000000\" stroke=\"#000000\" points=\"916.968,-44.1222 909.9422,-36.192 910.4891,-46.7727 916.968,-44.1222\"/>\n</g>\n<!-- 204 -->\n<g id=\"node23\" class=\"node\">\n<title>204</title>\n<path fill=\"#c0c0c0\" stroke=\"#000000\" d=\"M989.5,-36C989.5,-36 959.5,-36 959.5,-36 953.5,-36 947.5,-30 947.5,-24 947.5,-24 947.5,-12 947.5,-12 947.5,-6 953.5,0 959.5,0 959.5,0 989.5,0 989.5,0 995.5,0 1001.5,-6 1001.5,-12 1001.5,-12 1001.5,-24 1001.5,-24 1001.5,-30 995.5,-36 989.5,-36\"/>\n<text text-anchor=\"middle\" x=\"974.5\" y=\"-14.3\" font-family=\"Helvetica,sans-Serif\" font-size=\"14.00\" fill=\"#000000\">(...)</text>\n</g>\n<!-- 194&#45;&gt;204 -->\n<g id=\"edge22\" class=\"edge\">\n<title>194&#45;&gt;204</title>\n<path fill=\"none\" stroke=\"#000000\" d=\"M952.4185,-71.9769C956.0023,-63.2167 959.8138,-53.8995 963.2436,-45.5157\"/>\n<polygon fill=\"#000000\" stroke=\"#000000\" points=\"966.5109,-46.7727 967.0578,-36.192 960.032,-44.1222 966.5109,-46.7727\"/>\n</g>\n<!-- 314 -->\n<g id=\"node25\" class=\"node\">\n<title>314</title>\n<path fill=\"#399de5\" stroke=\"#000000\" d=\"M1125,-132.5C1125,-132.5 1050,-132.5 1050,-132.5 1044,-132.5 1038,-126.5 1038,-120.5 1038,-120.5 1038,-91.5 1038,-91.5 1038,-85.5 1044,-79.5 1050,-79.5 1050,-79.5 1125,-79.5 1125,-79.5 1131,-79.5 1137,-85.5 1137,-91.5 1137,-91.5 1137,-120.5 1137,-120.5 1137,-126.5 1131,-132.5 1125,-132.5\"/>\n<text text-anchor=\"middle\" x=\"1087.5\" y=\"-117.3\" font-family=\"Helvetica,sans-Serif\" font-size=\"14.00\" fill=\"#000000\">gini = 0.0</text>\n<text text-anchor=\"middle\" x=\"1087.5\" y=\"-102.3\" font-family=\"Helvetica,sans-Serif\" font-size=\"14.00\" fill=\"#000000\">samples = 1</text>\n<text text-anchor=\"middle\" x=\"1087.5\" y=\"-87.3\" font-family=\"Helvetica,sans-Serif\" font-size=\"14.00\" fill=\"#000000\">value = [0, 1]</text>\n</g>\n<!-- 313&#45;&gt;314 -->\n<g id=\"edge24\" class=\"edge\">\n<title>313&#45;&gt;314</title>\n<path fill=\"none\" stroke=\"#000000\" d=\"M1098.9336,-175.9465C1097.1871,-165.2621 1095.2522,-153.4254 1093.4785,-142.5742\"/>\n<polygon fill=\"#000000\" stroke=\"#000000\" points=\"1096.9061,-141.8465 1091.8386,-132.5422 1089.9978,-142.9758 1096.9061,-141.8465\"/>\n</g>\n<!-- 315 -->\n<g id=\"node26\" class=\"node\">\n<title>315</title>\n<path fill=\"#e78c4a\" stroke=\"#000000\" d=\"M1314,-140C1314,-140 1167,-140 1167,-140 1161,-140 1155,-134 1155,-128 1155,-128 1155,-84 1155,-84 1155,-78 1161,-72 1167,-72 1167,-72 1314,-72 1314,-72 1320,-72 1326,-78 1326,-84 1326,-84 1326,-128 1326,-128 1326,-134 1320,-140 1314,-140\"/>\n<text text-anchor=\"middle\" x=\"1240.5\" y=\"-124.8\" font-family=\"Helvetica,sans-Serif\" font-size=\"14.00\" fill=\"#000000\">TotalSpent &lt;= 7862.525</text>\n<text text-anchor=\"middle\" x=\"1240.5\" y=\"-109.8\" font-family=\"Helvetica,sans-Serif\" font-size=\"14.00\" fill=\"#000000\">gini = 0.145</text>\n<text text-anchor=\"middle\" x=\"1240.5\" y=\"-94.8\" font-family=\"Helvetica,sans-Serif\" font-size=\"14.00\" fill=\"#000000\">samples = 229</text>\n<text text-anchor=\"middle\" x=\"1240.5\" y=\"-79.8\" font-family=\"Helvetica,sans-Serif\" font-size=\"14.00\" fill=\"#000000\">value = [211, 18]</text>\n</g>\n<!-- 313&#45;&gt;315 -->\n<g id=\"edge25\" class=\"edge\">\n<title>313&#45;&gt;315</title>\n<path fill=\"none\" stroke=\"#000000\" d=\"M1149.0315,-175.9465C1161.3597,-166.519 1174.8609,-156.1946 1187.615,-146.4415\"/>\n<polygon fill=\"#000000\" stroke=\"#000000\" points=\"1190.051,-148.9848 1195.8685,-140.13 1185.7988,-143.4243 1190.051,-148.9848\"/>\n</g>\n<!-- 316 -->\n<g id=\"node27\" class=\"node\">\n<title>316</title>\n<path fill=\"#c0c0c0\" stroke=\"#000000\" d=\"M1212.5,-36C1212.5,-36 1182.5,-36 1182.5,-36 1176.5,-36 1170.5,-30 1170.5,-24 1170.5,-24 1170.5,-12 1170.5,-12 1170.5,-6 1176.5,0 1182.5,0 1182.5,0 1212.5,0 1212.5,0 1218.5,0 1224.5,-6 1224.5,-12 1224.5,-12 1224.5,-24 1224.5,-24 1224.5,-30 1218.5,-36 1212.5,-36\"/>\n<text text-anchor=\"middle\" x=\"1197.5\" y=\"-14.3\" font-family=\"Helvetica,sans-Serif\" font-size=\"14.00\" fill=\"#000000\">(...)</text>\n</g>\n<!-- 315&#45;&gt;316 -->\n<g id=\"edge26\" class=\"edge\">\n<title>315&#45;&gt;316</title>\n<path fill=\"none\" stroke=\"#000000\" d=\"M1223.8751,-71.9769C1219.548,-63.1215 1214.9428,-53.6969 1210.8118,-45.2427\"/>\n<polygon fill=\"#000000\" stroke=\"#000000\" points=\"1213.9242,-43.6401 1206.3892,-36.192 1207.6349,-46.7133 1213.9242,-43.6401\"/>\n</g>\n<!-- 361 -->\n<g id=\"node28\" class=\"node\">\n<title>361</title>\n<path fill=\"#c0c0c0\" stroke=\"#000000\" d=\"M1284.5,-36C1284.5,-36 1254.5,-36 1254.5,-36 1248.5,-36 1242.5,-30 1242.5,-24 1242.5,-24 1242.5,-12 1242.5,-12 1242.5,-6 1248.5,0 1254.5,0 1254.5,0 1284.5,0 1284.5,0 1290.5,0 1296.5,-6 1296.5,-12 1296.5,-12 1296.5,-24 1296.5,-24 1296.5,-30 1290.5,-36 1284.5,-36\"/>\n<text text-anchor=\"middle\" x=\"1269.5\" y=\"-14.3\" font-family=\"Helvetica,sans-Serif\" font-size=\"14.00\" fill=\"#000000\">(...)</text>\n</g>\n<!-- 315&#45;&gt;361 -->\n<g id=\"edge27\" class=\"edge\">\n<title>315&#45;&gt;361</title>\n<path fill=\"none\" stroke=\"#000000\" d=\"M1251.7122,-71.9769C1254.5677,-63.3119 1257.6028,-54.102 1260.3421,-45.7894\"/>\n<polygon fill=\"#000000\" stroke=\"#000000\" points=\"1263.6991,-46.785 1263.5049,-36.192 1257.0508,-44.594 1263.6991,-46.785\"/>\n</g>\n<!-- 363 -->\n<g id=\"node30\" class=\"node\">\n<title>363</title>\n<path fill=\"#f0b58b\" stroke=\"#000000\" d=\"M1797.5,-348C1797.5,-348 1681.5,-348 1681.5,-348 1675.5,-348 1669.5,-342 1669.5,-336 1669.5,-336 1669.5,-292 1669.5,-292 1669.5,-286 1675.5,-280 1681.5,-280 1681.5,-280 1797.5,-280 1797.5,-280 1803.5,-280 1809.5,-286 1809.5,-292 1809.5,-292 1809.5,-336 1809.5,-336 1809.5,-342 1803.5,-348 1797.5,-348\"/>\n<text text-anchor=\"middle\" x=\"1739.5\" y=\"-332.8\" font-family=\"Helvetica,sans-Serif\" font-size=\"14.00\" fill=\"#000000\">ClientPeriod &lt;= 2.5</text>\n<text text-anchor=\"middle\" x=\"1739.5\" y=\"-317.8\" font-family=\"Helvetica,sans-Serif\" font-size=\"14.00\" fill=\"#000000\">gini = 0.415</text>\n<text text-anchor=\"middle\" x=\"1739.5\" y=\"-302.8\" font-family=\"Helvetica,sans-Serif\" font-size=\"14.00\" fill=\"#000000\">samples = 1002</text>\n<text text-anchor=\"middle\" x=\"1739.5\" y=\"-287.8\" font-family=\"Helvetica,sans-Serif\" font-size=\"14.00\" fill=\"#000000\">value = [708, 294]</text>\n</g>\n<!-- 362&#45;&gt;363 -->\n<g id=\"edge29\" class=\"edge\">\n<title>362&#45;&gt;363</title>\n<path fill=\"none\" stroke=\"#000000\" d=\"M1739.5,-383.9465C1739.5,-375.776 1739.5,-366.9318 1739.5,-358.3697\"/>\n<polygon fill=\"#000000\" stroke=\"#000000\" points=\"1743.0001,-358.13 1739.5,-348.13 1736.0001,-358.13 1743.0001,-358.13\"/>\n</g>\n<!-- 930 -->\n<g id=\"node45\" class=\"node\">\n<title>930</title>\n<path fill=\"#eff7fd\" stroke=\"#000000\" d=\"M2359.5,-348C2359.5,-348 2235.5,-348 2235.5,-348 2229.5,-348 2223.5,-342 2223.5,-336 2223.5,-336 2223.5,-292 2223.5,-292 2223.5,-286 2229.5,-280 2235.5,-280 2235.5,-280 2359.5,-280 2359.5,-280 2365.5,-280 2371.5,-286 2371.5,-292 2371.5,-292 2371.5,-336 2371.5,-336 2371.5,-342 2365.5,-348 2359.5,-348\"/>\n<text text-anchor=\"middle\" x=\"2297.5\" y=\"-332.8\" font-family=\"Helvetica,sans-Serif\" font-size=\"14.00\" fill=\"#000000\">ClientPeriod &lt;= 14.5</text>\n<text text-anchor=\"middle\" x=\"2297.5\" y=\"-317.8\" font-family=\"Helvetica,sans-Serif\" font-size=\"14.00\" fill=\"#000000\">gini = 0.499</text>\n<text text-anchor=\"middle\" x=\"2297.5\" y=\"-302.8\" font-family=\"Helvetica,sans-Serif\" font-size=\"14.00\" fill=\"#000000\">samples = 1372</text>\n<text text-anchor=\"middle\" x=\"2297.5\" y=\"-287.8\" font-family=\"Helvetica,sans-Serif\" font-size=\"14.00\" fill=\"#000000\">value = [658, 714]</text>\n</g>\n<!-- 362&#45;&gt;930 -->\n<g id=\"edge44\" class=\"edge\">\n<title>362&#45;&gt;930</title>\n<path fill=\"none\" stroke=\"#000000\" d=\"M1839.2592,-399.4069C1945.7881,-379.552 2112.7759,-348.4289 2213.0362,-329.7424\"/>\n<polygon fill=\"#000000\" stroke=\"#000000\" points=\"2213.9354,-333.1351 2223.1248,-327.8621 2212.6527,-326.2536 2213.9354,-333.1351\"/>\n</g>\n<!-- 364 -->\n<g id=\"node31\" class=\"node\">\n<title>364</title>\n<path fill=\"#fbede3\" stroke=\"#000000\" d=\"M1717,-244C1717,-244 1562,-244 1562,-244 1556,-244 1550,-238 1550,-232 1550,-232 1550,-188 1550,-188 1550,-182 1556,-176 1562,-176 1562,-176 1717,-176 1717,-176 1723,-176 1729,-182 1729,-188 1729,-188 1729,-232 1729,-232 1729,-238 1723,-244 1717,-244\"/>\n<text text-anchor=\"middle\" x=\"1639.5\" y=\"-228.8\" font-family=\"Helvetica,sans-Serif\" font-size=\"14.00\" fill=\"#000000\">HasPhoneService &lt;= 0.5</text>\n<text text-anchor=\"middle\" x=\"1639.5\" y=\"-213.8\" font-family=\"Helvetica,sans-Serif\" font-size=\"14.00\" fill=\"#000000\">gini = 0.497</text>\n<text text-anchor=\"middle\" x=\"1639.5\" y=\"-198.8\" font-family=\"Helvetica,sans-Serif\" font-size=\"14.00\" fill=\"#000000\">samples = 290</text>\n<text text-anchor=\"middle\" x=\"1639.5\" y=\"-183.8\" font-family=\"Helvetica,sans-Serif\" font-size=\"14.00\" fill=\"#000000\">value = [156, 134]</text>\n</g>\n<!-- 363&#45;&gt;364 -->\n<g id=\"edge30\" class=\"edge\">\n<title>363&#45;&gt;364</title>\n<path fill=\"none\" stroke=\"#000000\" d=\"M1706.7563,-279.9465C1698.0367,-270.8782 1688.5191,-260.9799 1679.4601,-251.5585\"/>\n<polygon fill=\"#000000\" stroke=\"#000000\" points=\"1681.7713,-248.9125 1672.3173,-244.13 1676.7255,-253.7642 1681.7713,-248.9125\"/>\n</g>\n<!-- 589 -->\n<g id=\"node38\" class=\"node\">\n<title>589</title>\n<path fill=\"#eda672\" stroke=\"#000000\" d=\"M1920,-244C1920,-244 1759,-244 1759,-244 1753,-244 1747,-238 1747,-232 1747,-232 1747,-188 1747,-188 1747,-182 1753,-176 1759,-176 1759,-176 1920,-176 1920,-176 1926,-176 1932,-182 1932,-188 1932,-188 1932,-232 1932,-232 1932,-238 1926,-244 1920,-244\"/>\n<text text-anchor=\"middle\" x=\"1839.5\" y=\"-228.8\" font-family=\"Helvetica,sans-Serif\" font-size=\"14.00\" fill=\"#000000\">HasInternetService &lt;= 1.5</text>\n<text text-anchor=\"middle\" x=\"1839.5\" y=\"-213.8\" font-family=\"Helvetica,sans-Serif\" font-size=\"14.00\" fill=\"#000000\">gini = 0.348</text>\n<text text-anchor=\"middle\" x=\"1839.5\" y=\"-198.8\" font-family=\"Helvetica,sans-Serif\" font-size=\"14.00\" fill=\"#000000\">samples = 712</text>\n<text text-anchor=\"middle\" x=\"1839.5\" y=\"-183.8\" font-family=\"Helvetica,sans-Serif\" font-size=\"14.00\" fill=\"#000000\">value = [552, 160]</text>\n</g>\n<!-- 363&#45;&gt;589 -->\n<g id=\"edge37\" class=\"edge\">\n<title>363&#45;&gt;589</title>\n<path fill=\"none\" stroke=\"#000000\" d=\"M1772.2437,-279.9465C1780.9633,-270.8782 1790.4809,-260.9799 1799.5399,-251.5585\"/>\n<polygon fill=\"#000000\" stroke=\"#000000\" points=\"1802.2745,-253.7642 1806.6827,-244.13 1797.2287,-248.9125 1802.2745,-253.7642\"/>\n</g>\n<!-- 365 -->\n<g id=\"node32\" class=\"node\">\n<title>365</title>\n<path fill=\"#f7d7c0\" stroke=\"#000000\" d=\"M1531,-140C1531,-140 1356,-140 1356,-140 1350,-140 1344,-134 1344,-128 1344,-128 1344,-84 1344,-84 1344,-78 1350,-72 1356,-72 1356,-72 1531,-72 1531,-72 1537,-72 1543,-78 1543,-84 1543,-84 1543,-128 1543,-128 1543,-134 1537,-140 1531,-140\"/>\n<text text-anchor=\"middle\" x=\"1443.5\" y=\"-124.8\" font-family=\"Helvetica,sans-Serif\" font-size=\"14.00\" fill=\"#000000\">MonthlySpending &lt;= 44.325</text>\n<text text-anchor=\"middle\" x=\"1443.5\" y=\"-109.8\" font-family=\"Helvetica,sans-Serif\" font-size=\"14.00\" fill=\"#000000\">gini = 0.482</text>\n<text text-anchor=\"middle\" x=\"1443.5\" y=\"-94.8\" font-family=\"Helvetica,sans-Serif\" font-size=\"14.00\" fill=\"#000000\">samples = 239</text>\n<text text-anchor=\"middle\" x=\"1443.5\" y=\"-79.8\" font-family=\"Helvetica,sans-Serif\" font-size=\"14.00\" fill=\"#000000\">value = [142, 97]</text>\n</g>\n<!-- 364&#45;&gt;365 -->\n<g id=\"edge31\" class=\"edge\">\n<title>364&#45;&gt;365</title>\n<path fill=\"none\" stroke=\"#000000\" d=\"M1575.3223,-175.9465C1556.6245,-166.0252 1536.0544,-155.1105 1516.8375,-144.9138\"/>\n<polygon fill=\"#000000\" stroke=\"#000000\" points=\"1518.2959,-141.7255 1507.8219,-140.13 1515.0149,-147.9089 1518.2959,-141.7255\"/>\n</g>\n<!-- 554 -->\n<g id=\"node35\" class=\"node\">\n<title>554</title>\n<path fill=\"#84c2ef\" stroke=\"#000000\" d=\"M1725.5,-140C1725.5,-140 1573.5,-140 1573.5,-140 1567.5,-140 1561.5,-134 1561.5,-128 1561.5,-128 1561.5,-84 1561.5,-84 1561.5,-78 1567.5,-72 1573.5,-72 1573.5,-72 1725.5,-72 1725.5,-72 1731.5,-72 1737.5,-78 1737.5,-84 1737.5,-84 1737.5,-128 1737.5,-128 1737.5,-134 1731.5,-140 1725.5,-140\"/>\n<text text-anchor=\"middle\" x=\"1649.5\" y=\"-124.8\" font-family=\"Helvetica,sans-Serif\" font-size=\"14.00\" fill=\"#000000\">IsBillingPaperless &lt;= 0.5</text>\n<text text-anchor=\"middle\" x=\"1649.5\" y=\"-109.8\" font-family=\"Helvetica,sans-Serif\" font-size=\"14.00\" fill=\"#000000\">gini = 0.398</text>\n<text text-anchor=\"middle\" x=\"1649.5\" y=\"-94.8\" font-family=\"Helvetica,sans-Serif\" font-size=\"14.00\" fill=\"#000000\">samples = 51</text>\n<text text-anchor=\"middle\" x=\"1649.5\" y=\"-79.8\" font-family=\"Helvetica,sans-Serif\" font-size=\"14.00\" fill=\"#000000\">value = [14, 37]</text>\n</g>\n<!-- 364&#45;&gt;554 -->\n<g id=\"edge34\" class=\"edge\">\n<title>364&#45;&gt;554</title>\n<path fill=\"none\" stroke=\"#000000\" d=\"M1642.7744,-175.9465C1643.5686,-167.6863 1644.4291,-158.7374 1645.2608,-150.0875\"/>\n<polygon fill=\"#000000\" stroke=\"#000000\" points=\"1648.745,-150.4191 1646.2183,-140.13 1641.7771,-149.7491 1648.745,-150.4191\"/>\n</g>\n<!-- 366 -->\n<g id=\"node33\" class=\"node\">\n<title>366</title>\n<path fill=\"#c0c0c0\" stroke=\"#000000\" d=\"M1417.5,-36C1417.5,-36 1387.5,-36 1387.5,-36 1381.5,-36 1375.5,-30 1375.5,-24 1375.5,-24 1375.5,-12 1375.5,-12 1375.5,-6 1381.5,0 1387.5,0 1387.5,0 1417.5,0 1417.5,0 1423.5,0 1429.5,-6 1429.5,-12 1429.5,-12 1429.5,-24 1429.5,-24 1429.5,-30 1423.5,-36 1417.5,-36\"/>\n<text text-anchor=\"middle\" x=\"1402.5\" y=\"-14.3\" font-family=\"Helvetica,sans-Serif\" font-size=\"14.00\" fill=\"#000000\">(...)</text>\n</g>\n<!-- 365&#45;&gt;366 -->\n<g id=\"edge32\" class=\"edge\">\n<title>365&#45;&gt;366</title>\n<path fill=\"none\" stroke=\"#000000\" d=\"M1427.6483,-71.9769C1423.5669,-63.2167 1419.2259,-53.8995 1415.3198,-45.5157\"/>\n<polygon fill=\"#000000\" stroke=\"#000000\" points=\"1418.3716,-43.7783 1410.9758,-36.192 1412.0265,-46.7346 1418.3716,-43.7783\"/>\n</g>\n<!-- 469 -->\n<g id=\"node34\" class=\"node\">\n<title>469</title>\n<path fill=\"#c0c0c0\" stroke=\"#000000\" d=\"M1489.5,-36C1489.5,-36 1459.5,-36 1459.5,-36 1453.5,-36 1447.5,-30 1447.5,-24 1447.5,-24 1447.5,-12 1447.5,-12 1447.5,-6 1453.5,0 1459.5,0 1459.5,0 1489.5,0 1489.5,0 1495.5,0 1501.5,-6 1501.5,-12 1501.5,-12 1501.5,-24 1501.5,-24 1501.5,-30 1495.5,-36 1489.5,-36\"/>\n<text text-anchor=\"middle\" x=\"1474.5\" y=\"-14.3\" font-family=\"Helvetica,sans-Serif\" font-size=\"14.00\" fill=\"#000000\">(...)</text>\n</g>\n<!-- 365&#45;&gt;469 -->\n<g id=\"edge33\" class=\"edge\">\n<title>365&#45;&gt;469</title>\n<path fill=\"none\" stroke=\"#000000\" d=\"M1455.4854,-71.9769C1458.5379,-63.3119 1461.7823,-54.102 1464.7105,-45.7894\"/>\n<polygon fill=\"#000000\" stroke=\"#000000\" points=\"1468.07,-46.7868 1468.0915,-36.192 1461.4677,-44.4609 1468.07,-46.7868\"/>\n</g>\n<!-- 555 -->\n<g id=\"node36\" class=\"node\">\n<title>555</title>\n<path fill=\"#c0c0c0\" stroke=\"#000000\" d=\"M1610.5,-36C1610.5,-36 1580.5,-36 1580.5,-36 1574.5,-36 1568.5,-30 1568.5,-24 1568.5,-24 1568.5,-12 1568.5,-12 1568.5,-6 1574.5,0 1580.5,0 1580.5,0 1610.5,0 1610.5,0 1616.5,0 1622.5,-6 1622.5,-12 1622.5,-12 1622.5,-24 1622.5,-24 1622.5,-30 1616.5,-36 1610.5,-36\"/>\n<text text-anchor=\"middle\" x=\"1595.5\" y=\"-14.3\" font-family=\"Helvetica,sans-Serif\" font-size=\"14.00\" fill=\"#000000\">(...)</text>\n</g>\n<!-- 554&#45;&gt;555 -->\n<g id=\"edge35\" class=\"edge\">\n<title>554&#45;&gt;555</title>\n<path fill=\"none\" stroke=\"#000000\" d=\"M1628.6222,-71.9769C1623.1297,-63.0262 1617.2805,-53.4941 1612.0499,-44.9703\"/>\n<polygon fill=\"#000000\" stroke=\"#000000\" points=\"1614.8766,-42.8846 1606.6632,-36.192 1608.9103,-46.5458 1614.8766,-42.8846\"/>\n</g>\n<!-- 576 -->\n<g id=\"node37\" class=\"node\">\n<title>576</title>\n<path fill=\"#c0c0c0\" stroke=\"#000000\" d=\"M1682.5,-36C1682.5,-36 1652.5,-36 1652.5,-36 1646.5,-36 1640.5,-30 1640.5,-24 1640.5,-24 1640.5,-12 1640.5,-12 1640.5,-6 1646.5,0 1652.5,0 1652.5,0 1682.5,0 1682.5,0 1688.5,0 1694.5,-6 1694.5,-12 1694.5,-12 1694.5,-24 1694.5,-24 1694.5,-30 1688.5,-36 1682.5,-36\"/>\n<text text-anchor=\"middle\" x=\"1667.5\" y=\"-14.3\" font-family=\"Helvetica,sans-Serif\" font-size=\"14.00\" fill=\"#000000\">(...)</text>\n</g>\n<!-- 554&#45;&gt;576 -->\n<g id=\"edge36\" class=\"edge\">\n<title>554&#45;&gt;576</title>\n<path fill=\"none\" stroke=\"#000000\" d=\"M1656.4593,-71.9769C1658.2122,-63.4071 1660.0741,-54.3043 1661.7597,-46.0638\"/>\n<polygon fill=\"#000000\" stroke=\"#000000\" points=\"1665.2039,-46.6905 1663.7789,-36.192 1658.3459,-45.2877 1665.2039,-46.6905\"/>\n</g>\n<!-- 590 -->\n<g id=\"node39\" class=\"node\">\n<title>590</title>\n<path fill=\"#e99355\" stroke=\"#000000\" d=\"M1891.5,-140C1891.5,-140 1767.5,-140 1767.5,-140 1761.5,-140 1755.5,-134 1755.5,-128 1755.5,-128 1755.5,-84 1755.5,-84 1755.5,-78 1761.5,-72 1767.5,-72 1767.5,-72 1891.5,-72 1891.5,-72 1897.5,-72 1903.5,-78 1903.5,-84 1903.5,-84 1903.5,-128 1903.5,-128 1903.5,-134 1897.5,-140 1891.5,-140\"/>\n<text text-anchor=\"middle\" x=\"1829.5\" y=\"-124.8\" font-family=\"Helvetica,sans-Serif\" font-size=\"14.00\" fill=\"#000000\">ClientPeriod &lt;= 58.0</text>\n<text text-anchor=\"middle\" x=\"1829.5\" y=\"-109.8\" font-family=\"Helvetica,sans-Serif\" font-size=\"14.00\" fill=\"#000000\">gini = 0.219</text>\n<text text-anchor=\"middle\" x=\"1829.5\" y=\"-94.8\" font-family=\"Helvetica,sans-Serif\" font-size=\"14.00\" fill=\"#000000\">samples = 208</text>\n<text text-anchor=\"middle\" x=\"1829.5\" y=\"-79.8\" font-family=\"Helvetica,sans-Serif\" font-size=\"14.00\" fill=\"#000000\">value = [182, 26]</text>\n</g>\n<!-- 589&#45;&gt;590 -->\n<g id=\"edge38\" class=\"edge\">\n<title>589&#45;&gt;590</title>\n<path fill=\"none\" stroke=\"#000000\" d=\"M1836.2256,-175.9465C1835.4314,-167.6863 1834.5709,-158.7374 1833.7392,-150.0875\"/>\n<polygon fill=\"#000000\" stroke=\"#000000\" points=\"1837.2229,-149.7491 1832.7817,-140.13 1830.255,-150.4191 1837.2229,-149.7491\"/>\n</g>\n<!-- 673 -->\n<g id=\"node42\" class=\"node\">\n<title>673</title>\n<path fill=\"#eeaf81\" stroke=\"#000000\" d=\"M2057.5,-140C2057.5,-140 1933.5,-140 1933.5,-140 1927.5,-140 1921.5,-134 1921.5,-128 1921.5,-128 1921.5,-84 1921.5,-84 1921.5,-78 1927.5,-72 1933.5,-72 1933.5,-72 2057.5,-72 2057.5,-72 2063.5,-72 2069.5,-78 2069.5,-84 2069.5,-84 2069.5,-128 2069.5,-128 2069.5,-134 2063.5,-140 2057.5,-140\"/>\n<text text-anchor=\"middle\" x=\"1995.5\" y=\"-124.8\" font-family=\"Helvetica,sans-Serif\" font-size=\"14.00\" fill=\"#000000\">ClientPeriod &lt;= 16.5</text>\n<text text-anchor=\"middle\" x=\"1995.5\" y=\"-109.8\" font-family=\"Helvetica,sans-Serif\" font-size=\"14.00\" fill=\"#000000\">gini = 0.39</text>\n<text text-anchor=\"middle\" x=\"1995.5\" y=\"-94.8\" font-family=\"Helvetica,sans-Serif\" font-size=\"14.00\" fill=\"#000000\">samples = 504</text>\n<text text-anchor=\"middle\" x=\"1995.5\" y=\"-79.8\" font-family=\"Helvetica,sans-Serif\" font-size=\"14.00\" fill=\"#000000\">value = [370, 134]</text>\n</g>\n<!-- 589&#45;&gt;673 -->\n<g id=\"edge41\" class=\"edge\">\n<title>589&#45;&gt;673</title>\n<path fill=\"none\" stroke=\"#000000\" d=\"M1890.5802,-175.9465C1904.9908,-166.3395 1920.7986,-155.8009 1935.6728,-145.8848\"/>\n<polygon fill=\"#000000\" stroke=\"#000000\" points=\"1937.926,-148.5892 1944.305,-140.13 1934.043,-142.7649 1937.926,-148.5892\"/>\n</g>\n<!-- 591 -->\n<g id=\"node40\" class=\"node\">\n<title>591</title>\n<path fill=\"#c0c0c0\" stroke=\"#000000\" d=\"M1783.5,-36C1783.5,-36 1753.5,-36 1753.5,-36 1747.5,-36 1741.5,-30 1741.5,-24 1741.5,-24 1741.5,-12 1741.5,-12 1741.5,-6 1747.5,0 1753.5,0 1753.5,0 1783.5,0 1783.5,0 1789.5,0 1795.5,-6 1795.5,-12 1795.5,-12 1795.5,-24 1795.5,-24 1795.5,-30 1789.5,-36 1783.5,-36\"/>\n<text text-anchor=\"middle\" x=\"1768.5\" y=\"-14.3\" font-family=\"Helvetica,sans-Serif\" font-size=\"14.00\" fill=\"#000000\">(...)</text>\n</g>\n<!-- 590&#45;&gt;591 -->\n<g id=\"edge39\" class=\"edge\">\n<title>590&#45;&gt;591</title>\n<path fill=\"none\" stroke=\"#000000\" d=\"M1805.9158,-71.9769C1799.5794,-62.8358 1792.8225,-53.0883 1786.8191,-44.4276\"/>\n<polygon fill=\"#000000\" stroke=\"#000000\" points=\"1789.6838,-42.4166 1781.1103,-36.192 1783.9308,-46.4045 1789.6838,-42.4166\"/>\n</g>\n<!-- 672 -->\n<g id=\"node41\" class=\"node\">\n<title>672</title>\n<path fill=\"#c0c0c0\" stroke=\"#000000\" d=\"M1855.5,-36C1855.5,-36 1825.5,-36 1825.5,-36 1819.5,-36 1813.5,-30 1813.5,-24 1813.5,-24 1813.5,-12 1813.5,-12 1813.5,-6 1819.5,0 1825.5,0 1825.5,0 1855.5,0 1855.5,0 1861.5,0 1867.5,-6 1867.5,-12 1867.5,-12 1867.5,-24 1867.5,-24 1867.5,-30 1861.5,-36 1855.5,-36\"/>\n<text text-anchor=\"middle\" x=\"1840.5\" y=\"-14.3\" font-family=\"Helvetica,sans-Serif\" font-size=\"14.00\" fill=\"#000000\">(...)</text>\n</g>\n<!-- 590&#45;&gt;672 -->\n<g id=\"edge40\" class=\"edge\">\n<title>590&#45;&gt;672</title>\n<path fill=\"none\" stroke=\"#000000\" d=\"M1833.7529,-71.9769C1834.8122,-63.5023 1835.9367,-54.5065 1836.9577,-46.3388\"/>\n<polygon fill=\"#000000\" stroke=\"#000000\" points=\"1840.4585,-46.5489 1838.226,-36.192 1833.5126,-45.6806 1840.4585,-46.5489\"/>\n</g>\n<!-- 674 -->\n<g id=\"node43\" class=\"node\">\n<title>674</title>\n<path fill=\"#c0c0c0\" stroke=\"#000000\" d=\"M1966.5,-36C1966.5,-36 1936.5,-36 1936.5,-36 1930.5,-36 1924.5,-30 1924.5,-24 1924.5,-24 1924.5,-12 1924.5,-12 1924.5,-6 1930.5,0 1936.5,0 1936.5,0 1966.5,0 1966.5,0 1972.5,0 1978.5,-6 1978.5,-12 1978.5,-12 1978.5,-24 1978.5,-24 1978.5,-30 1972.5,-36 1966.5,-36\"/>\n<text text-anchor=\"middle\" x=\"1951.5\" y=\"-14.3\" font-family=\"Helvetica,sans-Serif\" font-size=\"14.00\" fill=\"#000000\">(...)</text>\n</g>\n<!-- 673&#45;&gt;674 -->\n<g id=\"edge42\" class=\"edge\">\n<title>673&#45;&gt;674</title>\n<path fill=\"none\" stroke=\"#000000\" d=\"M1978.4885,-71.9769C1974.0607,-63.1215 1969.3484,-53.6969 1965.1213,-45.2427\"/>\n<polygon fill=\"#000000\" stroke=\"#000000\" points=\"1968.1987,-43.571 1960.596,-36.192 1961.9377,-46.7015 1968.1987,-43.571\"/>\n</g>\n<!-- 833 -->\n<g id=\"node44\" class=\"node\">\n<title>833</title>\n<path fill=\"#c0c0c0\" stroke=\"#000000\" d=\"M2038.5,-36C2038.5,-36 2008.5,-36 2008.5,-36 2002.5,-36 1996.5,-30 1996.5,-24 1996.5,-24 1996.5,-12 1996.5,-12 1996.5,-6 2002.5,0 2008.5,0 2008.5,0 2038.5,0 2038.5,0 2044.5,0 2050.5,-6 2050.5,-12 2050.5,-12 2050.5,-24 2050.5,-24 2050.5,-30 2044.5,-36 2038.5,-36\"/>\n<text text-anchor=\"middle\" x=\"2023.5\" y=\"-14.3\" font-family=\"Helvetica,sans-Serif\" font-size=\"14.00\" fill=\"#000000\">(...)</text>\n</g>\n<!-- 673&#45;&gt;833 -->\n<g id=\"edge43\" class=\"edge\">\n<title>673&#45;&gt;833</title>\n<path fill=\"none\" stroke=\"#000000\" d=\"M2006.3255,-71.9769C2009.0826,-63.3119 2012.013,-54.102 2014.6579,-45.7894\"/>\n<polygon fill=\"#000000\" stroke=\"#000000\" points=\"2018.0148,-46.7825 2017.7117,-36.192 2011.3443,-44.66 2018.0148,-46.7825\"/>\n</g>\n<!-- 931 -->\n<g id=\"node46\" class=\"node\">\n<title>931</title>\n<path fill=\"#96cbf1\" stroke=\"#000000\" d=\"M2363,-244C2363,-244 2232,-244 2232,-244 2226,-244 2220,-238 2220,-232 2220,-232 2220,-188 2220,-188 2220,-182 2226,-176 2232,-176 2232,-176 2363,-176 2363,-176 2369,-176 2375,-182 2375,-188 2375,-188 2375,-232 2375,-232 2375,-238 2369,-244 2363,-244\"/>\n<text text-anchor=\"middle\" x=\"2297.5\" y=\"-228.8\" font-family=\"Helvetica,sans-Serif\" font-size=\"14.00\" fill=\"#000000\">TotalSpent &lt;= 95.725</text>\n<text text-anchor=\"middle\" x=\"2297.5\" y=\"-213.8\" font-family=\"Helvetica,sans-Serif\" font-size=\"14.00\" fill=\"#000000\">gini = 0.435</text>\n<text text-anchor=\"middle\" x=\"2297.5\" y=\"-198.8\" font-family=\"Helvetica,sans-Serif\" font-size=\"14.00\" fill=\"#000000\">samples = 632</text>\n<text text-anchor=\"middle\" x=\"2297.5\" y=\"-183.8\" font-family=\"Helvetica,sans-Serif\" font-size=\"14.00\" fill=\"#000000\">value = [202, 430]</text>\n</g>\n<!-- 930&#45;&gt;931 -->\n<g id=\"edge45\" class=\"edge\">\n<title>930&#45;&gt;931</title>\n<path fill=\"none\" stroke=\"#000000\" d=\"M2297.5,-279.9465C2297.5,-271.776 2297.5,-262.9318 2297.5,-254.3697\"/>\n<polygon fill=\"#000000\" stroke=\"#000000\" points=\"2301.0001,-254.13 2297.5,-244.13 2294.0001,-254.13 2301.0001,-254.13\"/>\n</g>\n<!-- 1292 -->\n<g id=\"node53\" class=\"node\">\n<title>1292</title>\n<path fill=\"#f5cfb4\" stroke=\"#000000\" d=\"M2700.5,-244C2700.5,-244 2506.5,-244 2506.5,-244 2500.5,-244 2494.5,-238 2494.5,-232 2494.5,-232 2494.5,-188 2494.5,-188 2494.5,-182 2500.5,-176 2506.5,-176 2506.5,-176 2700.5,-176 2700.5,-176 2706.5,-176 2712.5,-182 2712.5,-188 2712.5,-188 2712.5,-232 2712.5,-232 2712.5,-238 2706.5,-244 2700.5,-244\"/>\n<text text-anchor=\"middle\" x=\"2603.5\" y=\"-228.8\" font-family=\"Helvetica,sans-Serif\" font-size=\"14.00\" fill=\"#000000\">HasTechSupportAccess &lt;= 0.5</text>\n<text text-anchor=\"middle\" x=\"2603.5\" y=\"-213.8\" font-family=\"Helvetica,sans-Serif\" font-size=\"14.00\" fill=\"#000000\">gini = 0.473</text>\n<text text-anchor=\"middle\" x=\"2603.5\" y=\"-198.8\" font-family=\"Helvetica,sans-Serif\" font-size=\"14.00\" fill=\"#000000\">samples = 740</text>\n<text text-anchor=\"middle\" x=\"2603.5\" y=\"-183.8\" font-family=\"Helvetica,sans-Serif\" font-size=\"14.00\" fill=\"#000000\">value = [456, 284]</text>\n</g>\n<!-- 930&#45;&gt;1292 -->\n<g id=\"edge52\" class=\"edge\">\n<title>930&#45;&gt;1292</title>\n<path fill=\"none\" stroke=\"#000000\" d=\"M2371.5741,-288.8245C2408.1723,-276.3859 2453.0675,-261.1274 2493.5765,-247.3596\"/>\n<polygon fill=\"#000000\" stroke=\"#000000\" points=\"2494.8862,-250.6112 2503.228,-244.0794 2492.6336,-243.9835 2494.8862,-250.6112\"/>\n</g>\n<!-- 932 -->\n<g id=\"node47\" class=\"node\">\n<title>932</title>\n<path fill=\"#59ade9\" stroke=\"#000000\" d=\"M2293.5,-140C2293.5,-140 2099.5,-140 2099.5,-140 2093.5,-140 2087.5,-134 2087.5,-128 2087.5,-128 2087.5,-84 2087.5,-84 2087.5,-78 2093.5,-72 2099.5,-72 2099.5,-72 2293.5,-72 2293.5,-72 2299.5,-72 2305.5,-78 2305.5,-84 2305.5,-84 2305.5,-128 2305.5,-128 2305.5,-134 2299.5,-140 2293.5,-140\"/>\n<text text-anchor=\"middle\" x=\"2196.5\" y=\"-124.8\" font-family=\"Helvetica,sans-Serif\" font-size=\"14.00\" fill=\"#000000\">HasTechSupportAccess &lt;= 0.5</text>\n<text text-anchor=\"middle\" x=\"2196.5\" y=\"-109.8\" font-family=\"Helvetica,sans-Serif\" font-size=\"14.00\" fill=\"#000000\">gini = 0.241</text>\n<text text-anchor=\"middle\" x=\"2196.5\" y=\"-94.8\" font-family=\"Helvetica,sans-Serif\" font-size=\"14.00\" fill=\"#000000\">samples = 143</text>\n<text text-anchor=\"middle\" x=\"2196.5\" y=\"-79.8\" font-family=\"Helvetica,sans-Serif\" font-size=\"14.00\" fill=\"#000000\">value = [20, 123]</text>\n</g>\n<!-- 931&#45;&gt;932 -->\n<g id=\"edge46\" class=\"edge\">\n<title>931&#45;&gt;932</title>\n<path fill=\"none\" stroke=\"#000000\" d=\"M2264.4288,-175.9465C2255.6221,-166.8782 2246.0093,-156.9799 2236.8597,-147.5585\"/>\n<polygon fill=\"#000000\" stroke=\"#000000\" points=\"2239.1232,-144.8654 2229.6455,-140.13 2234.1015,-149.7422 2239.1232,-144.8654\"/>\n</g>\n<!-- 999 -->\n<g id=\"node50\" class=\"node\">\n<title>999</title>\n<path fill=\"#aed7f4\" stroke=\"#000000\" d=\"M2487.5,-140C2487.5,-140 2335.5,-140 2335.5,-140 2329.5,-140 2323.5,-134 2323.5,-128 2323.5,-128 2323.5,-84 2323.5,-84 2323.5,-78 2329.5,-72 2335.5,-72 2335.5,-72 2487.5,-72 2487.5,-72 2493.5,-72 2499.5,-78 2499.5,-84 2499.5,-84 2499.5,-128 2499.5,-128 2499.5,-134 2493.5,-140 2487.5,-140\"/>\n<text text-anchor=\"middle\" x=\"2411.5\" y=\"-124.8\" font-family=\"Helvetica,sans-Serif\" font-size=\"14.00\" fill=\"#000000\">IsBillingPaperless &lt;= 0.5</text>\n<text text-anchor=\"middle\" x=\"2411.5\" y=\"-109.8\" font-family=\"Helvetica,sans-Serif\" font-size=\"14.00\" fill=\"#000000\">gini = 0.467</text>\n<text text-anchor=\"middle\" x=\"2411.5\" y=\"-94.8\" font-family=\"Helvetica,sans-Serif\" font-size=\"14.00\" fill=\"#000000\">samples = 489</text>\n<text text-anchor=\"middle\" x=\"2411.5\" y=\"-79.8\" font-family=\"Helvetica,sans-Serif\" font-size=\"14.00\" fill=\"#000000\">value = [182, 307]</text>\n</g>\n<!-- 931&#45;&gt;999 -->\n<g id=\"edge49\" class=\"edge\">\n<title>931&#45;&gt;999</title>\n<path fill=\"none\" stroke=\"#000000\" d=\"M2334.8279,-175.9465C2344.965,-166.6986 2356.0483,-156.5876 2366.5583,-146.9994\"/>\n<polygon fill=\"#000000\" stroke=\"#000000\" points=\"2369.0595,-149.4553 2374.0883,-140.13 2364.3417,-144.284 2369.0595,-149.4553\"/>\n</g>\n<!-- 933 -->\n<g id=\"node48\" class=\"node\">\n<title>933</title>\n<path fill=\"#c0c0c0\" stroke=\"#000000\" d=\"M2174.5,-36C2174.5,-36 2144.5,-36 2144.5,-36 2138.5,-36 2132.5,-30 2132.5,-24 2132.5,-24 2132.5,-12 2132.5,-12 2132.5,-6 2138.5,0 2144.5,0 2144.5,0 2174.5,0 2174.5,0 2180.5,0 2186.5,-6 2186.5,-12 2186.5,-12 2186.5,-24 2186.5,-24 2186.5,-30 2180.5,-36 2174.5,-36\"/>\n<text text-anchor=\"middle\" x=\"2159.5\" y=\"-14.3\" font-family=\"Helvetica,sans-Serif\" font-size=\"14.00\" fill=\"#000000\">(...)</text>\n</g>\n<!-- 932&#45;&gt;933 -->\n<g id=\"edge47\" class=\"edge\">\n<title>932&#45;&gt;933</title>\n<path fill=\"none\" stroke=\"#000000\" d=\"M2182.1948,-71.9769C2178.5116,-63.2167 2174.5941,-53.8995 2171.0691,-45.5157\"/>\n<polygon fill=\"#000000\" stroke=\"#000000\" points=\"2174.2513,-44.0537 2167.1489,-36.192 2167.7984,-46.7669 2174.2513,-44.0537\"/>\n</g>\n<!-- 994 -->\n<g id=\"node49\" class=\"node\">\n<title>994</title>\n<path fill=\"#c0c0c0\" stroke=\"#000000\" d=\"M2246.5,-36C2246.5,-36 2216.5,-36 2216.5,-36 2210.5,-36 2204.5,-30 2204.5,-24 2204.5,-24 2204.5,-12 2204.5,-12 2204.5,-6 2210.5,0 2216.5,0 2216.5,0 2246.5,0 2246.5,0 2252.5,0 2258.5,-6 2258.5,-12 2258.5,-12 2258.5,-24 2258.5,-24 2258.5,-30 2252.5,-36 2246.5,-36\"/>\n<text text-anchor=\"middle\" x=\"2231.5\" y=\"-14.3\" font-family=\"Helvetica,sans-Serif\" font-size=\"14.00\" fill=\"#000000\">(...)</text>\n</g>\n<!-- 932&#45;&gt;994 -->\n<g id=\"edge48\" class=\"edge\">\n<title>932&#45;&gt;994</title>\n<path fill=\"none\" stroke=\"#000000\" d=\"M2210.0319,-71.9769C2213.5161,-63.2167 2217.2218,-53.8995 2220.5562,-45.5157\"/>\n<polygon fill=\"#000000\" stroke=\"#000000\" points=\"2223.821,-46.7775 2224.2646,-36.192 2217.3166,-44.1905 2223.821,-46.7775\"/>\n</g>\n<!-- 1000 -->\n<g id=\"node51\" class=\"node\">\n<title>1000</title>\n<path fill=\"#c0c0c0\" stroke=\"#000000\" d=\"M2378.5,-36C2378.5,-36 2348.5,-36 2348.5,-36 2342.5,-36 2336.5,-30 2336.5,-24 2336.5,-24 2336.5,-12 2336.5,-12 2336.5,-6 2342.5,0 2348.5,0 2348.5,0 2378.5,0 2378.5,0 2384.5,0 2390.5,-6 2390.5,-12 2390.5,-12 2390.5,-24 2390.5,-24 2390.5,-30 2384.5,-36 2378.5,-36\"/>\n<text text-anchor=\"middle\" x=\"2363.5\" y=\"-14.3\" font-family=\"Helvetica,sans-Serif\" font-size=\"14.00\" fill=\"#000000\">(...)</text>\n</g>\n<!-- 999&#45;&gt;1000 -->\n<g id=\"edge50\" class=\"edge\">\n<title>999&#45;&gt;1000</title>\n<path fill=\"none\" stroke=\"#000000\" d=\"M2392.9419,-71.9769C2388.1117,-63.1215 2382.971,-53.6969 2378.3596,-45.2427\"/>\n<polygon fill=\"#000000\" stroke=\"#000000\" points=\"2381.2841,-43.2949 2373.4229,-36.192 2375.1388,-46.6469 2381.2841,-43.2949\"/>\n</g>\n<!-- 1073 -->\n<g id=\"node52\" class=\"node\">\n<title>1073</title>\n<path fill=\"#c0c0c0\" stroke=\"#000000\" d=\"M2450.5,-36C2450.5,-36 2420.5,-36 2420.5,-36 2414.5,-36 2408.5,-30 2408.5,-24 2408.5,-24 2408.5,-12 2408.5,-12 2408.5,-6 2414.5,0 2420.5,0 2420.5,0 2450.5,0 2450.5,0 2456.5,0 2462.5,-6 2462.5,-12 2462.5,-12 2462.5,-24 2462.5,-24 2462.5,-30 2456.5,-36 2450.5,-36\"/>\n<text text-anchor=\"middle\" x=\"2435.5\" y=\"-14.3\" font-family=\"Helvetica,sans-Serif\" font-size=\"14.00\" fill=\"#000000\">(...)</text>\n</g>\n<!-- 999&#45;&gt;1073 -->\n<g id=\"edge51\" class=\"edge\">\n<title>999&#45;&gt;1073</title>\n<path fill=\"none\" stroke=\"#000000\" d=\"M2420.779,-71.9769C2423.1162,-63.4071 2425.5988,-54.3043 2427.8462,-46.0638\"/>\n<polygon fill=\"#000000\" stroke=\"#000000\" points=\"2431.284,-46.7605 2430.5386,-36.192 2424.5306,-44.9187 2431.284,-46.7605\"/>\n</g>\n<!-- 1293 -->\n<g id=\"node54\" class=\"node\">\n<title>1293</title>\n<path fill=\"#f8decc\" stroke=\"#000000\" d=\"M2677,-140C2677,-140 2530,-140 2530,-140 2524,-140 2518,-134 2518,-128 2518,-128 2518,-84 2518,-84 2518,-78 2524,-72 2530,-72 2530,-72 2677,-72 2677,-72 2683,-72 2689,-78 2689,-84 2689,-84 2689,-128 2689,-128 2689,-134 2683,-140 2677,-140\"/>\n<text text-anchor=\"middle\" x=\"2603.5\" y=\"-124.8\" font-family=\"Helvetica,sans-Serif\" font-size=\"14.00\" fill=\"#000000\">TotalSpent &lt;= 2870.675</text>\n<text text-anchor=\"middle\" x=\"2603.5\" y=\"-109.8\" font-family=\"Helvetica,sans-Serif\" font-size=\"14.00\" fill=\"#000000\">gini = 0.489</text>\n<text text-anchor=\"middle\" x=\"2603.5\" y=\"-94.8\" font-family=\"Helvetica,sans-Serif\" font-size=\"14.00\" fill=\"#000000\">samples = 564</text>\n<text text-anchor=\"middle\" x=\"2603.5\" y=\"-79.8\" font-family=\"Helvetica,sans-Serif\" font-size=\"14.00\" fill=\"#000000\">value = [324, 240]</text>\n</g>\n<!-- 1292&#45;&gt;1293 -->\n<g id=\"edge53\" class=\"edge\">\n<title>1292&#45;&gt;1293</title>\n<path fill=\"none\" stroke=\"#000000\" d=\"M2603.5,-175.9465C2603.5,-167.776 2603.5,-158.9318 2603.5,-150.3697\"/>\n<polygon fill=\"#000000\" stroke=\"#000000\" points=\"2607.0001,-150.13 2603.5,-140.13 2600.0001,-150.13 2607.0001,-150.13\"/>\n</g>\n<!-- 1600 -->\n<g id=\"node57\" class=\"node\">\n<title>1600</title>\n<path fill=\"#eeab7b\" stroke=\"#000000\" d=\"M2843.5,-140C2843.5,-140 2719.5,-140 2719.5,-140 2713.5,-140 2707.5,-134 2707.5,-128 2707.5,-128 2707.5,-84 2707.5,-84 2707.5,-78 2713.5,-72 2719.5,-72 2719.5,-72 2843.5,-72 2843.5,-72 2849.5,-72 2855.5,-78 2855.5,-84 2855.5,-84 2855.5,-128 2855.5,-128 2855.5,-134 2849.5,-140 2843.5,-140\"/>\n<text text-anchor=\"middle\" x=\"2781.5\" y=\"-124.8\" font-family=\"Helvetica,sans-Serif\" font-size=\"14.00\" fill=\"#000000\">ClientPeriod &lt;= 59.5</text>\n<text text-anchor=\"middle\" x=\"2781.5\" y=\"-109.8\" font-family=\"Helvetica,sans-Serif\" font-size=\"14.00\" fill=\"#000000\">gini = 0.375</text>\n<text text-anchor=\"middle\" x=\"2781.5\" y=\"-94.8\" font-family=\"Helvetica,sans-Serif\" font-size=\"14.00\" fill=\"#000000\">samples = 176</text>\n<text text-anchor=\"middle\" x=\"2781.5\" y=\"-79.8\" font-family=\"Helvetica,sans-Serif\" font-size=\"14.00\" fill=\"#000000\">value = [132, 44]</text>\n</g>\n<!-- 1292&#45;&gt;1600 -->\n<g id=\"edge56\" class=\"edge\">\n<title>1292&#45;&gt;1600</title>\n<path fill=\"none\" stroke=\"#000000\" d=\"M2661.7839,-175.9465C2678.534,-166.1599 2696.9386,-155.4066 2714.1862,-145.3294\"/>\n<polygon fill=\"#000000\" stroke=\"#000000\" points=\"2716.2166,-148.1968 2723.0852,-140.13 2712.6852,-142.1528 2716.2166,-148.1968\"/>\n</g>\n<!-- 1294 -->\n<g id=\"node55\" class=\"node\">\n<title>1294</title>\n<path fill=\"#c0c0c0\" stroke=\"#000000\" d=\"M2581.5,-36C2581.5,-36 2551.5,-36 2551.5,-36 2545.5,-36 2539.5,-30 2539.5,-24 2539.5,-24 2539.5,-12 2539.5,-12 2539.5,-6 2545.5,0 2551.5,0 2551.5,0 2581.5,0 2581.5,0 2587.5,0 2593.5,-6 2593.5,-12 2593.5,-12 2593.5,-24 2593.5,-24 2593.5,-30 2587.5,-36 2581.5,-36\"/>\n<text text-anchor=\"middle\" x=\"2566.5\" y=\"-14.3\" font-family=\"Helvetica,sans-Serif\" font-size=\"14.00\" fill=\"#000000\">(...)</text>\n</g>\n<!-- 1293&#45;&gt;1294 -->\n<g id=\"edge54\" class=\"edge\">\n<title>1293&#45;&gt;1294</title>\n<path fill=\"none\" stroke=\"#000000\" d=\"M2589.1948,-71.9769C2585.5116,-63.2167 2581.5941,-53.8995 2578.0691,-45.5157\"/>\n<polygon fill=\"#000000\" stroke=\"#000000\" points=\"2581.2513,-44.0537 2574.1489,-36.192 2574.7984,-46.7669 2581.2513,-44.0537\"/>\n</g>\n<!-- 1461 -->\n<g id=\"node56\" class=\"node\">\n<title>1461</title>\n<path fill=\"#c0c0c0\" stroke=\"#000000\" d=\"M2653.5,-36C2653.5,-36 2623.5,-36 2623.5,-36 2617.5,-36 2611.5,-30 2611.5,-24 2611.5,-24 2611.5,-12 2611.5,-12 2611.5,-6 2617.5,0 2623.5,0 2623.5,0 2653.5,0 2653.5,0 2659.5,0 2665.5,-6 2665.5,-12 2665.5,-12 2665.5,-24 2665.5,-24 2665.5,-30 2659.5,-36 2653.5,-36\"/>\n<text text-anchor=\"middle\" x=\"2638.5\" y=\"-14.3\" font-family=\"Helvetica,sans-Serif\" font-size=\"14.00\" fill=\"#000000\">(...)</text>\n</g>\n<!-- 1293&#45;&gt;1461 -->\n<g id=\"edge55\" class=\"edge\">\n<title>1293&#45;&gt;1461</title>\n<path fill=\"none\" stroke=\"#000000\" d=\"M2617.0319,-71.9769C2620.5161,-63.2167 2624.2218,-53.8995 2627.5562,-45.5157\"/>\n<polygon fill=\"#000000\" stroke=\"#000000\" points=\"2630.821,-46.7775 2631.2646,-36.192 2624.3166,-44.1905 2630.821,-46.7775\"/>\n</g>\n<!-- 1601 -->\n<g id=\"node58\" class=\"node\">\n<title>1601</title>\n<path fill=\"#c0c0c0\" stroke=\"#000000\" d=\"M2760.5,-36C2760.5,-36 2730.5,-36 2730.5,-36 2724.5,-36 2718.5,-30 2718.5,-24 2718.5,-24 2718.5,-12 2718.5,-12 2718.5,-6 2724.5,0 2730.5,0 2730.5,0 2760.5,0 2760.5,0 2766.5,0 2772.5,-6 2772.5,-12 2772.5,-12 2772.5,-24 2772.5,-24 2772.5,-30 2766.5,-36 2760.5,-36\"/>\n<text text-anchor=\"middle\" x=\"2745.5\" y=\"-14.3\" font-family=\"Helvetica,sans-Serif\" font-size=\"14.00\" fill=\"#000000\">(...)</text>\n</g>\n<!-- 1600&#45;&gt;1601 -->\n<g id=\"edge57\" class=\"edge\">\n<title>1600&#45;&gt;1601</title>\n<path fill=\"none\" stroke=\"#000000\" d=\"M2767.5815,-71.9769C2763.9977,-63.2167 2760.1862,-53.8995 2756.7564,-45.5157\"/>\n<polygon fill=\"#000000\" stroke=\"#000000\" points=\"2759.968,-44.1222 2752.9422,-36.192 2753.4891,-46.7727 2759.968,-44.1222\"/>\n</g>\n<!-- 1680 -->\n<g id=\"node59\" class=\"node\">\n<title>1680</title>\n<path fill=\"#c0c0c0\" stroke=\"#000000\" d=\"M2832.5,-36C2832.5,-36 2802.5,-36 2802.5,-36 2796.5,-36 2790.5,-30 2790.5,-24 2790.5,-24 2790.5,-12 2790.5,-12 2790.5,-6 2796.5,0 2802.5,0 2802.5,0 2832.5,0 2832.5,0 2838.5,0 2844.5,-6 2844.5,-12 2844.5,-12 2844.5,-24 2844.5,-24 2844.5,-30 2838.5,-36 2832.5,-36\"/>\n<text text-anchor=\"middle\" x=\"2817.5\" y=\"-14.3\" font-family=\"Helvetica,sans-Serif\" font-size=\"14.00\" fill=\"#000000\">(...)</text>\n</g>\n<!-- 1600&#45;&gt;1680 -->\n<g id=\"edge58\" class=\"edge\">\n<title>1600&#45;&gt;1680</title>\n<path fill=\"none\" stroke=\"#000000\" d=\"M2795.4185,-71.9769C2799.0023,-63.2167 2802.8138,-53.8995 2806.2436,-45.5157\"/>\n<polygon fill=\"#000000\" stroke=\"#000000\" points=\"2809.5109,-46.7727 2810.0578,-36.192 2803.032,-44.1222 2809.5109,-46.7727\"/>\n</g>\n</g>\n</svg>\n"
          },
          "metadata": {},
          "execution_count": 20
        }
      ]
    },
    {
      "cell_type": "markdown",
      "source": [
        "#Random Forest"
      ],
      "metadata": {
        "id": "-4EzvN2zyOxM"
      }
    },
    {
      "cell_type": "code",
      "source": [
        "from sklearn.ensemble import RandomForestClassifier\n",
        "RFclf = RandomForestClassifier()\n",
        "RFclf.fit(x_train, y_train)"
      ],
      "metadata": {
        "colab": {
          "base_uri": "https://localhost:8080/"
        },
        "id": "2XDJq_OHyS98",
        "outputId": "889656ba-f00f-4f0e-bd6e-d398a63dbfb9"
      },
      "execution_count": null,
      "outputs": [
        {
          "output_type": "stream",
          "name": "stderr",
          "text": [
            "/usr/local/lib/python3.7/dist-packages/ipykernel_launcher.py:3: DataConversionWarning: A column-vector y was passed when a 1d array was expected. Please change the shape of y to (n_samples,), for example using ravel().\n",
            "  This is separate from the ipykernel package so we can avoid doing imports until\n"
          ]
        },
        {
          "output_type": "execute_result",
          "data": {
            "text/plain": [
              "RandomForestClassifier()"
            ]
          },
          "metadata": {},
          "execution_count": 21
        }
      ]
    },
    {
      "cell_type": "markdown",
      "source": [
        "##Test random forest classifer"
      ],
      "metadata": {
        "id": "ZODJOC85ys0o"
      }
    },
    {
      "cell_type": "code",
      "source": [
        "from sklearn.metrics import accuracy_score\n",
        "from sklearn.metrics import roc_auc_score\n",
        "from sklearn.metrics import precision_score\n",
        "from sklearn.metrics import recall_score\n",
        "\n",
        "metrics_scores['randforest'] = {}\n",
        "\n",
        "rf_pred = RFclf.predict(x_test)\n",
        "rf_metrics = []\n",
        "rf_metrics.append(accuracy_score(y_test, rf_pred))\n",
        "rf_metrics.append(roc_auc_score(y_test, rf_pred))\n",
        "rf_metrics.append(precision_score(y_test, rf_pred))\n",
        "rf_metrics.append(recall_score(y_test, rf_pred))\n",
        "for i in range(len(metrics)):\n",
        "  metrics_scores['randforest'][metrics[i]] = rf_metrics[i]\n",
        "for metric in metrics:\n",
        "  print(metric+':', metrics_scores['randforest'][metric])"
      ],
      "metadata": {
        "colab": {
          "base_uri": "https://localhost:8080/"
        },
        "id": "B5r_yx-bymsc",
        "outputId": "5c31ec3b-c90d-443f-a24d-ca2e9b854419"
      },
      "execution_count": null,
      "outputs": [
        {
          "output_type": "stream",
          "name": "stdout",
          "text": [
            "accuracy: 0.7990521327014218\n",
            "roc_auc: 0.6811380639310814\n",
            "precision: 0.6084656084656085\n",
            "recall: 0.45454545454545453\n"
          ]
        }
      ]
    },
    {
      "cell_type": "markdown",
      "source": [
        "#Logistic Regression"
      ],
      "metadata": {
        "id": "fzswdWpO8wFE"
      }
    },
    {
      "cell_type": "markdown",
      "source": [
        "##Train logistic regression classifier"
      ],
      "metadata": {
        "id": "17_XWLjQBJNQ"
      }
    },
    {
      "cell_type": "code",
      "source": [
        "from sklearn.linear_model import LogisticRegression\n",
        "\n",
        "LRclf = LogisticRegression()\n",
        "LRclf.fit(x_train, y_train)"
      ],
      "metadata": {
        "colab": {
          "base_uri": "https://localhost:8080/"
        },
        "id": "QYg9VKGrBGhY",
        "outputId": "ecd26ec3-77aa-442d-9ea4-d9cd17d85f43"
      },
      "execution_count": null,
      "outputs": [
        {
          "output_type": "stream",
          "name": "stderr",
          "text": [
            "/usr/local/lib/python3.7/dist-packages/sklearn/utils/validation.py:993: DataConversionWarning: A column-vector y was passed when a 1d array was expected. Please change the shape of y to (n_samples, ), for example using ravel().\n",
            "  y = column_or_1d(y, warn=True)\n",
            "/usr/local/lib/python3.7/dist-packages/sklearn/linear_model/_logistic.py:818: ConvergenceWarning: lbfgs failed to converge (status=1):\n",
            "STOP: TOTAL NO. of ITERATIONS REACHED LIMIT.\n",
            "\n",
            "Increase the number of iterations (max_iter) or scale the data as shown in:\n",
            "    https://scikit-learn.org/stable/modules/preprocessing.html\n",
            "Please also refer to the documentation for alternative solver options:\n",
            "    https://scikit-learn.org/stable/modules/linear_model.html#logistic-regression\n",
            "  extra_warning_msg=_LOGISTIC_SOLVER_CONVERGENCE_MSG,\n"
          ]
        },
        {
          "output_type": "execute_result",
          "data": {
            "text/plain": [
              "LogisticRegression()"
            ]
          },
          "metadata": {},
          "execution_count": 23
        }
      ]
    },
    {
      "cell_type": "markdown",
      "source": [
        "##Test logistic regression classifier"
      ],
      "metadata": {
        "id": "1PKN0cj6Cu3g"
      }
    },
    {
      "cell_type": "code",
      "source": [
        "from sklearn.metrics import accuracy_score\n",
        "from sklearn.metrics import roc_auc_score\n",
        "from sklearn.metrics import precision_score\n",
        "from sklearn.metrics import recall_score\n",
        "\n",
        "metrics_scores['logregress'] = {}\n",
        "\n",
        "lr_pred = LRclf.predict(x_test)\n",
        "lr_metrics = []\n",
        "lr_metrics.append(accuracy_score(y_test, lr_pred))\n",
        "lr_metrics.append(roc_auc_score(y_test, lr_pred))\n",
        "lr_metrics.append(precision_score(y_test, lr_pred))\n",
        "lr_metrics.append(recall_score(y_test, lr_pred))\n",
        "for i in range(len(metrics)):\n",
        "  metrics_scores['logregress'][metrics[i]] = lr_metrics[i]\n",
        "for metric in metrics:\n",
        "  print(metric+':', metrics_scores['logregress'][metric])"
      ],
      "metadata": {
        "colab": {
          "base_uri": "https://localhost:8080/"
        },
        "id": "bbid4pr7Ctsg",
        "outputId": "8639292e-0afa-47f6-f99f-6543fa231946"
      },
      "execution_count": null,
      "outputs": [
        {
          "output_type": "stream",
          "name": "stdout",
          "text": [
            "accuracy: 0.8180094786729858\n",
            "roc_auc: 0.7247222851961006\n",
            "precision: 0.641860465116279\n",
            "recall: 0.5454545454545454\n"
          ]
        }
      ]
    },
    {
      "cell_type": "markdown",
      "source": [
        "#Gradient boosting classifier"
      ],
      "metadata": {
        "id": "C5sg4kSzz0Hc"
      }
    },
    {
      "cell_type": "markdown",
      "source": [
        "##Train gradient boosting classifier"
      ],
      "metadata": {
        "id": "fv9I85vk0LPI"
      }
    },
    {
      "cell_type": "code",
      "source": [
        "from sklearn.ensemble import GradientBoostingClassifier\n",
        "\n",
        "gb_clf = GradientBoostingClassifier()\n",
        "gb_clf.fit(x_train, y_train)"
      ],
      "metadata": {
        "colab": {
          "base_uri": "https://localhost:8080/"
        },
        "id": "vwgo6ocA0Hsk",
        "outputId": "6e81cbc8-d044-4e35-d48b-84eeb7520e4d"
      },
      "execution_count": null,
      "outputs": [
        {
          "output_type": "stream",
          "name": "stderr",
          "text": [
            "/usr/local/lib/python3.7/dist-packages/sklearn/ensemble/_gb.py:494: DataConversionWarning: A column-vector y was passed when a 1d array was expected. Please change the shape of y to (n_samples, ), for example using ravel().\n",
            "  y = column_or_1d(y, warn=True)\n"
          ]
        },
        {
          "output_type": "execute_result",
          "data": {
            "text/plain": [
              "GradientBoostingClassifier()"
            ]
          },
          "metadata": {},
          "execution_count": 25
        }
      ]
    },
    {
      "cell_type": "markdown",
      "source": [
        "##Test gradient boosting classifier"
      ],
      "metadata": {
        "id": "l4QHR3-k1gJg"
      }
    },
    {
      "cell_type": "code",
      "source": [
        "from sklearn.metrics import accuracy_score\n",
        "from sklearn.metrics import roc_auc_score\n",
        "from sklearn.metrics import precision_score\n",
        "from sklearn.metrics import recall_score\n",
        "\n",
        "metrics_scores['gradboost'] = {}\n",
        "\n",
        "gb_pred = gb_clf.predict(x_test)\n",
        "gb_metrics = []\n",
        "gb_metrics.append(accuracy_score(y_test, gb_pred))\n",
        "gb_metrics.append(roc_auc_score(y_test, gb_pred))\n",
        "gb_metrics.append(precision_score(y_test, gb_pred))\n",
        "gb_metrics.append(recall_score(y_test, gb_pred))\n",
        "for i in range(len(metrics)):\n",
        "  metrics_scores['gradboost'][metrics[i]] = gb_metrics[i]\n",
        "for metric in metrics:\n",
        "  print(metric+':', metrics_scores['gradboost'][metric])"
      ],
      "metadata": {
        "colab": {
          "base_uri": "https://localhost:8080/"
        },
        "id": "9-7mLOZA1Ves",
        "outputId": "5e21c008-97e1-4c90-effb-c95f015401b8"
      },
      "execution_count": null,
      "outputs": [
        {
          "output_type": "stream",
          "name": "stdout",
          "text": [
            "accuracy: 0.8180094786729858\n",
            "roc_auc: 0.707135323745971\n",
            "precision: 0.6613756613756614\n",
            "recall: 0.49407114624505927\n"
          ]
        }
      ]
    },
    {
      "cell_type": "code",
      "source": [
        "metrics_scores"
      ],
      "metadata": {
        "colab": {
          "base_uri": "https://localhost:8080/"
        },
        "id": "mooriDaSOa7M",
        "outputId": "b8f9788f-3f82-4e8c-dbdc-3c303b9b243c"
      },
      "execution_count": null,
      "outputs": [
        {
          "output_type": "execute_result",
          "data": {
            "text/plain": [
              "{'gradboost': {'accuracy': 0.8180094786729858,\n",
              "  'precision': 0.6613756613756614,\n",
              "  'recall': 0.49407114624505927,\n",
              "  'roc_auc': 0.707135323745971},\n",
              " 'logregress': {'accuracy': 0.8180094786729858,\n",
              "  'precision': 0.641860465116279,\n",
              "  'recall': 0.5454545454545454,\n",
              "  'roc_auc': 0.7247222851961006},\n",
              " 'randforest': {'accuracy': 0.7990521327014218,\n",
              "  'precision': 0.6084656084656085,\n",
              "  'recall': 0.45454545454545453,\n",
              "  'roc_auc': 0.6811380639310814},\n",
              " 'tree': {'accuracy': 0.7317535545023697,\n",
              "  'precision': 0.44565217391304346,\n",
              "  'recall': 0.48616600790513836,\n",
              "  'roc_auc': 0.6476964702867338},\n",
              " 'treegrid': {'accuracy': 0.8037914691943128,\n",
              "  'precision': 0.6017699115044248,\n",
              "  'recall': 0.5375494071146245,\n",
              "  'roc_auc': 0.7126649778715267}}"
            ]
          },
          "metadata": {},
          "execution_count": 41
        }
      ]
    },
    {
      "cell_type": "markdown",
      "source": [
        "#ALL MODELS"
      ],
      "metadata": {
        "id": "Kz4l95xh03B8"
      }
    },
    {
      "cell_type": "code",
      "source": [
        "fig, axs = plt.subplots(1, 4, figsize = (31, 9))\n",
        "ind = 0\n",
        "for metric in metrics:\n",
        "  score = []\n",
        "  for model in metrics_scores.keys():\n",
        "    score.append(metrics_scores[model][metric])\n",
        "  print(score)\n",
        "  print(metrics_scores.keys())\n",
        "  ax = sns.barplot(x = list(metrics_scores.keys()), y=score, ax = axs[ind])\n",
        "  ax.title.set_text(metric)\n",
        "  ind+=1\n",
        "plt.show\n",
        "#sns.histplot(data=metrics, x = 'roc', ax = axs[1])\n",
        "#sns.histplot(data=metrics, x = 'precision', ax = axs[2])\n",
        "plt.suptitle('metrics')\n",
        "plt.show"
      ],
      "metadata": {
        "colab": {
          "base_uri": "https://localhost:8080/",
          "height": 759
        },
        "id": "jrqoLw6K2gko",
        "outputId": "04049f26-6853-4df2-d286-a0310dd23cfc"
      },
      "execution_count": null,
      "outputs": [
        {
          "output_type": "stream",
          "name": "stdout",
          "text": [
            "[0.7317535545023697, 0.8037914691943128, 0.7990521327014218, 0.8180094786729858, 0.8180094786729858]\n",
            "dict_keys(['tree', 'treegrid', 'randforest', 'logregress', 'gradboost'])\n",
            "[0.6476964702867338, 0.7126649778715267, 0.6811380639310814, 0.7247222851961006, 0.707135323745971]\n",
            "dict_keys(['tree', 'treegrid', 'randforest', 'logregress', 'gradboost'])\n",
            "[0.44565217391304346, 0.6017699115044248, 0.6084656084656085, 0.641860465116279, 0.6613756613756614]\n",
            "dict_keys(['tree', 'treegrid', 'randforest', 'logregress', 'gradboost'])\n",
            "[0.48616600790513836, 0.5375494071146245, 0.45454545454545453, 0.5454545454545454, 0.49407114624505927]\n",
            "dict_keys(['tree', 'treegrid', 'randforest', 'logregress', 'gradboost'])\n"
          ]
        },
        {
          "output_type": "execute_result",
          "data": {
            "text/plain": [
              "<function matplotlib.pyplot.show>"
            ]
          },
          "metadata": {},
          "execution_count": 60
        },
        {
          "output_type": "display_data",
          "data": {
            "image/png": "[encoded data removed]",
            "text/plain": [
              "<Figure size 2232x648 with 4 Axes>"
            ]
          },
          "metadata": {
            "needs_background": "light"
          }
        }
      ]
    }
  ]
}